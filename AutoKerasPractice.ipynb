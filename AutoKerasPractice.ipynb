{
 "cells": [
  {
   "cell_type": "code",
   "execution_count": 1,
   "id": "f16bb59b-213f-4765-9138-516e7371a82b",
   "metadata": {},
   "outputs": [
    {
     "name": "stderr",
     "output_type": "stream",
     "text": [
      "2023-07-10 08:30:09.756429: I tensorflow/core/platform/cpu_feature_guard.cc:182] This TensorFlow binary is optimized to use available CPU instructions in performance-critical operations.\n",
      "To enable the following instructions: AVX2 FMA, in other operations, rebuild TensorFlow with the appropriate compiler flags.\n"
     ]
    }
   ],
   "source": [
    "import autokeras as ak\n",
    "import pandas as pd\n",
    "from sklearn.model_selection import train_test_split\n",
    "from tensorflow.keras.preprocessing.text import Tokenizer\n",
    "from tensorflow.keras.preprocessing.sequence import pad_sequences"
   ]
  },
  {
   "cell_type": "code",
   "execution_count": 2,
   "id": "771598ef-9b41-4f30-86db-57ba7bbdec5d",
   "metadata": {},
   "outputs": [],
   "source": [
    "# 데이터 로드\n",
    "df = pd.read_csv('train.csv') \n",
    "\n",
    "# 텍스트 데이터가 500 미만의 길이를 갖도록 자르는 함수\n",
    "def trim_text(text, max_length=500):\n",
    "    words = text.split()[:max_length]\n",
    "    return ' '.join(words)\n",
    "\n",
    "# 데이터 전처리\n",
    "df['conversation'] = df['conversation'].apply(trim_text)\n",
    "\n",
    "# 클래스를 정수로 인코딩\n",
    "class_dict = {class_name: i for i, class_name in enumerate(df['class'].unique())}\n",
    "df['class'] = df['class'].map(class_dict)\n",
    "\n",
    "# 데이터를 학습 및 테스트 데이터로 분리\n",
    "X_train, X_test, y_train, y_test = train_test_split(df['conversation'].values, df['class'].values, test_size=0.1, random_state=42)\n"
   ]
  },
  {
   "cell_type": "code",
   "execution_count": 3,
   "id": "d3557ed5-1127-4d99-a79b-9bec2a7dd058",
   "metadata": {},
   "outputs": [
    {
     "name": "stdout",
     "output_type": "stream",
     "text": [
      "Trial 3 Complete [00h 15m 35s]\n",
      "val_loss: 0.5487021207809448\n",
      "\n",
      "Best val_loss So Far: 0.25612106919288635\n",
      "Total elapsed time: 00h 16m 16s\n",
      "INFO:tensorflow:Oracle triggered exit\n",
      "Epoch 1/10\n",
      "112/112 [==============================] - 12s 97ms/step - loss: 0.5629 - accuracy: 0.3015\n",
      "Epoch 2/10\n",
      "112/112 [==============================] - 0s 4ms/step - loss: 0.4197 - accuracy: 0.6127\n",
      "Epoch 3/10\n",
      "112/112 [==============================] - 0s 4ms/step - loss: 0.2404 - accuracy: 0.8222\n",
      "Epoch 4/10\n",
      "112/112 [==============================] - 0s 4ms/step - loss: 0.1216 - accuracy: 0.9201\n",
      "Epoch 5/10\n",
      "112/112 [==============================] - 1s 4ms/step - loss: 0.0555 - accuracy: 0.9727\n",
      "Epoch 6/10\n",
      "112/112 [==============================] - 0s 4ms/step - loss: 0.0245 - accuracy: 0.9910\n",
      "Epoch 7/10\n",
      "112/112 [==============================] - 0s 4ms/step - loss: 0.0139 - accuracy: 0.9941\n",
      "Epoch 8/10\n",
      "112/112 [==============================] - 0s 4ms/step - loss: 0.0070 - accuracy: 0.9983\n",
      "Epoch 9/10\n",
      "112/112 [==============================] - 0s 4ms/step - loss: 0.0036 - accuracy: 0.9997\n",
      "Epoch 10/10\n",
      "112/112 [==============================] - 0s 4ms/step - loss: 0.0026 - accuracy: 0.9997\n",
      "INFO:tensorflow:Assets written to: ./text_classifier/best_model/assets\n"
     ]
    },
    {
     "name": "stderr",
     "output_type": "stream",
     "text": [
      "INFO:tensorflow:Assets written to: ./text_classifier/best_model/assets\n"
     ]
    },
    {
     "name": "stdout",
     "output_type": "stream",
     "text": [
      "\n",
      "\n",
      "End of train at: 0:16:35.482694\n"
     ]
    }
   ],
   "source": [
    "from datetime import datetime\n",
    "\n",
    "# AutoKeras text classifier\n",
    "clf = ak.TextClassifier(\n",
    "    overwrite=True, \n",
    "    max_trials=3,\n",
    "    multi_label=True,\n",
    ")\n",
    "\n",
    "start = datetime.now()\n",
    "# 모델 학습\n",
    "clf.fit(X_train, y_train, epochs=10, validation_split=0.15)\n",
    "\n",
    "print(f'\\n\\nEnd of train at: {datetime.now()-start}')\n"
   ]
  },
  {
   "cell_type": "code",
   "execution_count": 4,
   "id": "165a232b-73f2-41df-9cd3-845a089e4c70",
   "metadata": {},
   "outputs": [
    {
     "name": "stdout",
     "output_type": "stream",
     "text": [
      "13/13 [==============================] - 0s 5ms/step - loss: 0.3964 - accuracy: 0.8177\n",
      "[0.39644014835357666, 0.8177215456962585]\n"
     ]
    }
   ],
   "source": [
    "# 모델 평가\n",
    "print(clf.evaluate(X_test, y_test))"
   ]
  },
  {
   "cell_type": "code",
   "execution_count": 5,
   "id": "976d5e82-0a00-4449-b738-61eac535326e",
   "metadata": {},
   "outputs": [],
   "source": [
    "model = clf.export_model()"
   ]
  },
  {
   "cell_type": "code",
   "execution_count": 6,
   "id": "87b50562-b805-474f-833b-d62ae987c558",
   "metadata": {},
   "outputs": [
    {
     "name": "stdout",
     "output_type": "stream",
     "text": [
      "Model: \"model\"\n",
      "_________________________________________________________________\n",
      " Layer (type)                Output Shape              Param #   \n",
      "=================================================================\n",
      " input_1 (InputLayer)        [(None,)]                 0         \n",
      "                                                                 \n",
      " expand_last_dim (ExpandLas  (None, 1)                 0         \n",
      " tDim)                                                           \n",
      "                                                                 \n",
      " text_vectorization (TextVe  (None, 512)               0         \n",
      " ctorization)                                                    \n",
      "                                                                 \n",
      " embedding (Embedding)       (None, 512, 64)           320064    \n",
      "                                                                 \n",
      " dropout (Dropout)           (None, 512, 64)           0         \n",
      "                                                                 \n",
      " conv1d (Conv1D)             (None, 508, 256)          82176     \n",
      "                                                                 \n",
      " global_max_pooling1d (Glob  (None, 256)               0         \n",
      " alMaxPooling1D)                                                 \n",
      "                                                                 \n",
      " dense (Dense)               (None, 256)               65792     \n",
      "                                                                 \n",
      " re_lu (ReLU)                (None, 256)               0         \n",
      "                                                                 \n",
      " dropout_1 (Dropout)         (None, 256)               0         \n",
      "                                                                 \n",
      " dense_1 (Dense)             (None, 4)                 1028      \n",
      "                                                                 \n",
      " classification_head_1 (Act  (None, 4)                 0         \n",
      " ivation)                                                        \n",
      "                                                                 \n",
      "=================================================================\n",
      "Total params: 469060 (1.79 MB)\n",
      "Trainable params: 469060 (1.79 MB)\n",
      "Non-trainable params: 0 (0.00 Byte)\n",
      "_________________________________________________________________\n"
     ]
    }
   ],
   "source": [
    "model.summary()"
   ]
  },
  {
   "cell_type": "code",
   "execution_count": null,
   "id": "9719dd07-4ea8-4faa-a8bc-932e6958825e",
   "metadata": {},
   "outputs": [],
   "source": []
  },
  {
   "cell_type": "code",
   "execution_count": null,
   "id": "020659c5-519e-43e7-a641-83c08df4ae6d",
   "metadata": {},
   "outputs": [],
   "source": []
  }
 ],
 "metadata": {
  "kernelspec": {
   "display_name": "Python 3 (ipykernel)",
   "language": "python",
   "name": "python3"
  },
  "language_info": {
   "codemirror_mode": {
    "name": "ipython",
    "version": 3
   },
   "file_extension": ".py",
   "mimetype": "text/x-python",
   "name": "python",
   "nbconvert_exporter": "python",
   "pygments_lexer": "ipython3",
   "version": "3.8.10"
  }
 },
 "nbformat": 4,
 "nbformat_minor": 5
}
