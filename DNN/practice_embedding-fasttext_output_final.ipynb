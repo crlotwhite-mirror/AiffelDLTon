{
 "cells": [
  {
   "cell_type": "code",
   "execution_count": 1,
   "metadata": {
    "ExecuteTime": {
     "end_time": "2023-07-07T06:03:07.450983500Z",
     "start_time": "2023-07-07T06:03:05.842815Z"
    }
   },
   "outputs": [],
   "source": [
    "import pandas as pd\n",
    "import numpy as np\n",
    "from sklearn.model_selection import train_test_split\n",
    "from sklearn.preprocessing import LabelEncoder\n",
    "from konlpy.tag import Mecab,Okt\n",
    "from keras.preprocessing.text import Tokenizer\n",
    "from keras_preprocessing.sequence import pad_sequences\n",
    "from keras.models import Sequential\n",
    "from keras.layers import Dense, Embedding, Flatten"
   ]
  },
  {
   "cell_type": "markdown",
   "metadata": {},
   "source": []
  },
  {
   "cell_type": "code",
   "execution_count": 2,
   "metadata": {
    "ExecuteTime": {
     "end_time": "2023-07-07T06:03:07.495874700Z",
     "start_time": "2023-07-07T06:03:07.451982100Z"
    }
   },
   "outputs": [
    {
     "data": {
      "text/html": [
       "<div>\n",
       "<style scoped>\n",
       "    .dataframe tbody tr th:only-of-type {\n",
       "        vertical-align: middle;\n",
       "    }\n",
       "\n",
       "    .dataframe tbody tr th {\n",
       "        vertical-align: top;\n",
       "    }\n",
       "\n",
       "    .dataframe thead th {\n",
       "        text-align: right;\n",
       "    }\n",
       "</style>\n",
       "<table border=\"1\" class=\"dataframe\">\n",
       "  <thead>\n",
       "    <tr style=\"text-align: right;\">\n",
       "      <th></th>\n",
       "      <th>idx</th>\n",
       "      <th>class</th>\n",
       "      <th>conversation</th>\n",
       "    </tr>\n",
       "  </thead>\n",
       "  <tbody>\n",
       "    <tr>\n",
       "      <th>0</th>\n",
       "      <td>0</td>\n",
       "      <td>협박 대화</td>\n",
       "      <td>지금 너 스스로를 죽여달라고 애원하는 것인가?\\n 아닙니다. 죄송합니다.\\n 죽을 ...</td>\n",
       "    </tr>\n",
       "    <tr>\n",
       "      <th>1</th>\n",
       "      <td>1</td>\n",
       "      <td>협박 대화</td>\n",
       "      <td>길동경찰서입니다.\\n9시 40분 마트에 폭발물을 설치할거다.\\n네?\\n똑바로 들어 ...</td>\n",
       "    </tr>\n",
       "    <tr>\n",
       "      <th>2</th>\n",
       "      <td>2</td>\n",
       "      <td>기타 괴롭힘 대화</td>\n",
       "      <td>너 되게 귀여운거 알지? 나보다 작은 남자는 첨봤어.\\n그만해. 니들 놀리는거 재미...</td>\n",
       "    </tr>\n",
       "    <tr>\n",
       "      <th>3</th>\n",
       "      <td>3</td>\n",
       "      <td>갈취 대화</td>\n",
       "      <td>어이 거기\\n예??\\n너 말이야 너. 이리 오라고\\n무슨 일.\\n너 옷 좋아보인다?...</td>\n",
       "    </tr>\n",
       "    <tr>\n",
       "      <th>4</th>\n",
       "      <td>4</td>\n",
       "      <td>갈취 대화</td>\n",
       "      <td>저기요 혹시 날이 너무 뜨겁잖아요? 저희 회사에서 이 선크림 파는데 한 번 손등에 ...</td>\n",
       "    </tr>\n",
       "  </tbody>\n",
       "</table>\n",
       "</div>"
      ],
      "text/plain": [
       "   idx      class                                       conversation\n",
       "0    0      협박 대화  지금 너 스스로를 죽여달라고 애원하는 것인가?\\n 아닙니다. 죄송합니다.\\n 죽을 ...\n",
       "1    1      협박 대화  길동경찰서입니다.\\n9시 40분 마트에 폭발물을 설치할거다.\\n네?\\n똑바로 들어 ...\n",
       "2    2  기타 괴롭힘 대화  너 되게 귀여운거 알지? 나보다 작은 남자는 첨봤어.\\n그만해. 니들 놀리는거 재미...\n",
       "3    3      갈취 대화  어이 거기\\n예??\\n너 말이야 너. 이리 오라고\\n무슨 일.\\n너 옷 좋아보인다?...\n",
       "4    4      갈취 대화  저기요 혹시 날이 너무 뜨겁잖아요? 저희 회사에서 이 선크림 파는데 한 번 손등에 ..."
      ]
     },
     "execution_count": 2,
     "metadata": {},
     "output_type": "execute_result"
    }
   ],
   "source": [
    "# 데이터 불러오기\n",
    "data = pd.read_csv('./data/train.csv')\n",
    "data.head()"
   ]
  },
  {
   "cell_type": "code",
   "execution_count": 3,
   "metadata": {
    "ExecuteTime": {
     "end_time": "2023-07-07T06:03:07.514584500Z",
     "start_time": "2023-07-07T06:03:07.496874700Z"
    }
   },
   "outputs": [],
   "source": [
    "# class 열을 숫자로 변환\n",
    "encoder = LabelEncoder()\n",
    "data['class'] = encoder.fit_transform(data['class'])"
   ]
  },
  {
   "cell_type": "code",
   "execution_count": 4,
   "metadata": {
    "ExecuteTime": {
     "end_time": "2023-07-07T06:03:27.184988900Z",
     "start_time": "2023-07-07T06:03:07.511581800Z"
    },
    "scrolled": true
   },
   "outputs": [],
   "source": [
    "# konlpy의 Mecab을 이용한 토큰화\n",
    "mecab = Okt()\n",
    "data['conversation'] = data['conversation'].apply(mecab.morphs)\n",
    "#data['conversation'] = [mecab.morphs(sentence) for sentence in data['conversation']]"
   ]
  },
  {
   "cell_type": "code",
   "execution_count": 5,
   "metadata": {
    "ExecuteTime": {
     "end_time": "2023-07-07T06:03:27.200882500Z",
     "start_time": "2023-07-07T06:03:27.184988900Z"
    }
   },
   "outputs": [
    {
     "data": {
      "text/html": [
       "<div>\n",
       "<style scoped>\n",
       "    .dataframe tbody tr th:only-of-type {\n",
       "        vertical-align: middle;\n",
       "    }\n",
       "\n",
       "    .dataframe tbody tr th {\n",
       "        vertical-align: top;\n",
       "    }\n",
       "\n",
       "    .dataframe thead th {\n",
       "        text-align: right;\n",
       "    }\n",
       "</style>\n",
       "<table border=\"1\" class=\"dataframe\">\n",
       "  <thead>\n",
       "    <tr style=\"text-align: right;\">\n",
       "      <th></th>\n",
       "      <th>idx</th>\n",
       "      <th>class</th>\n",
       "      <th>conversation</th>\n",
       "    </tr>\n",
       "  </thead>\n",
       "  <tbody>\n",
       "    <tr>\n",
       "      <th>0</th>\n",
       "      <td>0</td>\n",
       "      <td>3</td>\n",
       "      <td>[지금, 너, 스스로, 를, 죽여, 달라, 고, 애원, 하는, 것, 인가, ?, \\...</td>\n",
       "    </tr>\n",
       "    <tr>\n",
       "      <th>1</th>\n",
       "      <td>1</td>\n",
       "      <td>3</td>\n",
       "      <td>[길동, 경찰서, 입니다, ., \\n, 9시, 40분, 마트, 에, 폭발물, 을, ...</td>\n",
       "    </tr>\n",
       "    <tr>\n",
       "      <th>2</th>\n",
       "      <td>2</td>\n",
       "      <td>1</td>\n",
       "      <td>[너, 되게, 귀여운거, 알, 지, ?, 나, 보다, 작은, 남자, 는, 첨, 봤어...</td>\n",
       "    </tr>\n",
       "    <tr>\n",
       "      <th>3</th>\n",
       "      <td>3</td>\n",
       "      <td>0</td>\n",
       "      <td>[어이, 거기, \\n, 예, ??, \\n, 너, 말, 이야, 너, ., 이리, 오라...</td>\n",
       "    </tr>\n",
       "    <tr>\n",
       "      <th>4</th>\n",
       "      <td>4</td>\n",
       "      <td>0</td>\n",
       "      <td>[저기, 요, 혹시, 날, 이, 너무, 뜨겁잖아요, ?, 저희, 회사, 에서, 이,...</td>\n",
       "    </tr>\n",
       "  </tbody>\n",
       "</table>\n",
       "</div>"
      ],
      "text/plain": [
       "   idx  class                                       conversation\n",
       "0    0      3  [지금, 너, 스스로, 를, 죽여, 달라, 고, 애원, 하는, 것, 인가, ?, \\...\n",
       "1    1      3  [길동, 경찰서, 입니다, ., \\n, 9시, 40분, 마트, 에, 폭발물, 을, ...\n",
       "2    2      1  [너, 되게, 귀여운거, 알, 지, ?, 나, 보다, 작은, 남자, 는, 첨, 봤어...\n",
       "3    3      0  [어이, 거기, \\n, 예, ??, \\n, 너, 말, 이야, 너, ., 이리, 오라...\n",
       "4    4      0  [저기, 요, 혹시, 날, 이, 너무, 뜨겁잖아요, ?, 저희, 회사, 에서, 이,..."
      ]
     },
     "execution_count": 5,
     "metadata": {},
     "output_type": "execute_result"
    }
   ],
   "source": [
    "data.head()"
   ]
  },
  {
   "cell_type": "code",
   "execution_count": 6,
   "metadata": {
    "ExecuteTime": {
     "end_time": "2023-07-07T06:03:27.404810300Z",
     "start_time": "2023-07-07T06:03:27.200882500Z"
    }
   },
   "outputs": [],
   "source": [
    "# 케라스를 이용한 정수 인코딩\n",
    "tokenizer = Tokenizer()\n",
    "tokenizer.fit_on_texts(data['conversation'])\n",
    "sequences = tokenizer.texts_to_sequences(data['conversation'])"
   ]
  },
  {
   "cell_type": "code",
   "execution_count": 7,
   "metadata": {
    "ExecuteTime": {
     "end_time": "2023-07-07T06:03:27.420434300Z",
     "start_time": "2023-07-07T06:03:27.404810300Z"
    }
   },
   "outputs": [],
   "source": [
    "# 입력 데이터 패딩 처리 \n",
    "#data_pad = pad_sequences(sequences)   #hjnam\n",
    "\n",
    "#hjnam\n",
    "word_index = tokenizer.word_index\n",
    "index_word = {idx: word for word, idx in word_index.items()}\n",
    "data_pad = [[index_word[idx] for idx in seq if idx != 0] for seq in sequences]"
   ]
  },
  {
   "cell_type": "code",
   "execution_count": 8,
   "metadata": {},
   "outputs": [
    {
     "name": "stdout",
     "output_type": "stream",
     "text": [
      "108\n"
     ]
    }
   ],
   "source": [
    "print(len(data_pad[0]))"
   ]
  },
  {
   "cell_type": "code",
   "execution_count": 9,
   "metadata": {},
   "outputs": [],
   "source": [
    "from gensim.models import FastText\n",
    "fasttext_model = FastText(data_pad, window=5, min_count=5, workers=4, sg=1)\n",
    "\n",
    "embedding_dim = fasttext_model.vector_size"
   ]
  },
  {
   "cell_type": "markdown",
   "metadata": {},
   "source": [
    "for i in range(4,vocab_size):\n",
    "                if index_word[i] in fasttext_model.wv:\n",
    "                embedding_matrix[i] = fasttext_model.wv[index_word[i]]\n",
    "            "
   ]
  },
  {
   "cell_type": "code",
   "execution_count": 10,
   "metadata": {},
   "outputs": [],
   "source": [
    "data_embeddings = []\n",
    "\n",
    "for tokens in data_pad:\n",
    "    sample_vectors = []\n",
    "    \n",
    "    for token in tokens:\n",
    "        if token in fasttext_model.wv:\n",
    "            word_vector = fasttext_model.wv.get_vector(token)\n",
    "            sample_vectors.append(word_vector)\n",
    "    \n",
    "    # Add the sample vectors to the list of embeddings\n",
    "    data_embeddings.append(sample_vectors)\n",
    "\n",
    "# Pad the sequences of word vectors to have the same length\n",
    "max_length = max(len(sample) for sample in data_embeddings)\n",
    "data_embeddings = pad_sequences(data_embeddings, maxlen=max_length, dtype='float32')\n",
    "\n",
    "# Split the data into training and validation sets\n",
    "X_train, X_val, y_train, y_val = train_test_split(data_embeddings, data['class'], test_size=0.2, random_state=42)\n"
   ]
  },
  {
   "cell_type": "code",
   "execution_count": 11,
   "metadata": {
    "ExecuteTime": {
     "end_time": "2023-07-07T06:03:27.452074200Z",
     "start_time": "2023-07-07T06:03:27.436443200Z"
    }
   },
   "outputs": [],
   "source": [
    "def get_mlp():\n",
    "    # MLP 모델 생성\n",
    "    model = Sequential()\n",
    "    #model.add(Embedding(len(tokenizer.word_index)+1, 128, input_length=data_pad.shape[1]))\n",
    "    #model.add(Embedding(len(tokenizer.word_index)+1, 128, input_length=len(data_pad)))  #hjnam\n",
    "    model.add(Flatten())\n",
    "    model.add(Dense(64, activation='relu'))\n",
    "    model.add(Dense(len(data['class'].unique()), activation='softmax'))\n",
    "    return model"
   ]
  },
  {
   "cell_type": "code",
   "execution_count": 12,
   "metadata": {},
   "outputs": [
    {
     "data": {
      "text/plain": [
       "(359, 100)"
      ]
     },
     "execution_count": 12,
     "metadata": {},
     "output_type": "execute_result"
    }
   ],
   "source": [
    "max_length, embedding_dim"
   ]
  },
  {
   "cell_type": "code",
   "execution_count": 13,
   "metadata": {
    "ExecuteTime": {
     "end_time": "2023-07-07T06:03:28.299880500Z",
     "start_time": "2023-07-07T06:03:27.483323Z"
    },
    "scrolled": false
   },
   "outputs": [
    {
     "name": "stdout",
     "output_type": "stream",
     "text": [
      "Model: \"sequential\"\n",
      "_________________________________________________________________\n",
      "Layer (type)                 Output Shape              Param #   \n",
      "=================================================================\n",
      "flatten (Flatten)            (None, 35900)             0         \n",
      "_________________________________________________________________\n",
      "dense (Dense)                (None, 64)                2297664   \n",
      "_________________________________________________________________\n",
      "dense_1 (Dense)              (None, 4)                 260       \n",
      "=================================================================\n",
      "Total params: 2,297,924\n",
      "Trainable params: 2,297,924\n",
      "Non-trainable params: 0\n",
      "_________________________________________________________________\n"
     ]
    }
   ],
   "source": [
    "model = get_mlp()\n",
    "model.build(input_shape=(None, max_length, embedding_dim))  #hjnam\n",
    "model.summary()"
   ]
  },
  {
   "cell_type": "code",
   "execution_count": 14,
   "metadata": {
    "ExecuteTime": {
     "end_time": "2023-07-07T06:03:27.467699200Z",
     "start_time": "2023-07-07T06:03:27.452074200Z"
    }
   },
   "outputs": [],
   "source": [
    "from keras.layers import Conv1D, GlobalMaxPooling1D\n",
    "\n",
    "def get_cnn():\n",
    "    # CNN 모델 생성\n",
    "    model = Sequential()\n",
    "    #model.add(Embedding(len(tokenizer.word_index)+1, 128, input_length=data_pad.shape[1]))\n",
    "    #model.add(Embedding(len(tokenizer.word_index)+1, 128, input_length=len(data_pad))) #hjnam\n",
    "    model.add(Conv1D(128, 5, activation='relu'))\n",
    "    model.add(GlobalMaxPooling1D())\n",
    "    model.add(Dense(64, activation='relu'))\n",
    "    model.add(Dense(len(data['class'].unique()), activation='softmax'))\n",
    "\n",
    "    return model\n"
   ]
  },
  {
   "cell_type": "code",
   "execution_count": 15,
   "metadata": {
    "ExecuteTime": {
     "end_time": "2023-07-07T06:03:28.299880500Z",
     "start_time": "2023-07-07T06:03:27.483323Z"
    },
    "scrolled": true
   },
   "outputs": [
    {
     "name": "stdout",
     "output_type": "stream",
     "text": [
      "Model: \"sequential_1\"\n",
      "_________________________________________________________________\n",
      "Layer (type)                 Output Shape              Param #   \n",
      "=================================================================\n",
      "conv1d (Conv1D)              (None, 355, 128)          64128     \n",
      "_________________________________________________________________\n",
      "global_max_pooling1d (Global (None, 128)               0         \n",
      "_________________________________________________________________\n",
      "dense_2 (Dense)              (None, 64)                8256      \n",
      "_________________________________________________________________\n",
      "dense_3 (Dense)              (None, 4)                 260       \n",
      "=================================================================\n",
      "Total params: 72,644\n",
      "Trainable params: 72,644\n",
      "Non-trainable params: 0\n",
      "_________________________________________________________________\n"
     ]
    }
   ],
   "source": [
    "model = get_cnn()\n",
    "model.build(input_shape=(None, max_length, embedding_dim))  #hjnam\n",
    "model.summary()"
   ]
  },
  {
   "cell_type": "code",
   "execution_count": 16,
   "metadata": {},
   "outputs": [],
   "source": [
    "from keras.layers import LSTM, Dropout\n",
    "from keras.layers import Input, Reshape\n",
    "\n",
    "def get_lstm():\n",
    "    # LSTM 모델 생성\n",
    "    model = Sequential()\n",
    "    #model.add(Embedding(len(tokenizer.word_index)+1, 128, input_length=data_pad.shape[1]))\n",
    "    #model.add(Embedding(len(tokenizer.word_index)+1, 128, input_length=tokenized.shape[1]))\n",
    "    #model.add(Input(shape=(len(tokenizer.word_index)+1, vector_size)))\n",
    "    #model.add(Input(shape=(vector_size))) #hjnam\n",
    "    #model.add(Reshape((1, vector_size))) #hjnam\n",
    "    #model.add(Reshape((vector_size))) #hjnam\n",
    "    model.add(LSTM(64))\n",
    "    model.add(Dense(64, activation='relu'))\n",
    "    model.add(Dropout(0.3))\n",
    "    model.add(Dense(len(data['class'].unique()), activation='softmax'))\n",
    "\n",
    "    return model\n"
   ]
  },
  {
   "cell_type": "code",
   "execution_count": 17,
   "metadata": {
    "ExecuteTime": {
     "end_time": "2023-07-07T06:03:28.299880500Z",
     "start_time": "2023-07-07T06:03:27.483323Z"
    },
    "scrolled": false
   },
   "outputs": [
    {
     "name": "stdout",
     "output_type": "stream",
     "text": [
      "Model: \"sequential_2\"\n",
      "_________________________________________________________________\n",
      "Layer (type)                 Output Shape              Param #   \n",
      "=================================================================\n",
      "lstm (LSTM)                  (None, 64)                42240     \n",
      "_________________________________________________________________\n",
      "dense_4 (Dense)              (None, 64)                4160      \n",
      "_________________________________________________________________\n",
      "dropout (Dropout)            (None, 64)                0         \n",
      "_________________________________________________________________\n",
      "dense_5 (Dense)              (None, 4)                 260       \n",
      "=================================================================\n",
      "Total params: 46,660\n",
      "Trainable params: 46,660\n",
      "Non-trainable params: 0\n",
      "_________________________________________________________________\n"
     ]
    }
   ],
   "source": [
    "model = get_lstm()\n",
    "model.build(input_shape=(None, max_length, embedding_dim))  #hjnam\n",
    "model.summary()"
   ]
  },
  {
   "cell_type": "code",
   "execution_count": 18,
   "metadata": {
    "ExecuteTime": {
     "end_time": "2023-07-07T06:03:28.347234700Z",
     "start_time": "2023-07-07T06:03:28.299880500Z"
    }
   },
   "outputs": [],
   "source": [
    "# 모델 컴파일\n",
    "model.compile(optimizer='adam', loss='sparse_categorical_crossentropy', metrics=['accuracy'])"
   ]
  },
  {
   "cell_type": "code",
   "execution_count": 19,
   "metadata": {
    "scrolled": true
   },
   "outputs": [
    {
     "data": {
      "text/plain": [
       "(3160, 3160)"
      ]
     },
     "execution_count": 19,
     "metadata": {},
     "output_type": "execute_result"
    }
   ],
   "source": [
    "len(X_train), len(y_train)"
   ]
  },
  {
   "cell_type": "code",
   "execution_count": 20,
   "metadata": {
    "ExecuteTime": {
     "end_time": "2023-07-07T06:05:02.797235300Z",
     "start_time": "2023-07-07T06:03:28.315593400Z"
    },
    "scrolled": false
   },
   "outputs": [
    {
     "name": "stdout",
     "output_type": "stream",
     "text": [
      "Epoch 1/30\n",
      "99/99 [==============================] - 8s 41ms/step - loss: 1.0021 - accuracy: 0.5763 - val_loss: 0.8191 - val_accuracy: 0.6582\n",
      "Epoch 2/30\n",
      "99/99 [==============================] - 1s 14ms/step - loss: 0.6981 - accuracy: 0.7532 - val_loss: 0.6519 - val_accuracy: 0.7696\n",
      "Epoch 3/30\n",
      "99/99 [==============================] - 2s 17ms/step - loss: 0.6148 - accuracy: 0.7791 - val_loss: 0.5887 - val_accuracy: 0.7886\n",
      "Epoch 4/30\n",
      "99/99 [==============================] - 1s 14ms/step - loss: 0.6053 - accuracy: 0.7848 - val_loss: 0.5615 - val_accuracy: 0.8025\n",
      "Epoch 5/30\n",
      "99/99 [==============================] - 1s 14ms/step - loss: 0.5843 - accuracy: 0.7994 - val_loss: 0.5962 - val_accuracy: 0.7873\n",
      "Epoch 6/30\n",
      "99/99 [==============================] - 1s 14ms/step - loss: 0.5380 - accuracy: 0.8092 - val_loss: 0.6312 - val_accuracy: 0.7443\n",
      "Epoch 7/30\n",
      "99/99 [==============================] - 1s 14ms/step - loss: 0.5676 - accuracy: 0.8022 - val_loss: 0.5479 - val_accuracy: 0.7937\n",
      "Epoch 8/30\n",
      "99/99 [==============================] - 1s 14ms/step - loss: 0.4879 - accuracy: 0.8282 - val_loss: 0.5227 - val_accuracy: 0.7975\n",
      "Epoch 9/30\n",
      "99/99 [==============================] - 1s 14ms/step - loss: 0.5053 - accuracy: 0.8177 - val_loss: 0.7402 - val_accuracy: 0.6506\n",
      "Epoch 10/30\n",
      "99/99 [==============================] - 1s 14ms/step - loss: 0.6155 - accuracy: 0.7722 - val_loss: 0.8250 - val_accuracy: 0.6861\n",
      "Epoch 11/30\n",
      "99/99 [==============================] - 1s 14ms/step - loss: 0.6222 - accuracy: 0.7677 - val_loss: 0.5828 - val_accuracy: 0.7848\n",
      "Epoch 12/30\n",
      "99/99 [==============================] - 1s 14ms/step - loss: 0.5488 - accuracy: 0.8009 - val_loss: 0.6759 - val_accuracy: 0.7557\n",
      "Epoch 13/30\n",
      "99/99 [==============================] - 1s 14ms/step - loss: 0.5238 - accuracy: 0.8089 - val_loss: 0.5706 - val_accuracy: 0.8013\n",
      "Epoch 14/30\n",
      "99/99 [==============================] - 1s 14ms/step - loss: 0.5058 - accuracy: 0.8104 - val_loss: 0.6167 - val_accuracy: 0.7797\n",
      "Epoch 15/30\n",
      "99/99 [==============================] - 1s 14ms/step - loss: 0.4787 - accuracy: 0.8294 - val_loss: 0.5680 - val_accuracy: 0.8013\n",
      "Epoch 16/30\n",
      "99/99 [==============================] - 1s 14ms/step - loss: 0.4615 - accuracy: 0.8386 - val_loss: 0.5221 - val_accuracy: 0.8076\n",
      "Epoch 17/30\n",
      "99/99 [==============================] - 1s 14ms/step - loss: 0.4420 - accuracy: 0.8459 - val_loss: 0.5177 - val_accuracy: 0.8177\n",
      "Epoch 18/30\n",
      "99/99 [==============================] - 1s 14ms/step - loss: 0.4186 - accuracy: 0.8547 - val_loss: 0.5410 - val_accuracy: 0.8051\n",
      "Epoch 19/30\n",
      "99/99 [==============================] - 1s 14ms/step - loss: 0.4196 - accuracy: 0.8424 - val_loss: 0.5254 - val_accuracy: 0.8025\n",
      "Epoch 20/30\n",
      "99/99 [==============================] - 1s 14ms/step - loss: 0.3977 - accuracy: 0.8633 - val_loss: 0.4801 - val_accuracy: 0.8278\n",
      "Epoch 21/30\n",
      "99/99 [==============================] - 1s 14ms/step - loss: 0.4023 - accuracy: 0.8633 - val_loss: 0.5271 - val_accuracy: 0.8165\n",
      "Epoch 22/30\n",
      "99/99 [==============================] - 1s 14ms/step - loss: 0.3890 - accuracy: 0.8601 - val_loss: 0.5123 - val_accuracy: 0.8127\n",
      "Epoch 23/30\n",
      "99/99 [==============================] - 1s 14ms/step - loss: 0.3625 - accuracy: 0.8693 - val_loss: 0.4858 - val_accuracy: 0.8278\n",
      "Epoch 24/30\n",
      "99/99 [==============================] - 1s 14ms/step - loss: 0.3446 - accuracy: 0.8797 - val_loss: 0.5725 - val_accuracy: 0.8152\n",
      "Epoch 25/30\n",
      "99/99 [==============================] - 1s 14ms/step - loss: 0.3442 - accuracy: 0.8820 - val_loss: 0.5014 - val_accuracy: 0.8190\n",
      "Epoch 26/30\n",
      "99/99 [==============================] - 1s 14ms/step - loss: 0.3556 - accuracy: 0.8785 - val_loss: 0.5583 - val_accuracy: 0.8038\n",
      "Epoch 27/30\n",
      "99/99 [==============================] - 1s 14ms/step - loss: 0.3551 - accuracy: 0.8807 - val_loss: 0.4852 - val_accuracy: 0.8278\n",
      "Epoch 28/30\n",
      "99/99 [==============================] - 1s 14ms/step - loss: 0.3316 - accuracy: 0.8877 - val_loss: 0.5081 - val_accuracy: 0.8291\n",
      "Epoch 29/30\n",
      "99/99 [==============================] - 1s 14ms/step - loss: 0.3219 - accuracy: 0.8902 - val_loss: 0.5250 - val_accuracy: 0.8215\n",
      "Epoch 30/30\n",
      "99/99 [==============================] - 1s 14ms/step - loss: 0.3183 - accuracy: 0.8880 - val_loss: 0.5134 - val_accuracy: 0.8329\n"
     ]
    }
   ],
   "source": [
    "# 모델 학습\n",
    "history = model.fit(X_train, y_train, validation_data=(X_val, y_val), epochs=30)"
   ]
  },
  {
   "cell_type": "code",
   "execution_count": 21,
   "metadata": {
    "ExecuteTime": {
     "end_time": "2023-07-07T06:05:02.813090700Z",
     "start_time": "2023-07-07T06:05:02.797235300Z"
    }
   },
   "outputs": [],
   "source": [
    "def train(get_model):\n",
    "    model = get_model()\n",
    "    model.summary()\n",
    "    # 모델 컴파일\n",
    "    model.compile(optimizer='adam', loss='sparse_categorical_crossentropy', metrics=['accuracy'])\n",
    "    # 모델 학습\n",
    "    history = model.fit(X_train, y_train, validation_data=(X_val, y_val), epochs=50)\n",
    "    return model, history"
   ]
  },
  {
   "cell_type": "code",
   "execution_count": 22,
   "metadata": {
    "ExecuteTime": {
     "end_time": "2023-07-07T06:05:03.487628900Z",
     "start_time": "2023-07-07T06:05:02.813090700Z"
    },
    "scrolled": false
   },
   "outputs": [
    {
     "data": {
      "image/png": "[encoded data removed]",
      "text/plain": [
       "<Figure size 432x288 with 1 Axes>"
      ]
     },
     "metadata": {
      "needs_background": "light"
     },
     "output_type": "display_data"
    },
    {
     "data": {
      "image/png": "[encoded data removed]",
      "text/plain": [
       "<Figure size 432x288 with 1 Axes>"
      ]
     },
     "metadata": {
      "needs_background": "light"
     },
     "output_type": "display_data"
    }
   ],
   "source": [
    "import matplotlib.pyplot as plt\n",
    "\n",
    "def visualization(history):\n",
    "    # 시각화를 위한 데이터 정의\n",
    "    loss = history.history['loss']\n",
    "    val_loss = history.history['val_loss']\n",
    "    accuracy = history.history['accuracy']\n",
    "    val_accuracy = history.history['val_accuracy']\n",
    "\n",
    "    epochs = range(1, len(loss) + 1)\n",
    "\n",
    "    # 손실값 시각화\n",
    "    plt.figure()\n",
    "    plt.plot(epochs, loss, 'bo', label='Training loss')\n",
    "    plt.plot(epochs, val_loss, 'b', label='Validation loss')\n",
    "    plt.title('Training and validation loss')\n",
    "    plt.legend()\n",
    "\n",
    "    plt.show()\n",
    "\n",
    "    # 정확도 시각화\n",
    "    plt.figure()\n",
    "    plt.plot(epochs, accuracy, 'bo', label='Training accuracy')\n",
    "    plt.plot(epochs, val_accuracy, 'b', label='Validation accuracy')\n",
    "    plt.title('Training and validation accuracy')\n",
    "    plt.legend()\n",
    "\n",
    "    plt.show()\n",
    "\n",
    "visualization(history)\n"
   ]
  },
  {
   "cell_type": "markdown",
   "metadata": {},
   "source": [
    "### Testing"
   ]
  },
  {
   "cell_type": "code",
   "execution_count": 23,
   "metadata": {},
   "outputs": [],
   "source": [
    "def test_routine(model):\n",
    "    #predictions = model.predict(test_pad)\n",
    "    predictions = model.predict(word_vectors)  #hjnam\n",
    "    predicted_classes = np.argmax(predictions, axis=1)\n",
    "    predicted_labels = encoder.inverse_transform(predicted_classes)\n",
    "    print(predicted_labels)"
   ]
  },
  {
   "cell_type": "code",
   "execution_count": 26,
   "metadata": {},
   "outputs": [
    {
     "data": {
      "text/plain": [
       "array(['갈취 대화', '직장 내 괴롭힘 대화', '직장 내 괴롭힘 대화', '직장 내 괴롭힘 대화', '협박 대화',\n",
       "       '협박 대화', '갈취 대화', '갈취 대화', '협박 대화', '직장 내 괴롭힘 대화', '직장 내 괴롭힘 대화',\n",
       "       '갈취 대화', '협박 대화', '기타 괴롭힘 대화', '협박 대화', '기타 괴롭힘 대화', '기타 괴롭힘 대화',\n",
       "       '갈취 대화', '갈취 대화', '직장 내 괴롭힘 대화', '직장 내 괴롭힘 대화', '갈취 대화', '협박 대화',\n",
       "       '갈취 대화', '기타 괴롭힘 대화', '갈취 대화', '기타 괴롭힘 대화', '갈취 대화', '협박 대화',\n",
       "       '갈취 대화', '협박 대화', '갈취 대화', '직장 내 괴롭힘 대화', '갈취 대화', '직장 내 괴롭힘 대화',\n",
       "       '협박 대화', '기타 괴롭힘 대화', '협박 대화', '갈취 대화', '기타 괴롭힘 대화', '갈취 대화',\n",
       "       '직장 내 괴롭힘 대화', '직장 내 괴롭힘 대화', '기타 괴롭힘 대화', '기타 괴롭힘 대화',\n",
       "       '기타 괴롭힘 대화', '기타 괴롭힘 대화', '갈취 대화', '기타 괴롭힘 대화', '협박 대화',\n",
       "       '기타 괴롭힘 대화', '직장 내 괴롭힘 대화', '협박 대화', '기타 괴롭힘 대화', '기타 괴롭힘 대화',\n",
       "       '갈취 대화', '직장 내 괴롭힘 대화', '기타 괴롭힘 대화', '직장 내 괴롭힘 대화', '협박 대화',\n",
       "       '직장 내 괴롭힘 대화', '갈취 대화', '기타 괴롭힘 대화', '협박 대화', '협박 대화', '기타 괴롭힘 대화',\n",
       "       '직장 내 괴롭힘 대화', '갈취 대화', '갈취 대화', '직장 내 괴롭힘 대화', '직장 내 괴롭힘 대화',\n",
       "       '협박 대화', '기타 괴롭힘 대화', '직장 내 괴롭힘 대화', '직장 내 괴롭힘 대화', '갈취 대화',\n",
       "       '직장 내 괴롭힘 대화', '갈취 대화', '협박 대화', '직장 내 괴롭힘 대화', '직장 내 괴롭힘 대화',\n",
       "       '직장 내 괴롭힘 대화', '기타 괴롭힘 대화', '협박 대화', '협박 대화', '협박 대화',\n",
       "       '직장 내 괴롭힘 대화', '기타 괴롭힘 대화', '갈취 대화', '직장 내 괴롭힘 대화', '직장 내 괴롭힘 대화',\n",
       "       '갈취 대화', '직장 내 괴롭힘 대화', '기타 괴롭힘 대화', '갈취 대화', '갈취 대화', '갈취 대화',\n",
       "       '갈취 대화', '직장 내 괴롭힘 대화', '갈취 대화', '기타 괴롭힘 대화', '기타 괴롭힘 대화',\n",
       "       '직장 내 괴롭힘 대화', '기타 괴롭힘 대화', '갈취 대화', '협박 대화', '기타 괴롭힘 대화', '협박 대화',\n",
       "       '기타 괴롭힘 대화', '기타 괴롭힘 대화', '갈취 대화', '기타 괴롭힘 대화', '직장 내 괴롭힘 대화',\n",
       "       '협박 대화', '협박 대화', '협박 대화', '협박 대화', '갈취 대화', '협박 대화', '기타 괴롭힘 대화',\n",
       "       '협박 대화', '직장 내 괴롭힘 대화', '기타 괴롭힘 대화', '협박 대화', '기타 괴롭힘 대화', '협박 대화',\n",
       "       '직장 내 괴롭힘 대화', '직장 내 괴롭힘 대화', '기타 괴롭힘 대화', '협박 대화', '직장 내 괴롭힘 대화',\n",
       "       '직장 내 괴롭힘 대화', '기타 괴롭힘 대화', '직장 내 괴롭힘 대화', '기타 괴롭힘 대화', '갈취 대화',\n",
       "       '직장 내 괴롭힘 대화', '기타 괴롭힘 대화', '갈취 대화', '직장 내 괴롭힘 대화', '기타 괴롭힘 대화',\n",
       "       '직장 내 괴롭힘 대화', '직장 내 괴롭힘 대화', '기타 괴롭힘 대화', '협박 대화', '갈취 대화',\n",
       "       '협박 대화', '협박 대화', '갈취 대화', '기타 괴롭힘 대화', '갈취 대화', '기타 괴롭힘 대화',\n",
       "       '기타 괴롭힘 대화', '협박 대화', '기타 괴롭힘 대화', '직장 내 괴롭힘 대화', '협박 대화',\n",
       "       '기타 괴롭힘 대화', '기타 괴롭힘 대화', '협박 대화', '기타 괴롭힘 대화', '직장 내 괴롭힘 대화',\n",
       "       '갈취 대화', '직장 내 괴롭힘 대화', '직장 내 괴롭힘 대화', '기타 괴롭힘 대화', '협박 대화',\n",
       "       '직장 내 괴롭힘 대화', '갈취 대화', '기타 괴롭힘 대화', '협박 대화', '갈취 대화', '협박 대화',\n",
       "       '기타 괴롭힘 대화', '직장 내 괴롭힘 대화', '협박 대화', '갈취 대화', '협박 대화',\n",
       "       '직장 내 괴롭힘 대화', '협박 대화', '기타 괴롭힘 대화', '기타 괴롭힘 대화', '갈취 대화',\n",
       "       '기타 괴롭힘 대화', '기타 괴롭힘 대화', '갈취 대화', '기타 괴롭힘 대화', '기타 괴롭힘 대화',\n",
       "       '기타 괴롭힘 대화', '기타 괴롭힘 대화', '기타 괴롭힘 대화', '직장 내 괴롭힘 대화', '갈취 대화',\n",
       "       '직장 내 괴롭힘 대화', '갈취 대화', '직장 내 괴롭힘 대화', '갈취 대화', '협박 대화', '협박 대화',\n",
       "       '직장 내 괴롭힘 대화', '직장 내 괴롭힘 대화', '갈취 대화', '직장 내 괴롭힘 대화', '갈취 대화',\n",
       "       '직장 내 괴롭힘 대화', '갈취 대화', '갈취 대화', '기타 괴롭힘 대화', '기타 괴롭힘 대화',\n",
       "       '기타 괴롭힘 대화', '갈취 대화', '협박 대화', '직장 내 괴롭힘 대화', '직장 내 괴롭힘 대화',\n",
       "       '직장 내 괴롭힘 대화', '기타 괴롭힘 대화', '직장 내 괴롭힘 대화', '직장 내 괴롭힘 대화', '갈취 대화',\n",
       "       '협박 대화', '기타 괴롭힘 대화', '직장 내 괴롭힘 대화', '직장 내 괴롭힘 대화', '갈취 대화',\n",
       "       '직장 내 괴롭힘 대화', '갈취 대화', '기타 괴롭힘 대화', '갈취 대화', '갈취 대화', '기타 괴롭힘 대화',\n",
       "       '기타 괴롭힘 대화', '갈취 대화', '기타 괴롭힘 대화', '갈취 대화', '협박 대화', '기타 괴롭힘 대화',\n",
       "       '협박 대화', '직장 내 괴롭힘 대화', '갈취 대화', '갈취 대화', '기타 괴롭힘 대화', '기타 괴롭힘 대화',\n",
       "       '갈취 대화', '직장 내 괴롭힘 대화', '갈취 대화', '갈취 대화', '기타 괴롭힘 대화',\n",
       "       '직장 내 괴롭힘 대화', '기타 괴롭힘 대화', '갈취 대화', '기타 괴롭힘 대화', '기타 괴롭힘 대화',\n",
       "       '협박 대화', '직장 내 괴롭힘 대화', '협박 대화', '협박 대화', '갈취 대화', '갈취 대화',\n",
       "       '갈취 대화', '갈취 대화', '직장 내 괴롭힘 대화', '기타 괴롭힘 대화', '협박 대화', '협박 대화',\n",
       "       '협박 대화', '기타 괴롭힘 대화', '갈취 대화', '갈취 대화', '갈취 대화', '기타 괴롭힘 대화',\n",
       "       '협박 대화', '직장 내 괴롭힘 대화', '협박 대화', '협박 대화', '갈취 대화', '직장 내 괴롭힘 대화',\n",
       "       '갈취 대화', '협박 대화', '협박 대화', '협박 대화', '기타 괴롭힘 대화', '갈취 대화', '갈취 대화',\n",
       "       '직장 내 괴롭힘 대화', '기타 괴롭힘 대화', '기타 괴롭힘 대화', '기타 괴롭힘 대화', '기타 괴롭힘 대화',\n",
       "       '기타 괴롭힘 대화', '갈취 대화', '갈취 대화', '직장 내 괴롭힘 대화', '갈취 대화',\n",
       "       '직장 내 괴롭힘 대화', '기타 괴롭힘 대화', '기타 괴롭힘 대화', '갈취 대화', '직장 내 괴롭힘 대화',\n",
       "       '협박 대화', '직장 내 괴롭힘 대화', '직장 내 괴롭힘 대화', '갈취 대화', '기타 괴롭힘 대화',\n",
       "       '기타 괴롭힘 대화', '갈취 대화', '갈취 대화', '직장 내 괴롭힘 대화', '협박 대화',\n",
       "       '직장 내 괴롭힘 대화', '직장 내 괴롭힘 대화', '기타 괴롭힘 대화', '기타 괴롭힘 대화', '협박 대화',\n",
       "       '협박 대화', '갈취 대화', '갈취 대화', '협박 대화', '기타 괴롭힘 대화', '직장 내 괴롭힘 대화',\n",
       "       '갈취 대화', '기타 괴롭힘 대화', '협박 대화', '갈취 대화', '협박 대화', '기타 괴롭힘 대화',\n",
       "       '기타 괴롭힘 대화', '직장 내 괴롭힘 대화', '직장 내 괴롭힘 대화', '협박 대화', '직장 내 괴롭힘 대화',\n",
       "       '직장 내 괴롭힘 대화', '갈취 대화', '협박 대화', '기타 괴롭힘 대화', '기타 괴롭힘 대화',\n",
       "       '직장 내 괴롭힘 대화', '협박 대화', '갈취 대화', '기타 괴롭힘 대화', '갈취 대화', '협박 대화',\n",
       "       '기타 괴롭힘 대화', '기타 괴롭힘 대화', '기타 괴롭힘 대화', '갈취 대화', '갈취 대화',\n",
       "       '직장 내 괴롭힘 대화', '협박 대화', '기타 괴롭힘 대화', '갈취 대화', '협박 대화', '협박 대화',\n",
       "       '직장 내 괴롭힘 대화', '기타 괴롭힘 대화', '협박 대화', '직장 내 괴롭힘 대화', '갈취 대화',\n",
       "       '직장 내 괴롭힘 대화', '기타 괴롭힘 대화', '직장 내 괴롭힘 대화', '직장 내 괴롭힘 대화', '갈취 대화',\n",
       "       '협박 대화', '직장 내 괴롭힘 대화', '기타 괴롭힘 대화', '갈취 대화', '직장 내 괴롭힘 대화',\n",
       "       '직장 내 괴롭힘 대화', '갈취 대화', '갈취 대화', '갈취 대화', '직장 내 괴롭힘 대화',\n",
       "       '직장 내 괴롭힘 대화', '직장 내 괴롭힘 대화', '기타 괴롭힘 대화', '기타 괴롭힘 대화',\n",
       "       '직장 내 괴롭힘 대화', '협박 대화', '직장 내 괴롭힘 대화', '갈취 대화', '협박 대화',\n",
       "       '직장 내 괴롭힘 대화', '직장 내 괴롭힘 대화', '갈취 대화', '직장 내 괴롭힘 대화', '기타 괴롭힘 대화',\n",
       "       '갈취 대화', '협박 대화', '갈취 대화', '기타 괴롭힘 대화', '기타 괴롭힘 대화', '기타 괴롭힘 대화',\n",
       "       '협박 대화', '갈취 대화', '갈취 대화', '직장 내 괴롭힘 대화', '직장 내 괴롭힘 대화', '갈취 대화',\n",
       "       '협박 대화', '갈취 대화', '기타 괴롭힘 대화', '기타 괴롭힘 대화'], dtype=object)"
      ]
     },
     "execution_count": 26,
     "metadata": {},
     "output_type": "execute_result"
    }
   ],
   "source": [
    "#hjnam\n",
    "df2 = pd.read_csv('./data/output.csv')\n",
    "s1 = df2['text']\n",
    "s2 = df2['class']\n",
    "df3 = pd.concat([s1, s2], axis=1)\n",
    "df3 = df3.fillna(value=' ')\n",
    "df3 = df3.dropna()\n",
    "\n",
    "df3['text'] = df3['text'].apply(mecab.morphs)\n",
    "\n",
    "max_words = 10000\n",
    "\n",
    "# Tokenizer를 생성하고 텍스트 데이터에 적합시킵니다.\n",
    "tokenizer = Tokenizer(num_words=max_words)\n",
    "tokenizer.fit_on_texts(df3['text'])\n",
    "\n",
    "test_sequences = tokenizer.texts_to_sequences(df3['text'])\n",
    "word_index = tokenizer.word_index\n",
    "index_word = {idx: word for word, idx in word_index.items()}\n",
    "recovered = [[index_word[idx] for idx in seq if idx != 0] for seq in test_sequences]\n",
    "data_embeddings = [[fasttext_model.wv.get_vector(word) for word in sentence] for sentence in recovered]\n",
    "\n",
    "\n",
    "max_length = max(len(sample) for sample in data_embeddings)\n",
    "data_embeddings = pad_sequences(data_embeddings, maxlen=max_length, dtype='float32')\n",
    "\n",
    "fasttext_model.wv.get_vector('갔다오면')\n",
    "\n",
    "word_vectors = np.array(data_embeddings)\n",
    "predictions = model.predict(word_vectors)\n",
    "\n",
    "predicted_classes = np.argmax(predictions, axis=1)\n",
    "predicted_labels = encoder.inverse_transform(predicted_classes)\n",
    "predicted_labels\n"
   ]
  },
  {
   "cell_type": "code",
   "execution_count": null,
   "metadata": {},
   "outputs": [],
   "source": []
  }
 ],
 "metadata": {
  "kernelspec": {
   "display_name": "Python 3 (ipykernel)",
   "language": "python",
   "name": "python3"
  },
  "language_info": {
   "codemirror_mode": {
    "name": "ipython",
    "version": 3
   },
   "file_extension": ".py",
   "mimetype": "text/x-python",
   "name": "python",
   "nbconvert_exporter": "python",
   "pygments_lexer": "ipython3",
   "version": "3.9.7"
  }
 },
 "nbformat": 4,
 "nbformat_minor": 1
}
