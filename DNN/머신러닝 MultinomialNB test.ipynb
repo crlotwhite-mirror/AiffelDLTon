{
 "cells": [
  {
   "cell_type": "markdown",
   "id": "7cddb3df",
   "metadata": {},
   "source": [
    "### 머신러닝 MultinomialNB test"
   ]
  },
  {
   "cell_type": "code",
   "execution_count": 1,
   "id": "0f9b9719",
   "metadata": {
    "ExecuteTime": {
     "end_time": "2023-07-08T17:48:54.260327700Z",
     "start_time": "2023-07-08T17:48:53.826515700Z"
    }
   },
   "outputs": [],
   "source": [
    "from sklearn.naive_bayes import MultinomialNB #다항분포 나이브 베이즈 모델\n",
    "import pandas as pd\n",
    "import numpy as np\n",
    "from sklearn.feature_extraction.text import CountVectorizer\n",
    "from sklearn.naive_bayes import MultinomialNB\n",
    "from sklearn.model_selection import train_test_split"
   ]
  },
  {
   "cell_type": "code",
   "execution_count": 2,
   "id": "ad5fdbda",
   "metadata": {
    "ExecuteTime": {
     "end_time": "2023-07-08T17:48:54.289769900Z",
     "start_time": "2023-07-08T17:48:54.261333200Z"
    }
   },
   "outputs": [],
   "source": [
    "df = pd.read_csv('train.csv')"
   ]
  },
  {
   "cell_type": "markdown",
   "id": "f3d3511f",
   "metadata": {},
   "source": [
    "### CountVectorizer"
   ]
  },
  {
   "cell_type": "code",
   "execution_count": 3,
   "id": "25221c0a",
   "metadata": {
    "ExecuteTime": {
     "end_time": "2023-07-08T17:48:54.440498900Z",
     "start_time": "2023-07-08T17:48:54.335279300Z"
    }
   },
   "outputs": [
    {
     "name": "stdout",
     "output_type": "stream",
     "text": [
      "Accuracy: 0.8822784810126583\n"
     ]
    }
   ],
   "source": [
    "vectorizer = CountVectorizer()\n",
    "\n",
    "x_train = vectorizer.fit_transform(df['conversation'])\n",
    "y_train = df['class']\n",
    "\n",
    "x_train, x_test, y_train, y_test = train_test_split(x_train, y_train, test_size=0.2)\n",
    "\n",
    "\n",
    "model = MultinomialNB()\n",
    "model.fit(x_train, y_train)\n",
    "\n",
    "score = model.score(x_test, y_test)\n",
    "print('Accuracy:', score)"
   ]
  },
  {
   "cell_type": "code",
   "execution_count": 4,
   "id": "df6cae96",
   "metadata": {
    "ExecuteTime": {
     "end_time": "2023-07-08T17:48:54.470498400Z",
     "start_time": "2023-07-08T17:48:54.440498900Z"
    }
   },
   "outputs": [],
   "source": [
    "test = pd.read_csv('output.csv')\n",
    "\n",
    "x_test = vectorizer.transform(test['text'])\n",
    "pred = model.predict(x_test)"
   ]
  },
  {
   "cell_type": "code",
   "execution_count": 5,
   "outputs": [],
   "source": [
    "# 예측 결과를 새로운 열로 추가합니다.\n",
    "test['class'] = pred\n",
    "\n",
    "test = test[['ID', 'class', 'text']]\n",
    "\n",
    "# DataFrame을 CSV 파일로 저장합니다.\n",
    "test.to_csv('pred.csv', index=False)\n"
   ],
   "metadata": {
    "collapsed": false,
    "ExecuteTime": {
     "end_time": "2023-07-08T17:48:54.485498700Z",
     "start_time": "2023-07-08T17:48:54.471498800Z"
    }
   }
  },
  {
   "cell_type": "code",
   "execution_count": 5,
   "outputs": [],
   "source": [],
   "metadata": {
    "collapsed": false,
    "ExecuteTime": {
     "end_time": "2023-07-08T17:48:54.500499Z",
     "start_time": "2023-07-08T17:48:54.485498700Z"
    }
   }
  }
 ],
 "metadata": {
  "kernelspec": {
   "display_name": "Python 3 (ipykernel)",
   "language": "python",
   "name": "python3"
  },
  "language_info": {
   "codemirror_mode": {
    "name": "ipython",
    "version": 3
   },
   "file_extension": ".py",
   "mimetype": "text/x-python",
   "name": "python",
   "nbconvert_exporter": "python",
   "pygments_lexer": "ipython3",
   "version": "3.9.7"
  }
 },
 "nbformat": 4,
 "nbformat_minor": 5
}
