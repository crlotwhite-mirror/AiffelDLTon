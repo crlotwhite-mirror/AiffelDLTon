{
 "cells": [
  {
   "cell_type": "code",
   "execution_count": 2,
   "metadata": {
    "collapsed": true,
    "ExecuteTime": {
     "end_time": "2023-07-07T17:31:32.817621900Z",
     "start_time": "2023-07-07T17:31:15.016750300Z"
    }
   },
   "outputs": [],
   "source": [
    "import autokeras as ak\n",
    "import numpy as np\n",
    "import pandas as pd\n",
    "from sklearn.preprocessing import LabelEncoder\n",
    "from preprocessing import preprocess\n",
    "\n",
    "train_df, le = preprocess('../train.csv')\n",
    "\n",
    "X_train = train_df['conversation'].values\n",
    "y_train = train_df['class'].values\n",
    "\n",
    "\n",
    "\n"
   ]
  },
  {
   "cell_type": "code",
   "execution_count": 3,
   "outputs": [
    {
     "name": "stdout",
     "output_type": "stream",
     "text": [
      "Trial 20 Complete [00h 00m 22s]\n",
      "val_loss: 0.7774122357368469\n",
      "\n",
      "Best val_loss So Far: 0.742883026599884\n",
      "Total elapsed time: 00h 06m 53s\n",
      "INFO:tensorflow:Oracle triggered exit\n",
      "Epoch 1/5\n",
      "161/161 [==============================] - 5s 30ms/step - loss: 1.3791 - accuracy: 0.2818\n",
      "Epoch 2/5\n",
      "161/161 [==============================] - 5s 29ms/step - loss: 1.2255 - accuracy: 0.4111\n",
      "Epoch 3/5\n",
      "161/161 [==============================] - 5s 29ms/step - loss: 0.8668 - accuracy: 0.6241\n",
      "Epoch 4/5\n",
      "161/161 [==============================] - 5s 29ms/step - loss: 0.5673 - accuracy: 0.7796\n",
      "Epoch 5/5\n",
      "161/161 [==============================] - 5s 29ms/step - loss: 0.3500 - accuracy: 0.8754\n",
      "INFO:tensorflow:Assets written to: .\\auto_model\\best_model\\assets\n"
     ]
    },
    {
     "name": "stderr",
     "output_type": "stream",
     "text": [
      "INFO:tensorflow:Assets written to: .\\auto_model\\best_model\\assets\n"
     ]
    }
   ],
   "source": [
    "input_node = ak.TextInput()\n",
    "# output_node = ak.TextToIntSequence()(input_node)\n",
    "# output_node = ak.Embedding()(output_node)\n",
    "# output_node = ak.ConvBlock(separable=True)(output_node)\n",
    "output_node = ak.TextBlock()(input_node)\n",
    "output_node = ak.ClassificationHead()(output_node)\n",
    "clf = ak.AutoModel(\n",
    "    inputs=input_node,\n",
    "    outputs=output_node,\n",
    "    overwrite=True,\n",
    "    max_trials=20\n",
    ")\n",
    "clf.fit(X_train, y_train, epochs=5)\n",
    "model = clf.export_model()"
   ],
   "metadata": {
    "collapsed": false
   }
  },
  {
   "cell_type": "code",
   "execution_count": 4,
   "outputs": [
    {
     "name": "stdout",
     "output_type": "stream",
     "text": [
      "Model: \"model\"\n",
      "_________________________________________________________________\n",
      " Layer (type)                Output Shape              Param #   \n",
      "=================================================================\n",
      " input_1 (InputLayer)        [(None,)]                 0         \n",
      "                                                                 \n",
      " expand_last_dim (ExpandLas  (None, 1)                 0         \n",
      " tDim)                                                           \n",
      "                                                                 \n",
      " text_vectorization (TextVe  (None, 64)                0         \n",
      " ctorization)                                                    \n",
      "                                                                 \n",
      " embedding (Embedding)       (None, 64, 512)           2560512   \n",
      "                                                                 \n",
      " dropout (Dropout)           (None, 64, 512)           0         \n",
      "                                                                 \n",
      " conv1d (Conv1D)             (None, 58, 32)            114720    \n",
      "                                                                 \n",
      " max_pooling1d (MaxPooling1  (None, 9, 32)             0         \n",
      " D)                                                              \n",
      "                                                                 \n",
      " dropout_1 (Dropout)         (None, 9, 32)             0         \n",
      "                                                                 \n",
      " conv1d_1 (Conv1D)           (None, 9, 32)             7200      \n",
      "                                                                 \n",
      " max_pooling1d_1 (MaxPoolin  (None, 2, 32)             0         \n",
      " g1D)                                                            \n",
      "                                                                 \n",
      " dropout_2 (Dropout)         (None, 2, 32)             0         \n",
      "                                                                 \n",
      " global_max_pooling1d (Glob  (None, 32)                0         \n",
      " alMaxPooling1D)                                                 \n",
      "                                                                 \n",
      " dense (Dense)               (None, 32)                1056      \n",
      "                                                                 \n",
      " re_lu (ReLU)                (None, 32)                0         \n",
      "                                                                 \n",
      " dense_1 (Dense)             (None, 32)                1056      \n",
      "                                                                 \n",
      " re_lu_1 (ReLU)              (None, 32)                0         \n",
      "                                                                 \n",
      " dense_2 (Dense)             (None, 32)                1056      \n",
      "                                                                 \n",
      " re_lu_2 (ReLU)              (None, 32)                0         \n",
      "                                                                 \n",
      " dense_3 (Dense)             (None, 4)                 132       \n",
      "                                                                 \n",
      " classification_head_1 (Sof  (None, 4)                 0         \n",
      " tmax)                                                           \n",
      "                                                                 \n",
      "=================================================================\n",
      "Total params: 2685732 (10.25 MB)\n",
      "Trainable params: 2685732 (10.25 MB)\n",
      "Non-trainable params: 0 (0.00 Byte)\n",
      "_________________________________________________________________\n"
     ]
    }
   ],
   "source": [
    "model.summary()"
   ],
   "metadata": {
    "collapsed": false,
    "ExecuteTime": {
     "end_time": "2023-07-07T17:38:53.116210500Z",
     "start_time": "2023-07-07T17:38:53.085210300Z"
    }
   }
  },
  {
   "cell_type": "code",
   "execution_count": 5,
   "outputs": [],
   "source": [
    "# import tensorflow as tf\n",
    "# tf.keras.backend.clear_session()\n",
    "# model = tf.keras.models.load_model('./auto_model/best_model')\n",
    "# model.summary()"
   ],
   "metadata": {
    "collapsed": false,
    "ExecuteTime": {
     "end_time": "2023-07-07T17:38:53.128214300Z",
     "start_time": "2023-07-07T17:38:53.114209300Z"
    }
   }
  },
  {
   "cell_type": "code",
   "execution_count": 6,
   "outputs": [],
   "source": [
    "# model.fit(X_train, y_train, epochs=100, validation_split=0.2)"
   ],
   "metadata": {
    "collapsed": false,
    "ExecuteTime": {
     "end_time": "2023-07-07T17:38:53.144311900Z",
     "start_time": "2023-07-07T17:31:15.000648200Z"
    }
   }
  },
  {
   "cell_type": "code",
   "execution_count": 7,
   "outputs": [],
   "source": [
    "import numpy as np\n",
    "\n",
    "X_test = ['''우리팀에서 다른팀으로 갈 사람 없나? 그럼 영지씨가 가는건 어때?\n",
    "네? 제가요?\n",
    "그렇지? 2달만 파견 잘 갔다오면 승진이야.\n",
    "네? 저는 별로 가고 싶지 않습니다.\n",
    "여기 있는 모든사람도 가기 싫어해. 그러니까 막내인 영지씨가 가는게 맞지\n",
    "정말 죄송합니다. 저는 못갑니다.\n",
    "장난해? 모두를 위해 영지씨가 희생하는게 싫어?\n",
    "네. 부당한 방법으로 가는 것 같습니다.\n",
    "영지씨 안가면 회사생활 오래 못할 것 같은데 그래도 안갈거야? 안가면 지옥일텐데.\n",
    "그래도 이 방법은 아닌 것 같습니다. 죄송합니다.''']\n",
    "\n",
    "X_test = np.array(X_test)\n"
   ],
   "metadata": {
    "collapsed": false,
    "ExecuteTime": {
     "end_time": "2023-07-07T17:38:53.158311900Z",
     "start_time": "2023-07-07T17:38:53.144311900Z"
    }
   }
  },
  {
   "cell_type": "code",
   "execution_count": 8,
   "outputs": [
    {
     "data": {
      "text/plain": "array([2])"
     },
     "execution_count": 8,
     "metadata": {},
     "output_type": "execute_result"
    }
   ],
   "source": [
    "test_y = le.transform([\"직장 내 괴롭힘 대화\"])\n",
    "test_y"
   ],
   "metadata": {
    "collapsed": false,
    "ExecuteTime": {
     "end_time": "2023-07-07T17:38:53.174316Z",
     "start_time": "2023-07-07T17:38:53.159311500Z"
    }
   }
  },
  {
   "cell_type": "code",
   "execution_count": 9,
   "outputs": [
    {
     "name": "stdout",
     "output_type": "stream",
     "text": [
      "1/1 [==============================] - 0s 71ms/step\n"
     ]
    },
    {
     "data": {
      "text/plain": "array([[0.00774354, 0.05253536, 0.86323315, 0.07648801]], dtype=float32)"
     },
     "execution_count": 9,
     "metadata": {},
     "output_type": "execute_result"
    }
   ],
   "source": [
    "pred_test = model.predict(X_test)\n",
    "pred_test"
   ],
   "metadata": {
    "collapsed": false,
    "ExecuteTime": {
     "end_time": "2023-07-07T17:38:53.279813200Z",
     "start_time": "2023-07-07T17:38:53.175315400Z"
    }
   }
  },
  {
   "cell_type": "code",
   "execution_count": 10,
   "outputs": [
    {
     "ename": "SyntaxError",
     "evalue": "invalid syntax (3973414908.py, line 1)",
     "output_type": "error",
     "traceback": [
      "\u001B[1;36m  Cell \u001B[1;32mIn[10], line 1\u001B[1;36m\u001B[0m\n\u001B[1;33m    https://dacon.io/codeshare/1843\u001B[0m\n\u001B[1;37m          ^\u001B[0m\n\u001B[1;31mSyntaxError\u001B[0m\u001B[1;31m:\u001B[0m invalid syntax\n"
     ]
    }
   ],
   "source": [
    "https://dacon.io/codeshare/1843\n",
    "https://dacon.io/competitions/official/235658/codeshare/2246"
   ],
   "metadata": {
    "collapsed": false,
    "ExecuteTime": {
     "end_time": "2023-07-07T17:38:53.298073700Z",
     "start_time": "2023-07-07T17:38:53.279813200Z"
    }
   }
  }
 ],
 "metadata": {
  "kernelspec": {
   "display_name": "Python 3",
   "language": "python",
   "name": "python3"
  },
  "language_info": {
   "codemirror_mode": {
    "name": "ipython",
    "version": 2
   },
   "file_extension": ".py",
   "mimetype": "text/x-python",
   "name": "python",
   "nbconvert_exporter": "python",
   "pygments_lexer": "ipython2",
   "version": "2.7.6"
  }
 },
 "nbformat": 4,
 "nbformat_minor": 0
}
