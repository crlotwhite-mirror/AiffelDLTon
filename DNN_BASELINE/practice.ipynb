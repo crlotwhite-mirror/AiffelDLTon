{
 "cells": [
  {
   "cell_type": "code",
   "execution_count": 1,
   "metadata": {
    "collapsed": true,
    "ExecuteTime": {
     "end_time": "2023-07-07T08:03:22.548403300Z",
     "start_time": "2023-07-07T08:03:20.858687400Z"
    }
   },
   "outputs": [],
   "source": [
    "import pandas as pd\n",
    "import numpy as np\n",
    "from sklearn.model_selection import train_test_split\n",
    "from sklearn.preprocessing import LabelEncoder\n",
    "from konlpy.tag import Mecab,Okt\n",
    "from keras.preprocessing.text import Tokenizer\n",
    "from keras_preprocessing.sequence import pad_sequences\n",
    "from keras.models import Sequential\n",
    "from keras.layers import Dense, Embedding, Flatten"
   ]
  },
  {
   "cell_type": "markdown",
   "source": [],
   "metadata": {
    "collapsed": false
   }
  },
  {
   "cell_type": "code",
   "execution_count": 2,
   "outputs": [
    {
     "data": {
      "text/plain": "   idx      class                                       conversation\n0    0      협박 대화  지금 너 스스로를 죽여달라고 애원하는 것인가?\\n 아닙니다. 죄송합니다.\\n 죽을 ...\n1    1      협박 대화  길동경찰서입니다.\\n9시 40분 마트에 폭발물을 설치할거다.\\n네?\\n똑바로 들어 ...\n2    2  기타 괴롭힘 대화  너 되게 귀여운거 알지? 나보다 작은 남자는 첨봤어.\\n그만해. 니들 놀리는거 재미...\n3    3      갈취 대화  어이 거기\\n예??\\n너 말이야 너. 이리 오라고\\n무슨 일.\\n너 옷 좋아보인다?...\n4    4      갈취 대화  저기요 혹시 날이 너무 뜨겁잖아요? 저희 회사에서 이 선크림 파는데 한 번 손등에 ...",
      "text/html": "<div>\n<style scoped>\n    .dataframe tbody tr th:only-of-type {\n        vertical-align: middle;\n    }\n\n    .dataframe tbody tr th {\n        vertical-align: top;\n    }\n\n    .dataframe thead th {\n        text-align: right;\n    }\n</style>\n<table border=\"1\" class=\"dataframe\">\n  <thead>\n    <tr style=\"text-align: right;\">\n      <th></th>\n      <th>idx</th>\n      <th>class</th>\n      <th>conversation</th>\n    </tr>\n  </thead>\n  <tbody>\n    <tr>\n      <th>0</th>\n      <td>0</td>\n      <td>협박 대화</td>\n      <td>지금 너 스스로를 죽여달라고 애원하는 것인가?\\n 아닙니다. 죄송합니다.\\n 죽을 ...</td>\n    </tr>\n    <tr>\n      <th>1</th>\n      <td>1</td>\n      <td>협박 대화</td>\n      <td>길동경찰서입니다.\\n9시 40분 마트에 폭발물을 설치할거다.\\n네?\\n똑바로 들어 ...</td>\n    </tr>\n    <tr>\n      <th>2</th>\n      <td>2</td>\n      <td>기타 괴롭힘 대화</td>\n      <td>너 되게 귀여운거 알지? 나보다 작은 남자는 첨봤어.\\n그만해. 니들 놀리는거 재미...</td>\n    </tr>\n    <tr>\n      <th>3</th>\n      <td>3</td>\n      <td>갈취 대화</td>\n      <td>어이 거기\\n예??\\n너 말이야 너. 이리 오라고\\n무슨 일.\\n너 옷 좋아보인다?...</td>\n    </tr>\n    <tr>\n      <th>4</th>\n      <td>4</td>\n      <td>갈취 대화</td>\n      <td>저기요 혹시 날이 너무 뜨겁잖아요? 저희 회사에서 이 선크림 파는데 한 번 손등에 ...</td>\n    </tr>\n  </tbody>\n</table>\n</div>"
     },
     "execution_count": 2,
     "metadata": {},
     "output_type": "execute_result"
    }
   ],
   "source": [
    "# 데이터 불러오기\n",
    "data = pd.read_csv('train.csv')\n",
    "data.head()"
   ],
   "metadata": {
    "collapsed": false,
    "ExecuteTime": {
     "end_time": "2023-07-07T08:03:22.595536700Z",
     "start_time": "2023-07-07T08:03:22.548403300Z"
    }
   }
  },
  {
   "cell_type": "code",
   "execution_count": 3,
   "outputs": [],
   "source": [
    "# class 열을 숫자로 변환\n",
    "encoder = LabelEncoder()\n",
    "data['class'] = encoder.fit_transform(data['class'])"
   ],
   "metadata": {
    "collapsed": false,
    "ExecuteTime": {
     "end_time": "2023-07-07T08:03:22.611162400Z",
     "start_time": "2023-07-07T08:03:22.595536700Z"
    }
   }
  },
  {
   "cell_type": "code",
   "execution_count": 4,
   "outputs": [],
   "source": [
    "import random\n",
    "\n",
    "# Random swap 함수 정의\n",
    "def random_swap(sentence):\n",
    "    # 개행문자를 기준으로 문장 나누기\n",
    "    sentences = sentence.split('\\n')\n",
    "\n",
    "    swapped_sentences = []\n",
    "    for sent in sentences:\n",
    "        sent = sent.split()\n",
    "        # 문장에 단어가 하나 이상 있는 경우에만 swap 수행\n",
    "        if len(sent) > 1:\n",
    "            idx1, idx2 = random.sample(range(len(sent)), 2)\n",
    "            sent[idx1], sent[idx2] = sent[idx2], sent[idx1]\n",
    "        swapped_sentences.append(' '.join(sent))\n",
    "\n",
    "    # 문장을 개행문자를 사용하여 다시 합침\n",
    "    swapped_text = '\\n'.join(swapped_sentences)\n",
    "\n",
    "    return swapped_text\n",
    "\n",
    "def swap_speakers(text):\n",
    "    # 개행문자를 기준으로 문장 나누기\n",
    "    sentences = text.split('\\n')\n",
    "\n",
    "    # 두 문장씩 묶어서 순서 바꾸기\n",
    "    swapped_sentences = []\n",
    "    for i in range(0, len(sentences), 2):\n",
    "        # 다음 문장이 있는 경우에만 순서 바꾸기\n",
    "        if i+1 < len(sentences):\n",
    "            swapped_sentences.extend([sentences[i+1], sentences[i]])\n",
    "        else:\n",
    "            # 남은 문장이 하나만 있는 경우 그대로 추가\n",
    "            swapped_sentences.append(sentences[i])\n",
    "\n",
    "    # 문장을 개행문자를 사용하여 다시 합침\n",
    "    swapped_text = '\\n'.join(swapped_sentences)\n",
    "    return swapped_text\n",
    "\n",
    "def random_deletion(text, p=0.5):\n",
    "    # 문장을 단어 단위로 분할\n",
    "    words = text.split()\n",
    "\n",
    "    # 문장이 1단어 이하라면 그대로 반환\n",
    "    if len(words) == 1:\n",
    "        return text\n",
    "\n",
    "    # 각 단어에 대해 삭제할지 말지를 결정\n",
    "    keep_probs = np.random.uniform(0, 1, size=len(words))\n",
    "    # 랜덤하게 단어를 선택하여 삭제\n",
    "    words = [word for word, keep_prob in zip(words, keep_probs) if keep_prob > p]\n",
    "\n",
    "    # 단어를 다시 문장으로 합침\n",
    "    deleted_text = ' '.join(words)\n",
    "    return deleted_text\n",
    "\n",
    "\n",
    "# 랜덤하게 행 선택 (예: 전체 행의 20%를 선택)\n",
    "random_indices = np.random.choice(data.index, size=int(len(data)*0.2), replace=False)\n",
    "\n",
    "# 선택된 행에 대해 Random swap 함수 적용\n",
    "augmented_rows = data.loc[random_indices, 'conversation'].apply(random_swap)\n",
    "\n",
    "# 증강된 데이터를 복사하고, 'text' 열에 증강된 텍스트를 삽입\n",
    "new_rows = data.loc[random_indices].copy()\n",
    "new_rows['conversation'] = augmented_rows\n",
    "\n",
    "# 원본 데이터프레임에 증강된 데이터 추가\n",
    "df_augmented = pd.concat([data, new_rows])\n",
    "\n"
   ],
   "metadata": {
    "collapsed": false,
    "ExecuteTime": {
     "end_time": "2023-07-07T08:03:22.720929800Z",
     "start_time": "2023-07-07T08:03:22.611162400Z"
    }
   }
  },
  {
   "cell_type": "code",
   "execution_count": 5,
   "outputs": [],
   "source": [
    "# 랜덤하게 행 선택 (예: 전체 행의 20%를 선택)\n",
    "random_indices = np.random.choice(data.index, size=int(len(data)*0.2), replace=False)\n",
    "\n",
    "# 선택된 행에 대해 Random swap 함수 적용\n",
    "augmented_rows = data.loc[random_indices, 'conversation'].apply(swap_speakers)\n",
    "\n",
    "# 증강된 데이터를 복사하고, 'text' 열에 증강된 텍스트를 삽입\n",
    "new_rows = data.loc[random_indices].copy()\n",
    "new_rows['conversation'] = augmented_rows\n",
    "\n",
    "# 원본 데이터프레임에 증강된 데이터 추가\n",
    "df_augmented = pd.concat([df_augmented, new_rows])\n"
   ],
   "metadata": {
    "collapsed": false,
    "ExecuteTime": {
     "end_time": "2023-07-07T08:03:22.736551200Z",
     "start_time": "2023-07-07T08:03:22.720929800Z"
    }
   }
  },
  {
   "cell_type": "code",
   "execution_count": 6,
   "outputs": [],
   "source": [
    "# 랜덤하게 행 선택 (예: 전체 행의 20%를 선택)\n",
    "random_indices = np.random.choice(data.index, size=int(len(data)*0.2), replace=False)\n",
    "\n",
    "# 선택된 행에 대해 Random swap 함수 적용\n",
    "augmented_rows = data.loc[random_indices, 'conversation'].apply(random_deletion)\n",
    "\n",
    "# 증강된 데이터를 복사하고, 'text' 열에 증강된 텍스트를 삽입\n",
    "new_rows = data.loc[random_indices].copy()\n",
    "new_rows['conversation'] = augmented_rows\n",
    "\n",
    "# 원본 데이터프레임에 증강된 데이터 추가\n",
    "df_augmented = pd.concat([df_augmented, new_rows])\n"
   ],
   "metadata": {
    "collapsed": false,
    "ExecuteTime": {
     "end_time": "2023-07-07T08:03:22.752558500Z",
     "start_time": "2023-07-07T08:03:22.736551200Z"
    }
   }
  },
  {
   "cell_type": "code",
   "execution_count": 7,
   "outputs": [
    {
     "data": {
      "text/plain": "(3950, 6320)"
     },
     "execution_count": 7,
     "metadata": {},
     "output_type": "execute_result"
    }
   ],
   "source": [
    "len(data), len(df_augmented)"
   ],
   "metadata": {
    "collapsed": false,
    "ExecuteTime": {
     "end_time": "2023-07-07T08:03:22.768188200Z",
     "start_time": "2023-07-07T08:03:22.752558500Z"
    }
   }
  },
  {
   "cell_type": "code",
   "execution_count": 8,
   "outputs": [
    {
     "data": {
      "text/plain": "   idx  class                                       conversation\n0    0      3  지금 너 스스로를 죽여달라고 애원하는 것인가?\\n 아닙니다. 죄송합니다.\\n 죽을 ...\n1    1      3  길동경찰서입니다.\\n9시 40분 마트에 폭발물을 설치할거다.\\n네?\\n똑바로 들어 ...\n2    2      1  너 되게 귀여운거 알지? 나보다 작은 남자는 첨봤어.\\n그만해. 니들 놀리는거 재미...\n3    3      0  어이 거기\\n예??\\n너 말이야 너. 이리 오라고\\n무슨 일.\\n너 옷 좋아보인다?...\n4    4      0  저기요 혹시 날이 너무 뜨겁잖아요? 저희 회사에서 이 선크림 파는데 한 번 손등에 ...",
      "text/html": "<div>\n<style scoped>\n    .dataframe tbody tr th:only-of-type {\n        vertical-align: middle;\n    }\n\n    .dataframe tbody tr th {\n        vertical-align: top;\n    }\n\n    .dataframe thead th {\n        text-align: right;\n    }\n</style>\n<table border=\"1\" class=\"dataframe\">\n  <thead>\n    <tr style=\"text-align: right;\">\n      <th></th>\n      <th>idx</th>\n      <th>class</th>\n      <th>conversation</th>\n    </tr>\n  </thead>\n  <tbody>\n    <tr>\n      <th>0</th>\n      <td>0</td>\n      <td>3</td>\n      <td>지금 너 스스로를 죽여달라고 애원하는 것인가?\\n 아닙니다. 죄송합니다.\\n 죽을 ...</td>\n    </tr>\n    <tr>\n      <th>1</th>\n      <td>1</td>\n      <td>3</td>\n      <td>길동경찰서입니다.\\n9시 40분 마트에 폭발물을 설치할거다.\\n네?\\n똑바로 들어 ...</td>\n    </tr>\n    <tr>\n      <th>2</th>\n      <td>2</td>\n      <td>1</td>\n      <td>너 되게 귀여운거 알지? 나보다 작은 남자는 첨봤어.\\n그만해. 니들 놀리는거 재미...</td>\n    </tr>\n    <tr>\n      <th>3</th>\n      <td>3</td>\n      <td>0</td>\n      <td>어이 거기\\n예??\\n너 말이야 너. 이리 오라고\\n무슨 일.\\n너 옷 좋아보인다?...</td>\n    </tr>\n    <tr>\n      <th>4</th>\n      <td>4</td>\n      <td>0</td>\n      <td>저기요 혹시 날이 너무 뜨겁잖아요? 저희 회사에서 이 선크림 파는데 한 번 손등에 ...</td>\n    </tr>\n  </tbody>\n</table>\n</div>"
     },
     "execution_count": 8,
     "metadata": {},
     "output_type": "execute_result"
    }
   ],
   "source": [
    "df_augmented.head()"
   ],
   "metadata": {
    "collapsed": false,
    "ExecuteTime": {
     "end_time": "2023-07-07T08:03:22.815067600Z",
     "start_time": "2023-07-07T08:03:22.768188200Z"
    }
   }
  },
  {
   "cell_type": "code",
   "execution_count": 9,
   "outputs": [],
   "source": [
    "# konlpy의 Mecab을 이용한 토큰화\n",
    "mecab = Okt()\n",
    "data['conversation'] = data['conversation'].apply(mecab.morphs)"
   ],
   "metadata": {
    "collapsed": false,
    "ExecuteTime": {
     "end_time": "2023-07-07T08:03:44.973938300Z",
     "start_time": "2023-07-07T08:03:22.783813Z"
    }
   }
  },
  {
   "cell_type": "code",
   "execution_count": 10,
   "outputs": [
    {
     "data": {
      "text/plain": "   idx  class                                       conversation\n0    0      3  [지금, 너, 스스로, 를, 죽여, 달라, 고, 애원, 하는, 것, 인가, ?, \\...\n1    1      3  [길동, 경찰서, 입니다, ., \\n, 9시, 40분, 마트, 에, 폭발물, 을, ...\n2    2      1  [너, 되게, 귀여운거, 알, 지, ?, 나, 보다, 작은, 남자, 는, 첨, 봤어...\n3    3      0  [어이, 거기, \\n, 예, ??, \\n, 너, 말, 이야, 너, ., 이리, 오라...\n4    4      0  [저기, 요, 혹시, 날, 이, 너무, 뜨겁잖아요, ?, 저희, 회사, 에서, 이,...",
      "text/html": "<div>\n<style scoped>\n    .dataframe tbody tr th:only-of-type {\n        vertical-align: middle;\n    }\n\n    .dataframe tbody tr th {\n        vertical-align: top;\n    }\n\n    .dataframe thead th {\n        text-align: right;\n    }\n</style>\n<table border=\"1\" class=\"dataframe\">\n  <thead>\n    <tr style=\"text-align: right;\">\n      <th></th>\n      <th>idx</th>\n      <th>class</th>\n      <th>conversation</th>\n    </tr>\n  </thead>\n  <tbody>\n    <tr>\n      <th>0</th>\n      <td>0</td>\n      <td>3</td>\n      <td>[지금, 너, 스스로, 를, 죽여, 달라, 고, 애원, 하는, 것, 인가, ?, \\...</td>\n    </tr>\n    <tr>\n      <th>1</th>\n      <td>1</td>\n      <td>3</td>\n      <td>[길동, 경찰서, 입니다, ., \\n, 9시, 40분, 마트, 에, 폭발물, 을, ...</td>\n    </tr>\n    <tr>\n      <th>2</th>\n      <td>2</td>\n      <td>1</td>\n      <td>[너, 되게, 귀여운거, 알, 지, ?, 나, 보다, 작은, 남자, 는, 첨, 봤어...</td>\n    </tr>\n    <tr>\n      <th>3</th>\n      <td>3</td>\n      <td>0</td>\n      <td>[어이, 거기, \\n, 예, ??, \\n, 너, 말, 이야, 너, ., 이리, 오라...</td>\n    </tr>\n    <tr>\n      <th>4</th>\n      <td>4</td>\n      <td>0</td>\n      <td>[저기, 요, 혹시, 날, 이, 너무, 뜨겁잖아요, ?, 저희, 회사, 에서, 이,...</td>\n    </tr>\n  </tbody>\n</table>\n</div>"
     },
     "execution_count": 10,
     "metadata": {},
     "output_type": "execute_result"
    }
   ],
   "source": [
    "data.head()"
   ],
   "metadata": {
    "collapsed": false,
    "ExecuteTime": {
     "end_time": "2023-07-07T08:03:44.995407500Z",
     "start_time": "2023-07-07T08:03:44.977383900Z"
    }
   }
  },
  {
   "cell_type": "code",
   "execution_count": 11,
   "outputs": [],
   "source": [
    "# 케라스를 이용한 정수 인코딩\n",
    "tokenizer = Tokenizer()\n",
    "tokenizer.fit_on_texts(data['conversation'])\n",
    "\n",
    "sequences = tokenizer.texts_to_sequences(data['conversation'])"
   ],
   "metadata": {
    "collapsed": false,
    "ExecuteTime": {
     "end_time": "2023-07-07T08:03:45.218367400Z",
     "start_time": "2023-07-07T08:03:44.996407400Z"
    }
   }
  },
  {
   "cell_type": "code",
   "execution_count": 12,
   "outputs": [],
   "source": [
    "# 입력 데이터 패딩 처리\n",
    "data_pad = pad_sequences(sequences)"
   ],
   "metadata": {
    "collapsed": false,
    "ExecuteTime": {
     "end_time": "2023-07-07T08:03:45.238714700Z",
     "start_time": "2023-07-07T08:03:45.218367400Z"
    }
   }
  },
  {
   "cell_type": "code",
   "execution_count": 13,
   "outputs": [],
   "source": [
    "# 데이터셋 분리\n",
    "X_train, X_val, y_train, y_val = train_test_split(data_pad, data['class'], test_size=0.1, random_state=42)"
   ],
   "metadata": {
    "collapsed": false,
    "ExecuteTime": {
     "end_time": "2023-07-07T08:03:45.258331800Z",
     "start_time": "2023-07-07T08:03:45.238714700Z"
    }
   }
  },
  {
   "cell_type": "code",
   "execution_count": 14,
   "outputs": [],
   "source": [
    "def get_mlp():\n",
    "    # MLP 모델 생성\n",
    "    model = Sequential()\n",
    "    model.add(Embedding(len(tokenizer.word_index)+1, 128, input_length=data_pad.shape[1]))\n",
    "    model.add(Flatten())\n",
    "    model.add(Dense(64, activation='relu'))\n",
    "    model.add(Dense(len(data['class'].unique()), activation='softmax'))\n",
    "    return model"
   ],
   "metadata": {
    "collapsed": false,
    "ExecuteTime": {
     "end_time": "2023-07-07T08:03:45.276264700Z",
     "start_time": "2023-07-07T08:03:45.259337Z"
    }
   }
  },
  {
   "cell_type": "code",
   "execution_count": 15,
   "outputs": [],
   "source": [
    "from keras.layers import Conv1D, GlobalMaxPooling1D\n",
    "\n",
    "def get_cnn():\n",
    "    # CNN 모델 생성\n",
    "    model = Sequential()\n",
    "    model.add(Embedding(len(tokenizer.word_index)+1, 128, input_length=data_pad.shape[1]))\n",
    "    model.add(Conv1D(128, 5, activation='relu'))\n",
    "    model.add(GlobalMaxPooling1D())\n",
    "    model.add(Dense(64, activation='relu'))\n",
    "    model.add(Dense(len(data['class'].unique()), activation='softmax'))\n",
    "\n",
    "    return model\n"
   ],
   "metadata": {
    "collapsed": false,
    "ExecuteTime": {
     "end_time": "2023-07-07T08:03:45.284074600Z",
     "start_time": "2023-07-07T08:03:45.276264700Z"
    }
   }
  },
  {
   "cell_type": "code",
   "execution_count": 16,
   "outputs": [],
   "source": [
    "from keras.layers import LSTM, Dropout\n",
    "\n",
    "def get_lstm():\n",
    "    # LSTM 모델 생성\n",
    "    model = Sequential()\n",
    "    model.add(Embedding(len(tokenizer.word_index)+1, 128, input_length=data_pad.shape[1]))\n",
    "    model.add(LSTM(64))\n",
    "    model.add(Dense(64, activation='relu'))\n",
    "    model.add(Dropout(0.3))\n",
    "    model.add(Dense(len(data['class'].unique()), activation='softmax'))\n",
    "\n",
    "    return model\n"
   ],
   "metadata": {
    "collapsed": false,
    "ExecuteTime": {
     "end_time": "2023-07-07T08:03:45.297087600Z",
     "start_time": "2023-07-07T08:03:45.280741400Z"
    }
   }
  },
  {
   "cell_type": "code",
   "execution_count": 17,
   "outputs": [
    {
     "name": "stdout",
     "output_type": "stream",
     "text": [
      "Model: \"sequential\"\n",
      "_________________________________________________________________\n",
      " Layer (type)                Output Shape              Param #   \n",
      "=================================================================\n",
      " embedding (Embedding)       (None, 359, 128)          3508480   \n",
      "                                                                 \n",
      " lstm (LSTM)                 (None, 64)                49408     \n",
      "                                                                 \n",
      " dense (Dense)               (None, 64)                4160      \n",
      "                                                                 \n",
      " dropout (Dropout)           (None, 64)                0         \n",
      "                                                                 \n",
      " dense_1 (Dense)             (None, 4)                 260       \n",
      "                                                                 \n",
      "=================================================================\n",
      "Total params: 3,562,308\n",
      "Trainable params: 3,562,308\n",
      "Non-trainable params: 0\n",
      "_________________________________________________________________\n"
     ]
    }
   ],
   "source": [
    "model = get_lstm()\n",
    "model.summary()"
   ],
   "metadata": {
    "collapsed": false,
    "ExecuteTime": {
     "end_time": "2023-07-07T08:03:46.220939600Z",
     "start_time": "2023-07-07T08:03:45.298088400Z"
    }
   }
  },
  {
   "cell_type": "code",
   "execution_count": 18,
   "outputs": [],
   "source": [
    "# 모델 컴파일\n",
    "model.compile(optimizer='adam', loss='sparse_categorical_crossentropy', metrics=['accuracy'])"
   ],
   "metadata": {
    "collapsed": false,
    "ExecuteTime": {
     "end_time": "2023-07-07T08:03:46.265601500Z",
     "start_time": "2023-07-07T08:03:46.221938900Z"
    }
   }
  },
  {
   "cell_type": "code",
   "execution_count": 19,
   "outputs": [
    {
     "name": "stdout",
     "output_type": "stream",
     "text": [
      "Epoch 1/10\n",
      "112/112 [==============================] - 6s 31ms/step - loss: 1.1738 - accuracy: 0.4481 - val_loss: 0.8183 - val_accuracy: 0.6532\n",
      "Epoch 2/10\n",
      "112/112 [==============================] - 3s 27ms/step - loss: 0.4895 - accuracy: 0.8228 - val_loss: 0.5653 - val_accuracy: 0.8177\n",
      "Epoch 3/10\n",
      "112/112 [==============================] - 3s 27ms/step - loss: 0.1447 - accuracy: 0.9575 - val_loss: 0.5003 - val_accuracy: 0.8506\n",
      "Epoch 4/10\n",
      "112/112 [==============================] - 3s 25ms/step - loss: 0.0543 - accuracy: 0.9859 - val_loss: 0.5109 - val_accuracy: 0.8380\n",
      "Epoch 5/10\n",
      "112/112 [==============================] - 3s 26ms/step - loss: 0.0225 - accuracy: 0.9947 - val_loss: 0.6608 - val_accuracy: 0.8278\n",
      "Epoch 6/10\n",
      "112/112 [==============================] - 3s 25ms/step - loss: 0.0227 - accuracy: 0.9944 - val_loss: 0.6751 - val_accuracy: 0.8405\n",
      "Epoch 7/10\n",
      "112/112 [==============================] - 3s 25ms/step - loss: 0.0105 - accuracy: 0.9972 - val_loss: 0.7583 - val_accuracy: 0.8101\n",
      "Epoch 8/10\n",
      "112/112 [==============================] - 3s 24ms/step - loss: 0.0328 - accuracy: 0.9924 - val_loss: 0.6328 - val_accuracy: 0.8481\n",
      "Epoch 9/10\n",
      "112/112 [==============================] - 3s 25ms/step - loss: 0.0013 - accuracy: 1.0000 - val_loss: 0.6744 - val_accuracy: 0.8633\n",
      "Epoch 10/10\n",
      "112/112 [==============================] - 3s 25ms/step - loss: 5.8270e-04 - accuracy: 1.0000 - val_loss: 0.7159 - val_accuracy: 0.8633\n"
     ]
    }
   ],
   "source": [
    "# 모델 학습\n",
    "history = model.fit(X_train, y_train, validation_data=(X_val, y_val), epochs=10)"
   ],
   "metadata": {
    "collapsed": false,
    "ExecuteTime": {
     "end_time": "2023-07-07T08:04:17.609269200Z",
     "start_time": "2023-07-07T08:03:46.237092300Z"
    }
   }
  },
  {
   "cell_type": "code",
   "execution_count": 20,
   "outputs": [],
   "source": [
    "def train(get_model):\n",
    "    model = get_model()\n",
    "    model.summary()\n",
    "    # 모델 컴파일\n",
    "    model.compile(optimizer='adam', loss='sparse_categorical_crossentropy', metrics=['accuracy'])\n",
    "    # 모델 학습\n",
    "    history = model.fit(X_train, y_train, validation_data=(X_val, y_val), epochs=10)\n",
    "    return model, history"
   ],
   "metadata": {
    "collapsed": false,
    "ExecuteTime": {
     "end_time": "2023-07-07T08:04:17.627070600Z",
     "start_time": "2023-07-07T08:04:17.611268600Z"
    }
   }
  },
  {
   "cell_type": "code",
   "execution_count": 21,
   "outputs": [
    {
     "data": {
      "text/plain": "<Figure size 640x480 with 1 Axes>",
      "image/png": "[encoded data removed]"
     },
     "metadata": {},
     "output_type": "display_data"
    },
    {
     "data": {
      "text/plain": "<Figure size 640x480 with 1 Axes>",
      "image/png": "[encoded data removed]"
     },
     "metadata": {},
     "output_type": "display_data"
    }
   ],
   "source": [
    "import matplotlib.pyplot as plt\n",
    "\n",
    "def visualization(history):\n",
    "    # 시각화를 위한 데이터 정의\n",
    "    loss = history.history['loss']\n",
    "    val_loss = history.history['val_loss']\n",
    "    accuracy = history.history['accuracy']\n",
    "    val_accuracy = history.history['val_accuracy']\n",
    "\n",
    "    epochs = range(1, len(loss) + 1)\n",
    "\n",
    "    # 손실값 시각화\n",
    "    plt.figure()\n",
    "    plt.plot(epochs, loss, 'bo', label='Training loss')\n",
    "    plt.plot(epochs, val_loss, 'b', label='Validation loss')\n",
    "    plt.title('Training and validation loss')\n",
    "    plt.legend()\n",
    "\n",
    "    plt.show()\n",
    "\n",
    "    # 정확도 시각화\n",
    "    plt.figure()\n",
    "    plt.plot(epochs, accuracy, 'bo', label='Training accuracy')\n",
    "    plt.plot(epochs, val_accuracy, 'b', label='Validation accuracy')\n",
    "    plt.title('Training and validation accuracy')\n",
    "    plt.legend()\n",
    "\n",
    "    plt.show()\n",
    "\n",
    "visualization(history)\n"
   ],
   "metadata": {
    "collapsed": false,
    "ExecuteTime": {
     "end_time": "2023-07-07T08:04:17.980314600Z",
     "start_time": "2023-07-07T08:04:17.627070600Z"
    }
   }
  },
  {
   "cell_type": "code",
   "execution_count": 22,
   "outputs": [],
   "source": [
    "test_x = '''우리팀에서 다른팀으로 갈 사람 없나? 그럼 영지씨가 가는건 어때?\n",
    "네? 제가요?\n",
    "그렇지? 2달만 파견 잘 갔다오면 승진이야.\n",
    "네? 저는 별로 가고 싶지 않습니다.\n",
    "여기 있는 모든사람도 가기 싫어해. 그러니까 막내인 영지씨가 가는게 맞지\n",
    "정말 죄송합니다. 저는 못갑니다.\n",
    "장난해? 모두를 위해 영지씨가 희생하는게 싫어?\n",
    "네. 부당한 방법으로 가는 것 같습니다.\n",
    "영지씨 안가면 회사생활 오래 못할 것 같은데 그래도 안갈거야? 안가면 지옥일텐데.\n",
    "그래도 이 방법은 아닌 것 같습니다. 죄송합니다.'''\n",
    "\n",
    "test_y = encoder.transform([\"직장 내 괴롭힘 대화\"])"
   ],
   "metadata": {
    "collapsed": false,
    "ExecuteTime": {
     "end_time": "2023-07-07T08:04:18.024754200Z",
     "start_time": "2023-07-07T08:04:17.981319200Z"
    }
   }
  },
  {
   "cell_type": "code",
   "execution_count": 23,
   "outputs": [],
   "source": [
    "test_data = {\n",
    "    \"class\": [test_y, ],\n",
    "    \"conversation\": [test_x, ],\n",
    "}\n",
    "\n",
    "df2 = pd.DataFrame(test_data, index=[0])\n",
    "\n",
    "\n"
   ],
   "metadata": {
    "collapsed": false,
    "ExecuteTime": {
     "end_time": "2023-07-07T08:04:18.024754200Z",
     "start_time": "2023-07-07T08:04:17.995319300Z"
    }
   }
  },
  {
   "cell_type": "code",
   "execution_count": 24,
   "outputs": [
    {
     "name": "stdout",
     "output_type": "stream",
     "text": [
      "1/1 [==============================] - 0s 189ms/step\n"
     ]
    }
   ],
   "source": [
    "# 테스트 데이터 전처리\n",
    "df2['conversation'] = df2['conversation'].apply(mecab.morphs)\n",
    "test_sequences = tokenizer.texts_to_sequences(df2['conversation'])\n",
    "test_pad = pad_sequences(test_sequences, maxlen=data_pad.shape[1])\n",
    "\n",
    "# 예측 수행\n",
    "predictions = model.predict(test_pad)\n"
   ],
   "metadata": {
    "collapsed": false,
    "ExecuteTime": {
     "end_time": "2023-07-07T08:04:18.237431700Z",
     "start_time": "2023-07-07T08:04:18.006015Z"
    }
   }
  },
  {
   "cell_type": "code",
   "execution_count": 25,
   "outputs": [],
   "source": [
    "predicted_classes = np.argmax(predictions, axis=1)"
   ],
   "metadata": {
    "collapsed": false,
    "ExecuteTime": {
     "end_time": "2023-07-07T08:04:18.266790600Z",
     "start_time": "2023-07-07T08:04:18.239429600Z"
    }
   }
  },
  {
   "cell_type": "code",
   "execution_count": 26,
   "outputs": [],
   "source": [
    "predicted_labels = encoder.inverse_transform(predicted_classes)"
   ],
   "metadata": {
    "collapsed": false,
    "ExecuteTime": {
     "end_time": "2023-07-07T08:04:18.268791Z",
     "start_time": "2023-07-07T08:04:18.253418800Z"
    }
   }
  },
  {
   "cell_type": "code",
   "execution_count": 27,
   "outputs": [
    {
     "data": {
      "text/plain": "array(['직장 내 괴롭힘 대화'], dtype=object)"
     },
     "execution_count": 27,
     "metadata": {},
     "output_type": "execute_result"
    }
   ],
   "source": [
    "predicted_labels"
   ],
   "metadata": {
    "collapsed": false,
    "ExecuteTime": {
     "end_time": "2023-07-07T08:04:18.282778200Z",
     "start_time": "2023-07-07T08:04:18.269791900Z"
    }
   }
  },
  {
   "cell_type": "code",
   "execution_count": 28,
   "outputs": [],
   "source": [
    "def test_routine(model):\n",
    "    predictions = model.predict(test_pad)\n",
    "    predicted_classes = np.argmax(predictions, axis=1)\n",
    "    predicted_labels = encoder.inverse_transform(predicted_classes)\n",
    "    print(predicted_labels)\n",
    "\n"
   ],
   "metadata": {
    "collapsed": false,
    "ExecuteTime": {
     "end_time": "2023-07-07T08:04:18.310960200Z",
     "start_time": "2023-07-07T08:04:18.284779200Z"
    }
   }
  },
  {
   "cell_type": "code",
   "execution_count": 29,
   "outputs": [],
   "source": [
    "def one_shot(get_model):\n",
    "    model, history = train(get_model)\n",
    "    visualization(history)\n",
    "    test_routine(model)"
   ],
   "metadata": {
    "collapsed": false,
    "ExecuteTime": {
     "end_time": "2023-07-07T08:04:18.313573800Z",
     "start_time": "2023-07-07T08:04:18.299962300Z"
    }
   }
  },
  {
   "cell_type": "code",
   "execution_count": 30,
   "outputs": [
    {
     "name": "stdout",
     "output_type": "stream",
     "text": [
      "Model: \"sequential_1\"\n",
      "_________________________________________________________________\n",
      " Layer (type)                Output Shape              Param #   \n",
      "=================================================================\n",
      " embedding_1 (Embedding)     (None, 359, 128)          3508480   \n",
      "                                                                 \n",
      " conv1d (Conv1D)             (None, 355, 128)          82048     \n",
      "                                                                 \n",
      " global_max_pooling1d (Globa  (None, 128)              0         \n",
      " lMaxPooling1D)                                                  \n",
      "                                                                 \n",
      " dense_2 (Dense)             (None, 64)                8256      \n",
      "                                                                 \n",
      " dense_3 (Dense)             (None, 4)                 260       \n",
      "                                                                 \n",
      "=================================================================\n",
      "Total params: 3,599,044\n",
      "Trainable params: 3,599,044\n",
      "Non-trainable params: 0\n",
      "_________________________________________________________________\n",
      "Epoch 1/10\n",
      "112/112 [==============================] - 3s 9ms/step - loss: 1.1402 - accuracy: 0.5159 - val_loss: 0.7592 - val_accuracy: 0.6911\n",
      "Epoch 2/10\n",
      "112/112 [==============================] - 1s 5ms/step - loss: 0.4907 - accuracy: 0.8307 - val_loss: 0.4503 - val_accuracy: 0.8076\n",
      "Epoch 3/10\n",
      "112/112 [==============================] - 1s 6ms/step - loss: 0.1325 - accuracy: 0.9699 - val_loss: 0.4453 - val_accuracy: 0.8354\n",
      "Epoch 4/10\n",
      "112/112 [==============================] - 1s 5ms/step - loss: 0.0213 - accuracy: 0.9989 - val_loss: 0.4204 - val_accuracy: 0.8456\n",
      "Epoch 5/10\n",
      "112/112 [==============================] - 1s 5ms/step - loss: 0.0055 - accuracy: 1.0000 - val_loss: 0.4299 - val_accuracy: 0.8481\n",
      "Epoch 6/10\n",
      "112/112 [==============================] - 1s 5ms/step - loss: 0.0030 - accuracy: 1.0000 - val_loss: 0.4408 - val_accuracy: 0.8506\n",
      "Epoch 7/10\n",
      "112/112 [==============================] - 1s 5ms/step - loss: 0.0019 - accuracy: 1.0000 - val_loss: 0.4531 - val_accuracy: 0.8456\n",
      "Epoch 8/10\n",
      "112/112 [==============================] - 1s 5ms/step - loss: 0.0013 - accuracy: 1.0000 - val_loss: 0.4610 - val_accuracy: 0.8608\n",
      "Epoch 9/10\n",
      "112/112 [==============================] - 1s 6ms/step - loss: 9.9395e-04 - accuracy: 1.0000 - val_loss: 0.4707 - val_accuracy: 0.8481\n",
      "Epoch 10/10\n",
      "112/112 [==============================] - 1s 5ms/step - loss: 7.7415e-04 - accuracy: 1.0000 - val_loss: 0.4769 - val_accuracy: 0.8532\n"
     ]
    },
    {
     "data": {
      "text/plain": "<Figure size 640x480 with 1 Axes>",
      "image/png": "[encoded data removed]"
     },
     "metadata": {},
     "output_type": "display_data"
    },
    {
     "data": {
      "text/plain": "<Figure size 640x480 with 1 Axes>",
      "image/png": "[encoded data removed]"
     },
     "metadata": {},
     "output_type": "display_data"
    },
    {
     "name": "stdout",
     "output_type": "stream",
     "text": [
      "1/1 [==============================] - 0s 47ms/step\n",
      "['직장 내 괴롭힘 대화']\n"
     ]
    }
   ],
   "source": [
    "one_shot(get_cnn)"
   ],
   "metadata": {
    "collapsed": false,
    "ExecuteTime": {
     "end_time": "2023-07-07T08:04:27.167815300Z",
     "start_time": "2023-07-07T08:04:18.313573800Z"
    }
   }
  },
  {
   "cell_type": "code",
   "execution_count": 31,
   "outputs": [
    {
     "name": "stdout",
     "output_type": "stream",
     "text": [
      "Model: \"sequential_2\"\n",
      "_________________________________________________________________\n",
      " Layer (type)                Output Shape              Param #   \n",
      "=================================================================\n",
      " embedding_2 (Embedding)     (None, 359, 128)          3508480   \n",
      "                                                                 \n",
      " flatten (Flatten)           (None, 45952)             0         \n",
      "                                                                 \n",
      " dense_4 (Dense)             (None, 64)                2940992   \n",
      "                                                                 \n",
      " dense_5 (Dense)             (None, 4)                 260       \n",
      "                                                                 \n",
      "=================================================================\n",
      "Total params: 6,449,732\n",
      "Trainable params: 6,449,732\n",
      "Non-trainable params: 0\n",
      "_________________________________________________________________\n",
      "Epoch 1/10\n",
      "112/112 [==============================] - 1s 6ms/step - loss: 1.2867 - accuracy: 0.4141 - val_loss: 1.0084 - val_accuracy: 0.5924\n",
      "Epoch 2/10\n",
      "112/112 [==============================] - 0s 4ms/step - loss: 0.4886 - accuracy: 0.8624 - val_loss: 0.4780 - val_accuracy: 0.8278\n",
      "Epoch 3/10\n",
      "112/112 [==============================] - 0s 4ms/step - loss: 0.0548 - accuracy: 0.9902 - val_loss: 0.4442 - val_accuracy: 0.8329\n",
      "Epoch 4/10\n",
      "112/112 [==============================] - 0s 4ms/step - loss: 0.0086 - accuracy: 1.0000 - val_loss: 0.4250 - val_accuracy: 0.8380\n",
      "Epoch 5/10\n",
      "112/112 [==============================] - 0s 4ms/step - loss: 0.0035 - accuracy: 1.0000 - val_loss: 0.4271 - val_accuracy: 0.8405\n",
      "Epoch 6/10\n",
      "112/112 [==============================] - 0s 4ms/step - loss: 0.0022 - accuracy: 1.0000 - val_loss: 0.4302 - val_accuracy: 0.8405\n",
      "Epoch 7/10\n",
      "112/112 [==============================] - 0s 4ms/step - loss: 0.0013 - accuracy: 1.0000 - val_loss: 0.4354 - val_accuracy: 0.8405\n",
      "Epoch 8/10\n",
      "112/112 [==============================] - 0s 4ms/step - loss: 9.5270e-04 - accuracy: 1.0000 - val_loss: 0.4392 - val_accuracy: 0.8506\n",
      "Epoch 9/10\n",
      "112/112 [==============================] - 0s 4ms/step - loss: 6.3957e-04 - accuracy: 1.0000 - val_loss: 0.4517 - val_accuracy: 0.8456\n",
      "Epoch 10/10\n",
      "112/112 [==============================] - 0s 4ms/step - loss: 4.1092e-04 - accuracy: 1.0000 - val_loss: 0.4666 - val_accuracy: 0.8481\n"
     ]
    },
    {
     "data": {
      "text/plain": "<Figure size 640x480 with 1 Axes>",
      "image/png": "[encoded data removed]"
     },
     "metadata": {},
     "output_type": "display_data"
    },
    {
     "data": {
      "text/plain": "<Figure size 640x480 with 1 Axes>",
      "image/png": "[encoded data removed]"
     },
     "metadata": {},
     "output_type": "display_data"
    },
    {
     "name": "stdout",
     "output_type": "stream",
     "text": [
      "1/1 [==============================] - 0s 32ms/step\n",
      "['직장 내 괴롭힘 대화']\n"
     ]
    }
   ],
   "source": [
    "one_shot(get_mlp)"
   ],
   "metadata": {
    "collapsed": false,
    "ExecuteTime": {
     "end_time": "2023-07-07T08:04:32.432749700Z",
     "start_time": "2023-07-07T08:04:27.167815300Z"
    }
   }
  },
  {
   "cell_type": "code",
   "execution_count": 31,
   "outputs": [],
   "source": [],
   "metadata": {
    "collapsed": false,
    "ExecuteTime": {
     "end_time": "2023-07-07T08:04:32.464013Z",
     "start_time": "2023-07-07T08:04:32.432749700Z"
    }
   }
  }
 ],
 "metadata": {
  "kernelspec": {
   "display_name": "Python 3",
   "language": "python",
   "name": "python3"
  },
  "language_info": {
   "codemirror_mode": {
    "name": "ipython",
    "version": 2
   },
   "file_extension": ".py",
   "mimetype": "text/x-python",
   "name": "python",
   "nbconvert_exporter": "python",
   "pygments_lexer": "ipython2",
   "version": "2.7.6"
  }
 },
 "nbformat": 4,
 "nbformat_minor": 0
}
