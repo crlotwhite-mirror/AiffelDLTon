{
 "cells": [
  {
   "cell_type": "code",
   "execution_count": 1,
   "metadata": {
    "collapsed": true,
    "ExecuteTime": {
     "end_time": "2023-07-07T09:03:52.547716800Z",
     "start_time": "2023-07-07T09:03:50.867894Z"
    }
   },
   "outputs": [],
   "source": [
    "import pandas as pd\n",
    "import numpy as np\n",
    "from sklearn.model_selection import train_test_split\n",
    "from sklearn.preprocessing import LabelEncoder\n",
    "from konlpy.tag import Mecab,Okt\n",
    "from keras.preprocessing.text import Tokenizer\n",
    "from keras_preprocessing.sequence import pad_sequences\n",
    "from keras.models import Sequential\n",
    "from keras.layers import Dense, Embedding, Flatten"
   ]
  },
  {
   "cell_type": "code",
   "execution_count": 2,
   "outputs": [
    {
     "data": {
      "text/plain": "   idx      class                                       conversation\n0    0      협박 대화  지금 너 스스로를 죽여달라고 애원하는 것인가?\\n 아닙니다. 죄송합니다.\\n 죽을 ...\n1    1      협박 대화  길동경찰서입니다.\\n9시 40분 마트에 폭발물을 설치할거다.\\n네?\\n똑바로 들어 ...\n2    2  기타 괴롭힘 대화  너 되게 귀여운거 알지? 나보다 작은 남자는 첨봤어.\\n그만해. 니들 놀리는거 재미...\n3    3      갈취 대화  어이 거기\\n예??\\n너 말이야 너. 이리 오라고\\n무슨 일.\\n너 옷 좋아보인다?...\n4    4      갈취 대화  저기요 혹시 날이 너무 뜨겁잖아요? 저희 회사에서 이 선크림 파는데 한 번 손등에 ...",
      "text/html": "<div>\n<style scoped>\n    .dataframe tbody tr th:only-of-type {\n        vertical-align: middle;\n    }\n\n    .dataframe tbody tr th {\n        vertical-align: top;\n    }\n\n    .dataframe thead th {\n        text-align: right;\n    }\n</style>\n<table border=\"1\" class=\"dataframe\">\n  <thead>\n    <tr style=\"text-align: right;\">\n      <th></th>\n      <th>idx</th>\n      <th>class</th>\n      <th>conversation</th>\n    </tr>\n  </thead>\n  <tbody>\n    <tr>\n      <th>0</th>\n      <td>0</td>\n      <td>협박 대화</td>\n      <td>지금 너 스스로를 죽여달라고 애원하는 것인가?\\n 아닙니다. 죄송합니다.\\n 죽을 ...</td>\n    </tr>\n    <tr>\n      <th>1</th>\n      <td>1</td>\n      <td>협박 대화</td>\n      <td>길동경찰서입니다.\\n9시 40분 마트에 폭발물을 설치할거다.\\n네?\\n똑바로 들어 ...</td>\n    </tr>\n    <tr>\n      <th>2</th>\n      <td>2</td>\n      <td>기타 괴롭힘 대화</td>\n      <td>너 되게 귀여운거 알지? 나보다 작은 남자는 첨봤어.\\n그만해. 니들 놀리는거 재미...</td>\n    </tr>\n    <tr>\n      <th>3</th>\n      <td>3</td>\n      <td>갈취 대화</td>\n      <td>어이 거기\\n예??\\n너 말이야 너. 이리 오라고\\n무슨 일.\\n너 옷 좋아보인다?...</td>\n    </tr>\n    <tr>\n      <th>4</th>\n      <td>4</td>\n      <td>갈취 대화</td>\n      <td>저기요 혹시 날이 너무 뜨겁잖아요? 저희 회사에서 이 선크림 파는데 한 번 손등에 ...</td>\n    </tr>\n  </tbody>\n</table>\n</div>"
     },
     "execution_count": 2,
     "metadata": {},
     "output_type": "execute_result"
    }
   ],
   "source": [
    "# 데이터 불러오기\n",
    "data = pd.read_csv('train.csv')\n",
    "data.head()"
   ],
   "metadata": {
    "collapsed": false,
    "ExecuteTime": {
     "end_time": "2023-07-07T09:03:52.592720700Z",
     "start_time": "2023-07-07T09:03:52.549717700Z"
    }
   }
  },
  {
   "cell_type": "code",
   "execution_count": 3,
   "outputs": [],
   "source": [
    "# class 열을 숫자로 변환\n",
    "encoder = LabelEncoder()\n",
    "data['class'] = encoder.fit_transform(data['class'])"
   ],
   "metadata": {
    "collapsed": false,
    "ExecuteTime": {
     "end_time": "2023-07-07T09:03:52.610731200Z",
     "start_time": "2023-07-07T09:03:52.594223300Z"
    }
   }
  },
  {
   "cell_type": "code",
   "execution_count": 4,
   "outputs": [],
   "source": [
    "from koeda import EDA\n",
    "\n",
    "eda = EDA(\n",
    "    morpheme_analyzer=\"Okt\", alpha_sr=0.0, alpha_ri=0.3, alpha_rs=0.3, prob_rd=0.3\n",
    ")\n",
    "\n",
    "# text = data.loc[0, 'conversation']\n",
    "# result = eda(text, p=(0.9, 0.9, 0.9, 0.9), repetition=1)\n",
    "# print(result)"
   ],
   "metadata": {
    "collapsed": false,
    "ExecuteTime": {
     "end_time": "2023-07-07T09:03:53.180817400Z",
     "start_time": "2023-07-07T09:03:52.607728900Z"
    }
   }
  },
  {
   "cell_type": "code",
   "execution_count": 6,
   "outputs": [],
   "source": [
    "def run_eda(text):\n",
    "    return eda(text, p=(0.9, 0.9, 0.9, 0.9), repetition=1)\n",
    "\n",
    "# 랜덤하게 행 선택 (예: 전체 행의 20%를 선택)\n",
    "random_indices = np.random.choice(data.index, size=int(len(data)*0.3), replace=False)\n",
    "\n",
    "# 선택된 행에 대해 Random swap 함수 적용\n",
    "augmented_rows = data.loc[random_indices, 'conversation'].apply(run_eda)\n",
    "\n",
    "# 증강된 데이터를 복사하고, 'text' 열에 증강된 텍스트를 삽입\n",
    "new_rows = data.loc[random_indices].copy()\n",
    "new_rows['conversation'] = augmented_rows\n",
    "\n",
    "# 원본 데이터프레임에 증강된 데이터 추가\n",
    "df_augmented = pd.concat([data, new_rows])"
   ],
   "metadata": {
    "collapsed": false,
    "ExecuteTime": {
     "end_time": "2023-07-07T09:04:27.824536Z",
     "start_time": "2023-07-07T09:04:11.764594900Z"
    }
   }
  },
  {
   "cell_type": "code",
   "execution_count": 7,
   "outputs": [
    {
     "data": {
      "text/plain": "(3950, 5135)"
     },
     "execution_count": 7,
     "metadata": {},
     "output_type": "execute_result"
    }
   ],
   "source": [
    "len(data), len(df_augmented)"
   ],
   "metadata": {
    "collapsed": false,
    "ExecuteTime": {
     "end_time": "2023-07-07T09:04:29.588834400Z",
     "start_time": "2023-07-07T09:04:29.578834Z"
    }
   }
  },
  {
   "cell_type": "code",
   "execution_count": null,
   "outputs": [],
   "source": [],
   "metadata": {
    "collapsed": false
   }
  }
 ],
 "metadata": {
  "kernelspec": {
   "display_name": "Python 3",
   "language": "python",
   "name": "python3"
  },
  "language_info": {
   "codemirror_mode": {
    "name": "ipython",
    "version": 2
   },
   "file_extension": ".py",
   "mimetype": "text/x-python",
   "name": "python",
   "nbconvert_exporter": "python",
   "pygments_lexer": "ipython2",
   "version": "2.7.6"
  }
 },
 "nbformat": 4,
 "nbformat_minor": 0
}
