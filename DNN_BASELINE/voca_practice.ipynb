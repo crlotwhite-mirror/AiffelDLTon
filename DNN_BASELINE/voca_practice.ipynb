{
 "cells": [
  {
   "cell_type": "code",
   "execution_count": 1,
   "metadata": {
    "collapsed": true,
    "ExecuteTime": {
     "end_time": "2023-07-07T08:31:56.456063100Z",
     "start_time": "2023-07-07T08:31:55.849327Z"
    }
   },
   "outputs": [],
   "source": [
    "from gensim.models import Word2Vec\n",
    "from gensim.models.keyedvectors import KeyedVectors\n",
    "\n",
    "# 미리 학습된 Word2Vec 모델 로드\n",
    "model_path = \"ko/ko.bin\"\n",
    "word2vec_model = Word2Vec.load(model_path)\n",
    "\n",
    "def get_synonym_set(word, model, topn=10):\n",
    "    # 해당 단어에 대한 벡터를 구하고, 가장 가까운 단어를 찾음\n",
    "    synonyms = model.wv.most_similar(word, topn=topn)\n",
    "\n",
    "    # 단어들만 선택\n",
    "    synonym_set = set([syn[0] for syn in synonyms])\n",
    "\n",
    "    return synonym_set\n"
   ]
  },
  {
   "cell_type": "code",
   "execution_count": 3,
   "outputs": [
    {
     "data": {
      "text/plain": "{'강탈', '공갈', '매수', '몰수', '착복', '추징', '탐하', '폭행', '협박', '횡령'}"
     },
     "execution_count": 3,
     "metadata": {},
     "output_type": "execute_result"
    }
   ],
   "source": [
    "get_synonym_set(\"갈취\", word2vec_model)"
   ],
   "metadata": {
    "collapsed": false,
    "ExecuteTime": {
     "end_time": "2023-07-07T08:32:22.443695200Z",
     "start_time": "2023-07-07T08:32:22.399045800Z"
    }
   }
  },
  {
   "cell_type": "code",
   "execution_count": null,
   "outputs": [],
   "source": [],
   "metadata": {
    "collapsed": false
   }
  }
 ],
 "metadata": {
  "kernelspec": {
   "display_name": "Python 3",
   "language": "python",
   "name": "python3"
  },
  "language_info": {
   "codemirror_mode": {
    "name": "ipython",
    "version": 2
   },
   "file_extension": ".py",
   "mimetype": "text/x-python",
   "name": "python",
   "nbconvert_exporter": "python",
   "pygments_lexer": "ipython2",
   "version": "2.7.6"
  }
 },
 "nbformat": 4,
 "nbformat_minor": 0
}
