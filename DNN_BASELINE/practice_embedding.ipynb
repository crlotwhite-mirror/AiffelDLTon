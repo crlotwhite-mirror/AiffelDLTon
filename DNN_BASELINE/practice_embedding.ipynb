{
 "cells": [
  {
   "cell_type": "code",
   "execution_count": 1,
   "metadata": {
    "ExecuteTime": {
     "end_time": "2023-07-07T06:03:07.450983500Z",
     "start_time": "2023-07-07T06:03:05.842815Z"
    }
   },
   "outputs": [
    {
     "name": "stderr",
     "output_type": "stream",
     "text": [
      "2023-07-07 18:29:49.008217: I tensorflow/core/platform/cpu_feature_guard.cc:182] This TensorFlow binary is optimized to use available CPU instructions in performance-critical operations.\n",
      "To enable the following instructions: SSE4.1 SSE4.2 AVX AVX2 FMA, in other operations, rebuild TensorFlow with the appropriate compiler flags.\n"
     ]
    }
   ],
   "source": [
    "import pandas as pd\n",
    "import numpy as np\n",
    "from sklearn.model_selection import train_test_split\n",
    "from sklearn.preprocessing import LabelEncoder\n",
    "from konlpy.tag import Mecab,Okt\n",
    "from keras.preprocessing.text import Tokenizer\n",
    "from keras_preprocessing.sequence import pad_sequences\n",
    "from keras.models import Sequential\n",
    "from keras.layers import Dense, Embedding, Flatten"
   ]
  },
  {
   "cell_type": "markdown",
   "metadata": {},
   "source": []
  },
  {
   "cell_type": "code",
   "execution_count": 2,
   "metadata": {
    "ExecuteTime": {
     "end_time": "2023-07-07T06:03:07.495874700Z",
     "start_time": "2023-07-07T06:03:07.451982100Z"
    }
   },
   "outputs": [
    {
     "data": {
      "text/html": [
       "<div>\n",
       "<style scoped>\n",
       "    .dataframe tbody tr th:only-of-type {\n",
       "        vertical-align: middle;\n",
       "    }\n",
       "\n",
       "    .dataframe tbody tr th {\n",
       "        vertical-align: top;\n",
       "    }\n",
       "\n",
       "    .dataframe thead th {\n",
       "        text-align: right;\n",
       "    }\n",
       "</style>\n",
       "<table border=\"1\" class=\"dataframe\">\n",
       "  <thead>\n",
       "    <tr style=\"text-align: right;\">\n",
       "      <th></th>\n",
       "      <th>idx</th>\n",
       "      <th>class</th>\n",
       "      <th>conversation</th>\n",
       "    </tr>\n",
       "  </thead>\n",
       "  <tbody>\n",
       "    <tr>\n",
       "      <th>0</th>\n",
       "      <td>0</td>\n",
       "      <td>협박 대화</td>\n",
       "      <td>지금 너 스스로를 죽여달라고 애원하는 것인가?\\n 아닙니다. 죄송합니다.\\n 죽을 ...</td>\n",
       "    </tr>\n",
       "    <tr>\n",
       "      <th>1</th>\n",
       "      <td>1</td>\n",
       "      <td>협박 대화</td>\n",
       "      <td>길동경찰서입니다.\\n9시 40분 마트에 폭발물을 설치할거다.\\n네?\\n똑바로 들어 ...</td>\n",
       "    </tr>\n",
       "    <tr>\n",
       "      <th>2</th>\n",
       "      <td>2</td>\n",
       "      <td>기타 괴롭힘 대화</td>\n",
       "      <td>너 되게 귀여운거 알지? 나보다 작은 남자는 첨봤어.\\n그만해. 니들 놀리는거 재미...</td>\n",
       "    </tr>\n",
       "    <tr>\n",
       "      <th>3</th>\n",
       "      <td>3</td>\n",
       "      <td>갈취 대화</td>\n",
       "      <td>어이 거기\\n예??\\n너 말이야 너. 이리 오라고\\n무슨 일.\\n너 옷 좋아보인다?...</td>\n",
       "    </tr>\n",
       "    <tr>\n",
       "      <th>4</th>\n",
       "      <td>4</td>\n",
       "      <td>갈취 대화</td>\n",
       "      <td>저기요 혹시 날이 너무 뜨겁잖아요? 저희 회사에서 이 선크림 파는데 한 번 손등에 ...</td>\n",
       "    </tr>\n",
       "  </tbody>\n",
       "</table>\n",
       "</div>"
      ],
      "text/plain": [
       "   idx      class                                       conversation\n",
       "0    0      협박 대화  지금 너 스스로를 죽여달라고 애원하는 것인가?\\n 아닙니다. 죄송합니다.\\n 죽을 ...\n",
       "1    1      협박 대화  길동경찰서입니다.\\n9시 40분 마트에 폭발물을 설치할거다.\\n네?\\n똑바로 들어 ...\n",
       "2    2  기타 괴롭힘 대화  너 되게 귀여운거 알지? 나보다 작은 남자는 첨봤어.\\n그만해. 니들 놀리는거 재미...\n",
       "3    3      갈취 대화  어이 거기\\n예??\\n너 말이야 너. 이리 오라고\\n무슨 일.\\n너 옷 좋아보인다?...\n",
       "4    4      갈취 대화  저기요 혹시 날이 너무 뜨겁잖아요? 저희 회사에서 이 선크림 파는데 한 번 손등에 ..."
      ]
     },
     "execution_count": 2,
     "metadata": {},
     "output_type": "execute_result"
    }
   ],
   "source": [
    "# 데이터 불러오기\n",
    "data = pd.read_csv('train.csv')\n",
    "data.head()"
   ]
  },
  {
   "cell_type": "code",
   "execution_count": 3,
   "metadata": {
    "ExecuteTime": {
     "end_time": "2023-07-07T06:03:07.514584500Z",
     "start_time": "2023-07-07T06:03:07.496874700Z"
    }
   },
   "outputs": [],
   "source": [
    "# class 열을 숫자로 변환\n",
    "encoder = LabelEncoder()\n",
    "data['class'] = encoder.fit_transform(data['class'])"
   ]
  },
  {
   "cell_type": "code",
   "execution_count": 4,
   "metadata": {
    "ExecuteTime": {
     "end_time": "2023-07-07T06:03:27.184988900Z",
     "start_time": "2023-07-07T06:03:07.511581800Z"
    }
   },
   "outputs": [],
   "source": [
    "# konlpy의 Mecab을 이용한 토큰화\n",
    "mecab = Okt()\n",
    "data['conversation'] = data['conversation'].apply(mecab.morphs)"
   ]
  },
  {
   "cell_type": "code",
   "execution_count": 5,
   "metadata": {
    "ExecuteTime": {
     "end_time": "2023-07-07T06:03:27.200882500Z",
     "start_time": "2023-07-07T06:03:27.184988900Z"
    }
   },
   "outputs": [
    {
     "data": {
      "text/html": [
       "<div>\n",
       "<style scoped>\n",
       "    .dataframe tbody tr th:only-of-type {\n",
       "        vertical-align: middle;\n",
       "    }\n",
       "\n",
       "    .dataframe tbody tr th {\n",
       "        vertical-align: top;\n",
       "    }\n",
       "\n",
       "    .dataframe thead th {\n",
       "        text-align: right;\n",
       "    }\n",
       "</style>\n",
       "<table border=\"1\" class=\"dataframe\">\n",
       "  <thead>\n",
       "    <tr style=\"text-align: right;\">\n",
       "      <th></th>\n",
       "      <th>idx</th>\n",
       "      <th>class</th>\n",
       "      <th>conversation</th>\n",
       "    </tr>\n",
       "  </thead>\n",
       "  <tbody>\n",
       "    <tr>\n",
       "      <th>0</th>\n",
       "      <td>0</td>\n",
       "      <td>3</td>\n",
       "      <td>[지금, 너, 스스로, 를, 죽여, 달라, 고, 애원, 하는, 것, 인가, ?, \\...</td>\n",
       "    </tr>\n",
       "    <tr>\n",
       "      <th>1</th>\n",
       "      <td>1</td>\n",
       "      <td>3</td>\n",
       "      <td>[길동, 경찰서, 입니다, ., \\n, 9시, 40분, 마트, 에, 폭발물, 을, ...</td>\n",
       "    </tr>\n",
       "    <tr>\n",
       "      <th>2</th>\n",
       "      <td>2</td>\n",
       "      <td>1</td>\n",
       "      <td>[너, 되게, 귀여운거, 알, 지, ?, 나, 보다, 작은, 남자, 는, 첨, 봤어...</td>\n",
       "    </tr>\n",
       "    <tr>\n",
       "      <th>3</th>\n",
       "      <td>3</td>\n",
       "      <td>0</td>\n",
       "      <td>[어이, 거기, \\n, 예, ??, \\n, 너, 말, 이야, 너, ., 이리, 오라...</td>\n",
       "    </tr>\n",
       "    <tr>\n",
       "      <th>4</th>\n",
       "      <td>4</td>\n",
       "      <td>0</td>\n",
       "      <td>[저기, 요, 혹시, 날, 이, 너무, 뜨겁잖아요, ?, 저희, 회사, 에서, 이,...</td>\n",
       "    </tr>\n",
       "  </tbody>\n",
       "</table>\n",
       "</div>"
      ],
      "text/plain": [
       "   idx  class                                       conversation\n",
       "0    0      3  [지금, 너, 스스로, 를, 죽여, 달라, 고, 애원, 하는, 것, 인가, ?, \\...\n",
       "1    1      3  [길동, 경찰서, 입니다, ., \\n, 9시, 40분, 마트, 에, 폭발물, 을, ...\n",
       "2    2      1  [너, 되게, 귀여운거, 알, 지, ?, 나, 보다, 작은, 남자, 는, 첨, 봤어...\n",
       "3    3      0  [어이, 거기, \\n, 예, ??, \\n, 너, 말, 이야, 너, ., 이리, 오라...\n",
       "4    4      0  [저기, 요, 혹시, 날, 이, 너무, 뜨겁잖아요, ?, 저희, 회사, 에서, 이,..."
      ]
     },
     "execution_count": 5,
     "metadata": {},
     "output_type": "execute_result"
    }
   ],
   "source": [
    "data.head()"
   ]
  },
  {
   "cell_type": "code",
   "execution_count": 12,
   "metadata": {
    "ExecuteTime": {
     "end_time": "2023-07-07T06:03:27.404810300Z",
     "start_time": "2023-07-07T06:03:27.200882500Z"
    },
    "collapsed": true
   },
   "outputs": [
    {
     "data": {
      "text/plain": [
       "[37,\n",
       " 7,\n",
       " 2272,\n",
       " 40,\n",
       " 159,\n",
       " 275,\n",
       " 41,\n",
       " 8462,\n",
       " 88,\n",
       " 53,\n",
       " 571,\n",
       " 3,\n",
       " 6,\n",
       " 145,\n",
       " 2,\n",
       " 35,\n",
       " 2,\n",
       " 6,\n",
       " 288,\n",
       " 18,\n",
       " 19,\n",
       " 90,\n",
       " 321,\n",
       " 2397,\n",
       " 48,\n",
       " 63,\n",
       " 3013,\n",
       " 9,\n",
       " 3628,\n",
       " 6562,\n",
       " 51,\n",
       " 34,\n",
       " 3,\n",
       " 33,\n",
       " 159,\n",
       " 780,\n",
       " 12509,\n",
       " 2,\n",
       " 6,\n",
       " 83,\n",
       " 39,\n",
       " 22,\n",
       " 429,\n",
       " 2,\n",
       " 6,\n",
       " 7,\n",
       " 4,\n",
       " 1033,\n",
       " 34,\n",
       " 2,\n",
       " 7,\n",
       " 4,\n",
       " 1507,\n",
       " 11,\n",
       " 169,\n",
       " 18,\n",
       " 3629,\n",
       " 2,\n",
       " 6,\n",
       " 35,\n",
       " 2,\n",
       " 83,\n",
       " 39,\n",
       " 22,\n",
       " 429,\n",
       " 2,\n",
       " 6,\n",
       " 7,\n",
       " 3317,\n",
       " 1033,\n",
       " 1784,\n",
       " 5,\n",
       " 84,\n",
       " 2,\n",
       " 1033,\n",
       " 22,\n",
       " 2563,\n",
       " 7,\n",
       " 82,\n",
       " 11,\n",
       " 169,\n",
       " 63,\n",
       " 5377,\n",
       " 159,\n",
       " 360,\n",
       " 2,\n",
       " 6,\n",
       " 1033,\n",
       " 22,\n",
       " 134,\n",
       " 2,\n",
       " 119,\n",
       " 32,\n",
       " 1442,\n",
       " 2,\n",
       " 6,\n",
       " 54,\n",
       " 25,\n",
       " 159,\n",
       " 12510,\n",
       " 2,\n",
       " 6563,\n",
       " 489,\n",
       " 3,\n",
       " 6,\n",
       " 59,\n",
       " 1442,\n",
       " 2]"
      ]
     },
     "execution_count": 12,
     "metadata": {},
     "output_type": "execute_result"
    }
   ],
   "source": [
    "# 케라스를 이용한 정수 인코딩\n",
    "tokenizer = Tokenizer()\n",
    "tokenizer.fit_on_texts(data['conversation'])\n",
    "\n",
    "sequences = tokenizer.texts_to_sequences(data['conversation'])\n",
    "\n",
    "sequences[0]"
   ]
  },
  {
   "cell_type": "code",
   "execution_count": null,
   "metadata": {},
   "outputs": [],
   "source": [
    "# 입력 데이터 패딩 처리\n",
    "data_pad = pad_sequences(sequences)"
   ]
  },
  {
   "cell_type": "code",
   "execution_count": 9,
   "metadata": {
    "collapsed": true
   },
   "outputs": [
    {
     "data": {
      "text/plain": [
       "array([    0,     0,     0,     0,     0,     0,     0,     0,     0,\n",
       "           0,     0,     0,     0,     0,     0,     0,     0,     0,\n",
       "           0,     0,     0,     0,     0,     0,     0,     0,     0,\n",
       "           0,     0,     0,     0,     0,     0,     0,     0,     0,\n",
       "           0,     0,     0,     0,     0,     0,     0,     0,     0,\n",
       "           0,     0,     0,     0,     0,     0,     0,     0,     0,\n",
       "           0,     0,     0,     0,     0,     0,     0,     0,     0,\n",
       "           0,     0,     0,     0,     0,     0,     0,     0,     0,\n",
       "           0,     0,     0,     0,     0,     0,     0,     0,     0,\n",
       "           0,     0,     0,     0,     0,     0,     0,     0,     0,\n",
       "           0,     0,     0,     0,     0,     0,     0,     0,     0,\n",
       "           0,     0,     0,     0,     0,     0,     0,     0,     0,\n",
       "           0,     0,     0,     0,     0,     0,     0,     0,     0,\n",
       "           0,     0,     0,     0,     0,     0,     0,     0,     0,\n",
       "           0,     0,     0,     0,     0,     0,     0,     0,     0,\n",
       "           0,     0,     0,     0,     0,     0,     0,     0,     0,\n",
       "           0,     0,     0,     0,     0,     0,     0,     0,     0,\n",
       "           0,     0,     0,     0,     0,     0,     0,     0,     0,\n",
       "           0,     0,     0,     0,     0,     0,     0,     0,     0,\n",
       "           0,     0,     0,     0,     0,     0,     0,     0,     0,\n",
       "           0,     0,     0,     0,     0,     0,     0,     0,     0,\n",
       "           0,     0,     0,     0,     0,     0,     0,     0,     0,\n",
       "           0,     0,     0,     0,     0,     0,     0,     0,     0,\n",
       "           0,     0,     0,     0,     0,     0,     0,     0,     0,\n",
       "           0,     0,     0,     0,     0,     0,     0,     0,     0,\n",
       "           0,     0,     0,     0,     0,     0,     0,     0,     0,\n",
       "           0,     0,     0,     0,     0,     0,     0,     0,     0,\n",
       "           0,     0,     0,     0,     0,     0,     0,     0,    37,\n",
       "           7,  2272,    40,   159,   275,    41,  8462,    88,    53,\n",
       "         571,     3,     6,   145,     2,    35,     2,     6,   288,\n",
       "          18,    19,    90,   321,  2397,    48,    63,  3013,     9,\n",
       "        3628,  6562,    51,    34,     3,    33,   159,   780, 12509,\n",
       "           2,     6,    83,    39,    22,   429,     2,     6,     7,\n",
       "           4,  1033,    34,     2,     7,     4,  1507,    11,   169,\n",
       "          18,  3629,     2,     6,    35,     2,    83,    39,    22,\n",
       "         429,     2,     6,     7,  3317,  1033,  1784,     5,    84,\n",
       "           2,  1033,    22,  2563,     7,    82,    11,   169,    63,\n",
       "        5377,   159,   360,     2,     6,  1033,    22,   134,     2,\n",
       "         119,    32,  1442,     2,     6,    54,    25,   159, 12510,\n",
       "           2,  6563,   489,     3,     6,    59,  1442,     2],\n",
       "      dtype=int32)"
      ]
     },
     "execution_count": 9,
     "metadata": {},
     "output_type": "execute_result"
    }
   ],
   "source": [
    "data_pad[0]"
   ]
  },
  {
   "cell_type": "code",
   "execution_count": 21,
   "metadata": {},
   "outputs": [],
   "source": [
    "from gensim.models import Word2Vec\n",
    "\n",
    "tokenized = data_pad\n",
    "#tokenized = sequences\n",
    "tokenized = [[tokenizer.index_word[idx] for idx in seq if idx != 0] for seq in sequences]"
   ]
  },
  {
   "cell_type": "code",
   "execution_count": 26,
   "metadata": {},
   "outputs": [],
   "source": [
    "# Set the size of the word vectors\n",
    "vector_size = 100\n",
    "\n",
    "model = Word2Vec(sentences=tokenized, vector_size=vector_size, window=5, min_count=3, sg=0)"
   ]
  },
  {
   "cell_type": "code",
   "execution_count": 27,
   "metadata": {},
   "outputs": [],
   "source": [
    "import numpy as np\n",
    "from sklearn.model_selection import train_test_split\n",
    "\n",
    "data_embeddings = []\n",
    "\n",
    "for tokens in tokenized:\n",
    "    sample_vectors = np.zeros((len(tokens), vector_size))\n",
    "    \n",
    "    for i, token in enumerate(tokens):\n",
    "        if token in model.wv:\n",
    "            word_vector = model.wv.get_vector(token)\n",
    "            sample_vectors[i] = word_vector\n",
    "    \n",
    "    # Average the word vectors for the current sample\n",
    "    sample_embedding = np.mean(sample_vectors, axis=0)\n",
    "    \n",
    "    # Add the sample embedding to the list of embeddings\n",
    "    data_embeddings.append(sample_embedding)\n",
    "\n",
    "# Convert the list of embeddings to a 2D array\n",
    "data_embeddings = np.array(data_embeddings)\n",
    "\n",
    "# Split the data into training and validation sets\n",
    "X_train, X_val, y_train, y_val = train_test_split(data_embeddings, data['class'], test_size=0.1, random_state=42)\n"
   ]
  },
  {
   "cell_type": "code",
   "execution_count": 28,
   "metadata": {
    "ExecuteTime": {
     "end_time": "2023-07-07T06:03:27.436443200Z",
     "start_time": "2023-07-07T06:03:27.420434300Z"
    }
   },
   "outputs": [],
   "source": [
    "# 데이터셋 분리\n",
    "X_train, X_val, y_train, y_val = train_test_split(data_pad, data['class'], test_size=0.1, random_state=42)"
   ]
  },
  {
   "cell_type": "code",
   "execution_count": 29,
   "metadata": {},
   "outputs": [
    {
     "data": {
      "text/plain": [
       "(3555, 395, 3555, 395)"
      ]
     },
     "execution_count": 29,
     "metadata": {},
     "output_type": "execute_result"
    }
   ],
   "source": [
    "len(X_train), len(X_val), len(y_train), len(y_val)"
   ]
  },
  {
   "cell_type": "code",
   "execution_count": 30,
   "metadata": {
    "ExecuteTime": {
     "end_time": "2023-07-07T06:03:27.452074200Z",
     "start_time": "2023-07-07T06:03:27.436443200Z"
    }
   },
   "outputs": [],
   "source": [
    "def get_mlp():\n",
    "    # MLP 모델 생성\n",
    "    model = Sequential()\n",
    "    model.add(Embedding(len(tokenizer.word_index)+1, 128, input_length=data_pad.shape[1]))\n",
    "    model.add(Flatten())\n",
    "    model.add(Dense(64, activation='relu'))\n",
    "    model.add(Dense(len(data['class'].unique()), activation='softmax'))\n",
    "    return model"
   ]
  },
  {
   "cell_type": "code",
   "execution_count": 31,
   "metadata": {
    "ExecuteTime": {
     "end_time": "2023-07-07T06:03:27.467699200Z",
     "start_time": "2023-07-07T06:03:27.452074200Z"
    }
   },
   "outputs": [],
   "source": [
    "from keras.layers import Conv1D, GlobalMaxPooling1D\n",
    "\n",
    "def get_cnn():\n",
    "    # CNN 모델 생성\n",
    "    model = Sequential()\n",
    "    model.add(Embedding(len(tokenizer.word_index)+1, 128, input_length=data_pad.shape[1]))\n",
    "    model.add(Conv1D(128, 5, activation='relu'))\n",
    "    model.add(GlobalMaxPooling1D())\n",
    "    model.add(Dense(64, activation='relu'))\n",
    "    model.add(Dense(len(data['class'].unique()), activation='softmax'))\n",
    "\n",
    "    return model\n"
   ]
  },
  {
   "cell_type": "code",
   "execution_count": 32,
   "metadata": {
    "ExecuteTime": {
     "end_time": "2023-07-07T06:03:27.483323Z",
     "start_time": "2023-07-07T06:03:27.467699200Z"
    }
   },
   "outputs": [],
   "source": [
    "from keras.layers import LSTM, Dropout\n",
    "\n",
    "def get_lstm():\n",
    "    # LSTM 모델 생성\n",
    "    model = Sequential()\n",
    "    model.add(Embedding(len(tokenizer.word_index)+1, 128, input_length=data_pad.shape[1]))\n",
    "    model.add(LSTM(64))\n",
    "    model.add(Dense(64, activation='relu'))\n",
    "    model.add(Dropout(0.3))\n",
    "    model.add(Dense(len(data['class'].unique()), activation='softmax'))\n",
    "\n",
    "    return model\n"
   ]
  },
  {
   "cell_type": "code",
   "execution_count": 33,
   "metadata": {
    "ExecuteTime": {
     "end_time": "2023-07-07T06:03:28.299880500Z",
     "start_time": "2023-07-07T06:03:27.483323Z"
    }
   },
   "outputs": [
    {
     "name": "stderr",
     "output_type": "stream",
     "text": [
      "2023-07-07 18:47:04.226767: I tensorflow/core/common_runtime/process_util.cc:146] Creating new thread pool with default inter op setting: 2. Tune using inter_op_parallelism_threads for best performance.\n",
      "2023-07-07 18:47:04.421602: I tensorflow/core/common_runtime/executor.cc:1197] [/device:CPU:0] (DEBUG INFO) Executor start aborting (this does not indicate an error and you can ignore this message): INVALID_ARGUMENT: You must feed a value for placeholder tensor 'gradients/split_2_grad/concat/split_2/split_dim' with dtype int32\n",
      "\t [[{{node gradients/split_2_grad/concat/split_2/split_dim}}]]\n",
      "2023-07-07 18:47:04.422432: I tensorflow/core/common_runtime/executor.cc:1197] [/device:CPU:0] (DEBUG INFO) Executor start aborting (this does not indicate an error and you can ignore this message): INVALID_ARGUMENT: You must feed a value for placeholder tensor 'gradients/split_grad/concat/split/split_dim' with dtype int32\n",
      "\t [[{{node gradients/split_grad/concat/split/split_dim}}]]\n",
      "2023-07-07 18:47:04.423240: I tensorflow/core/common_runtime/executor.cc:1197] [/device:CPU:0] (DEBUG INFO) Executor start aborting (this does not indicate an error and you can ignore this message): INVALID_ARGUMENT: You must feed a value for placeholder tensor 'gradients/split_1_grad/concat/split_1/split_dim' with dtype int32\n",
      "\t [[{{node gradients/split_1_grad/concat/split_1/split_dim}}]]\n"
     ]
    },
    {
     "name": "stdout",
     "output_type": "stream",
     "text": [
      "Model: \"sequential\"\n",
      "_________________________________________________________________\n",
      " Layer (type)                Output Shape              Param #   \n",
      "=================================================================\n",
      " embedding (Embedding)       (None, 359, 128)          3508480   \n",
      "                                                                 \n",
      " lstm (LSTM)                 (None, 64)                49408     \n",
      "                                                                 \n",
      " dense (Dense)               (None, 64)                4160      \n",
      "                                                                 \n",
      " dropout (Dropout)           (None, 64)                0         \n",
      "                                                                 \n",
      " dense_1 (Dense)             (None, 4)                 260       \n",
      "                                                                 \n",
      "=================================================================\n",
      "Total params: 3,562,308\n",
      "Trainable params: 3,562,308\n",
      "Non-trainable params: 0\n",
      "_________________________________________________________________\n"
     ]
    }
   ],
   "source": [
    "model = get_lstm()\n",
    "model.summary()"
   ]
  },
  {
   "cell_type": "code",
   "execution_count": 34,
   "metadata": {
    "ExecuteTime": {
     "end_time": "2023-07-07T06:03:28.347234700Z",
     "start_time": "2023-07-07T06:03:28.299880500Z"
    }
   },
   "outputs": [],
   "source": [
    "# 모델 컴파일\n",
    "model.compile(optimizer='adam', loss='sparse_categorical_crossentropy', metrics=['accuracy'])"
   ]
  },
  {
   "cell_type": "code",
   "execution_count": 36,
   "metadata": {
    "ExecuteTime": {
     "end_time": "2023-07-07T06:05:02.797235300Z",
     "start_time": "2023-07-07T06:03:28.315593400Z"
    },
    "scrolled": true
   },
   "outputs": [
    {
     "name": "stdout",
     "output_type": "stream",
     "text": [
      "Epoch 1/5\n",
      "112/112 [==============================] - 22s 197ms/step - loss: 0.0234 - accuracy: 0.9947 - val_loss: 0.6573 - val_accuracy: 0.8025\n",
      "Epoch 2/5\n",
      "112/112 [==============================] - 24s 214ms/step - loss: 0.0170 - accuracy: 0.9972 - val_loss: 0.6782 - val_accuracy: 0.7975\n",
      "Epoch 3/5\n",
      "112/112 [==============================] - 27s 239ms/step - loss: 0.0127 - accuracy: 0.9966 - val_loss: 0.6585 - val_accuracy: 0.8304\n",
      "Epoch 4/5\n",
      "112/112 [==============================] - 30s 265ms/step - loss: 0.0023 - accuracy: 0.9994 - val_loss: 0.8183 - val_accuracy: 0.8304\n",
      "Epoch 5/5\n",
      "112/112 [==============================] - 28s 254ms/step - loss: 0.0287 - accuracy: 0.9935 - val_loss: 0.7632 - val_accuracy: 0.8228\n"
     ]
    }
   ],
   "source": [
    "# 모델 학습\n",
    "history = model.fit(X_train, y_train, validation_data=(X_val, y_val), epochs=5)"
   ]
  },
  {
   "cell_type": "code",
   "execution_count": 37,
   "metadata": {
    "ExecuteTime": {
     "end_time": "2023-07-07T06:05:02.813090700Z",
     "start_time": "2023-07-07T06:05:02.797235300Z"
    }
   },
   "outputs": [],
   "source": [
    "def train(get_model):\n",
    "    model = get_model()\n",
    "    model.summary()\n",
    "    # 모델 컴파일\n",
    "    model.compile(optimizer='adam', loss='sparse_categorical_crossentropy', metrics=['accuracy'])\n",
    "    # 모델 학습\n",
    "    history = model.fit(X_train, y_train, validation_data=(X_val, y_val), epochs=50)\n",
    "    return model, history"
   ]
  },
  {
   "cell_type": "code",
   "execution_count": 38,
   "metadata": {
    "ExecuteTime": {
     "end_time": "2023-07-07T06:05:03.487628900Z",
     "start_time": "2023-07-07T06:05:02.813090700Z"
    }
   },
   "outputs": [
    {
     "data": {
      "image/png": "[encoded data removed]",
      "text/plain": [
       "<Figure size 640x480 with 1 Axes>"
      ]
     },
     "metadata": {},
     "output_type": "display_data"
    },
    {
     "data": {
      "image/png": "[encoded data removed]",
      "text/plain": [
       "<Figure size 640x480 with 1 Axes>"
      ]
     },
     "metadata": {},
     "output_type": "display_data"
    }
   ],
   "source": [
    "import matplotlib.pyplot as plt\n",
    "\n",
    "def visualization(history):\n",
    "    # 시각화를 위한 데이터 정의\n",
    "    loss = history.history['loss']\n",
    "    val_loss = history.history['val_loss']\n",
    "    accuracy = history.history['accuracy']\n",
    "    val_accuracy = history.history['val_accuracy']\n",
    "\n",
    "    epochs = range(1, len(loss) + 1)\n",
    "\n",
    "    # 손실값 시각화\n",
    "    plt.figure()\n",
    "    plt.plot(epochs, loss, 'bo', label='Training loss')\n",
    "    plt.plot(epochs, val_loss, 'b', label='Validation loss')\n",
    "    plt.title('Training and validation loss')\n",
    "    plt.legend()\n",
    "\n",
    "    plt.show()\n",
    "\n",
    "    # 정확도 시각화\n",
    "    plt.figure()\n",
    "    plt.plot(epochs, accuracy, 'bo', label='Training accuracy')\n",
    "    plt.plot(epochs, val_accuracy, 'b', label='Validation accuracy')\n",
    "    plt.title('Training and validation accuracy')\n",
    "    plt.legend()\n",
    "\n",
    "    plt.show()\n",
    "\n",
    "visualization(history)\n"
   ]
  },
  {
   "cell_type": "code",
   "execution_count": 39,
   "metadata": {
    "ExecuteTime": {
     "end_time": "2023-07-07T06:05:03.503261800Z",
     "start_time": "2023-07-07T06:05:03.487628900Z"
    }
   },
   "outputs": [],
   "source": [
    "test_x = '''우리팀에서 다른팀으로 갈 사람 없나? 그럼 영지씨가 가는건 어때?\n",
    "네? 제가요?\n",
    "그렇지? 2달만 파견 잘 갔다오면 승진이야.\n",
    "네? 저는 별로 가고 싶지 않습니다.\n",
    "여기 있는 모든사람도 가기 싫어해. 그러니까 막내인 영지씨가 가는게 맞지\n",
    "정말 죄송합니다. 저는 못갑니다.\n",
    "장난해? 모두를 위해 영지씨가 희생하는게 싫어?\n",
    "네. 부당한 방법으로 가는 것 같습니다.\n",
    "영지씨 안가면 회사생활 오래 못할 것 같은데 그래도 안갈거야? 안가면 지옥일텐데.\n",
    "그래도 이 방법은 아닌 것 같습니다. 죄송합니다.'''\n",
    "\n",
    "test_y = encoder.transform([\"직장 내 괴롭힘 대화\"])"
   ]
  },
  {
   "cell_type": "code",
   "execution_count": 40,
   "metadata": {
    "ExecuteTime": {
     "end_time": "2023-07-07T06:05:03.546963400Z",
     "start_time": "2023-07-07T06:05:03.506612500Z"
    }
   },
   "outputs": [],
   "source": [
    "test_data = {\n",
    "    \"class\": [test_y, ],\n",
    "    \"conversation\": [test_x, ],\n",
    "}\n",
    "\n",
    "df2 = pd.DataFrame(test_data, index=[0])\n",
    "\n",
    "\n"
   ]
  },
  {
   "cell_type": "code",
   "execution_count": 41,
   "metadata": {
    "ExecuteTime": {
     "end_time": "2023-07-07T06:05:04.082441600Z",
     "start_time": "2023-07-07T06:05:03.520730200Z"
    }
   },
   "outputs": [
    {
     "name": "stdout",
     "output_type": "stream",
     "text": [
      "1/1 [==============================] - 0s 254ms/step\n"
     ]
    },
    {
     "name": "stderr",
     "output_type": "stream",
     "text": [
      "2023-07-07 18:52:15.233013: I tensorflow/core/common_runtime/executor.cc:1197] [/device:CPU:0] (DEBUG INFO) Executor start aborting (this does not indicate an error and you can ignore this message): INVALID_ARGUMENT: You must feed a value for placeholder tensor 'gradients/split_2_grad/concat/split_2/split_dim' with dtype int32\n",
      "\t [[{{node gradients/split_2_grad/concat/split_2/split_dim}}]]\n",
      "2023-07-07 18:52:15.234007: I tensorflow/core/common_runtime/executor.cc:1197] [/device:CPU:0] (DEBUG INFO) Executor start aborting (this does not indicate an error and you can ignore this message): INVALID_ARGUMENT: You must feed a value for placeholder tensor 'gradients/split_grad/concat/split/split_dim' with dtype int32\n",
      "\t [[{{node gradients/split_grad/concat/split/split_dim}}]]\n",
      "2023-07-07 18:52:15.234795: I tensorflow/core/common_runtime/executor.cc:1197] [/device:CPU:0] (DEBUG INFO) Executor start aborting (this does not indicate an error and you can ignore this message): INVALID_ARGUMENT: You must feed a value for placeholder tensor 'gradients/split_1_grad/concat/split_1/split_dim' with dtype int32\n",
      "\t [[{{node gradients/split_1_grad/concat/split_1/split_dim}}]]\n"
     ]
    }
   ],
   "source": [
    "# 테스트 데이터 전처리\n",
    "df2['conversation'] = df2['conversation'].apply(mecab.morphs)\n",
    "test_sequences = tokenizer.texts_to_sequences(df2['conversation'])\n",
    "test_pad = pad_sequences(test_sequences, maxlen=data_pad.shape[1])\n",
    "\n",
    "# 예측 수행\n",
    "predictions = model.predict(test_pad)\n"
   ]
  },
  {
   "cell_type": "code",
   "execution_count": 42,
   "metadata": {
    "ExecuteTime": {
     "end_time": "2023-07-07T06:05:04.114044800Z",
     "start_time": "2023-07-07T06:05:04.082441600Z"
    }
   },
   "outputs": [],
   "source": [
    "predicted_classes = np.argmax(predictions, axis=1)"
   ]
  },
  {
   "cell_type": "code",
   "execution_count": 43,
   "metadata": {
    "ExecuteTime": {
     "end_time": "2023-07-07T06:05:04.114044800Z",
     "start_time": "2023-07-07T06:05:04.098414400Z"
    }
   },
   "outputs": [],
   "source": [
    "predicted_labels = encoder.inverse_transform(predicted_classes)"
   ]
  },
  {
   "cell_type": "code",
   "execution_count": 44,
   "metadata": {
    "ExecuteTime": {
     "end_time": "2023-07-07T06:05:04.129669200Z",
     "start_time": "2023-07-07T06:05:04.114044800Z"
    }
   },
   "outputs": [
    {
     "data": {
      "text/plain": [
       "array(['직장 내 괴롭힘 대화'], dtype=object)"
      ]
     },
     "execution_count": 44,
     "metadata": {},
     "output_type": "execute_result"
    }
   ],
   "source": [
    "predicted_labels"
   ]
  },
  {
   "cell_type": "code",
   "execution_count": 45,
   "metadata": {
    "ExecuteTime": {
     "end_time": "2023-07-07T06:05:04.149995500Z",
     "start_time": "2023-07-07T06:05:04.129669200Z"
    }
   },
   "outputs": [],
   "source": [
    "def test_routine(model):\n",
    "    predictions = model.predict(test_pad)\n",
    "    predicted_classes = np.argmax(predictions, axis=1)\n",
    "    predicted_labels = encoder.inverse_transform(predicted_classes)\n",
    "    print(predicted_labels)"
   ]
  },
  {
   "cell_type": "code",
   "execution_count": 46,
   "metadata": {
    "ExecuteTime": {
     "end_time": "2023-07-07T06:14:52.554678900Z",
     "start_time": "2023-07-07T06:14:52.537064300Z"
    }
   },
   "outputs": [],
   "source": [
    "def one_shot(get_model):\n",
    "    model, history = train(get_model)\n",
    "    visualization(history)\n",
    "    test_routine(model)"
   ]
  },
  {
   "cell_type": "code",
   "execution_count": 47,
   "metadata": {
    "ExecuteTime": {
     "end_time": "2023-07-07T06:15:23.548269500Z",
     "start_time": "2023-07-07T06:14:55.328176200Z"
    }
   },
   "outputs": [
    {
     "name": "stdout",
     "output_type": "stream",
     "text": [
      "Model: \"sequential_1\"\n",
      "_________________________________________________________________\n",
      " Layer (type)                Output Shape              Param #   \n",
      "=================================================================\n",
      " embedding_1 (Embedding)     (None, 359, 128)          3508480   \n",
      "                                                                 \n",
      " conv1d (Conv1D)             (None, 355, 128)          82048     \n",
      "                                                                 \n",
      " global_max_pooling1d (Globa  (None, 128)              0         \n",
      " lMaxPooling1D)                                                  \n",
      "                                                                 \n",
      " dense_2 (Dense)             (None, 64)                8256      \n",
      "                                                                 \n",
      " dense_3 (Dense)             (None, 4)                 260       \n",
      "                                                                 \n",
      "=================================================================\n",
      "Total params: 3,599,044\n",
      "Trainable params: 3,599,044\n",
      "Non-trainable params: 0\n",
      "_________________________________________________________________\n",
      "Epoch 1/50\n",
      "112/112 [==============================] - 6s 50ms/step - loss: 1.1520 - accuracy: 0.4973 - val_loss: 0.7038 - val_accuracy: 0.7418\n",
      "Epoch 2/50\n",
      "112/112 [==============================] - 6s 54ms/step - loss: 0.4285 - accuracy: 0.8546 - val_loss: 0.4455 - val_accuracy: 0.8405\n",
      "Epoch 3/50\n",
      "112/112 [==============================] - 7s 62ms/step - loss: 0.1086 - accuracy: 0.9781 - val_loss: 0.4140 - val_accuracy: 0.8380\n",
      "Epoch 4/50\n",
      "112/112 [==============================] - 6s 50ms/step - loss: 0.0187 - accuracy: 0.9986 - val_loss: 0.4356 - val_accuracy: 0.8405\n",
      "Epoch 5/50\n",
      "112/112 [==============================] - 5s 49ms/step - loss: 0.0050 - accuracy: 1.0000 - val_loss: 0.4557 - val_accuracy: 0.8380\n",
      "Epoch 6/50\n",
      "112/112 [==============================] - 6s 55ms/step - loss: 0.0027 - accuracy: 1.0000 - val_loss: 0.4738 - val_accuracy: 0.8405\n",
      "Epoch 7/50\n",
      "112/112 [==============================] - 6s 51ms/step - loss: 0.0017 - accuracy: 1.0000 - val_loss: 0.4881 - val_accuracy: 0.8405\n",
      "Epoch 8/50\n",
      "112/112 [==============================] - 6s 53ms/step - loss: 0.0012 - accuracy: 1.0000 - val_loss: 0.5011 - val_accuracy: 0.8405\n",
      "Epoch 9/50\n",
      "112/112 [==============================] - 6s 54ms/step - loss: 9.1824e-04 - accuracy: 1.0000 - val_loss: 0.5105 - val_accuracy: 0.8430\n",
      "Epoch 10/50\n",
      "112/112 [==============================] - 7s 59ms/step - loss: 7.1115e-04 - accuracy: 1.0000 - val_loss: 0.5193 - val_accuracy: 0.8405\n",
      "Epoch 11/50\n",
      "112/112 [==============================] - 6s 50ms/step - loss: 5.6560e-04 - accuracy: 1.0000 - val_loss: 0.5281 - val_accuracy: 0.8405\n",
      "Epoch 12/50\n",
      "112/112 [==============================] - 6s 56ms/step - loss: 4.5935e-04 - accuracy: 1.0000 - val_loss: 0.5366 - val_accuracy: 0.8405\n",
      "Epoch 13/50\n",
      "112/112 [==============================] - 5s 49ms/step - loss: 3.7971e-04 - accuracy: 1.0000 - val_loss: 0.5439 - val_accuracy: 0.8405\n",
      "Epoch 14/50\n",
      "112/112 [==============================] - 6s 53ms/step - loss: 3.1787e-04 - accuracy: 1.0000 - val_loss: 0.5518 - val_accuracy: 0.8405\n",
      "Epoch 15/50\n",
      "112/112 [==============================] - 7s 65ms/step - loss: 2.6967e-04 - accuracy: 1.0000 - val_loss: 0.5576 - val_accuracy: 0.8430\n",
      "Epoch 16/50\n",
      "112/112 [==============================] - 6s 51ms/step - loss: 2.3094e-04 - accuracy: 1.0000 - val_loss: 0.5638 - val_accuracy: 0.8430\n",
      "Epoch 17/50\n",
      "112/112 [==============================] - 7s 59ms/step - loss: 1.9928e-04 - accuracy: 1.0000 - val_loss: 0.5703 - val_accuracy: 0.8430\n",
      "Epoch 18/50\n",
      "112/112 [==============================] - 7s 60ms/step - loss: 1.7331e-04 - accuracy: 1.0000 - val_loss: 0.5757 - val_accuracy: 0.8430\n",
      "Epoch 19/50\n",
      "112/112 [==============================] - 6s 51ms/step - loss: 1.5173e-04 - accuracy: 1.0000 - val_loss: 0.5817 - val_accuracy: 0.8430\n",
      "Epoch 20/50\n",
      "112/112 [==============================] - 6s 50ms/step - loss: 1.3338e-04 - accuracy: 1.0000 - val_loss: 0.5874 - val_accuracy: 0.8430\n",
      "Epoch 21/50\n",
      "112/112 [==============================] - 6s 50ms/step - loss: 1.1789e-04 - accuracy: 1.0000 - val_loss: 0.5929 - val_accuracy: 0.8430\n",
      "Epoch 22/50\n",
      "112/112 [==============================] - 6s 52ms/step - loss: 1.0480e-04 - accuracy: 1.0000 - val_loss: 0.5978 - val_accuracy: 0.8405\n",
      "Epoch 23/50\n",
      "112/112 [==============================] - 6s 49ms/step - loss: 9.3523e-05 - accuracy: 1.0000 - val_loss: 0.6028 - val_accuracy: 0.8430\n",
      "Epoch 24/50\n",
      "112/112 [==============================] - 6s 53ms/step - loss: 8.3753e-05 - accuracy: 1.0000 - val_loss: 0.6079 - val_accuracy: 0.8405\n",
      "Epoch 25/50\n",
      "112/112 [==============================] - 6s 50ms/step - loss: 7.5188e-05 - accuracy: 1.0000 - val_loss: 0.6125 - val_accuracy: 0.8405\n",
      "Epoch 26/50\n",
      "112/112 [==============================] - 6s 52ms/step - loss: 6.7726e-05 - accuracy: 1.0000 - val_loss: 0.6172 - val_accuracy: 0.8405\n",
      "Epoch 27/50\n",
      "112/112 [==============================] - 6s 51ms/step - loss: 6.1178e-05 - accuracy: 1.0000 - val_loss: 0.6214 - val_accuracy: 0.8405\n",
      "Epoch 28/50\n",
      "112/112 [==============================] - 6s 50ms/step - loss: 5.5419e-05 - accuracy: 1.0000 - val_loss: 0.6261 - val_accuracy: 0.8405\n",
      "Epoch 29/50\n",
      "112/112 [==============================] - 6s 52ms/step - loss: 5.0285e-05 - accuracy: 1.0000 - val_loss: 0.6305 - val_accuracy: 0.8405\n",
      "Epoch 30/50\n",
      "112/112 [==============================] - 6s 57ms/step - loss: 4.5713e-05 - accuracy: 1.0000 - val_loss: 0.6344 - val_accuracy: 0.8405\n",
      "Epoch 31/50\n",
      "112/112 [==============================] - 7s 60ms/step - loss: 4.1693e-05 - accuracy: 1.0000 - val_loss: 0.6384 - val_accuracy: 0.8405\n",
      "Epoch 32/50\n",
      "112/112 [==============================] - 6s 51ms/step - loss: 3.8078e-05 - accuracy: 1.0000 - val_loss: 0.6425 - val_accuracy: 0.8405\n",
      "Epoch 33/50\n",
      "112/112 [==============================] - 6s 51ms/step - loss: 3.4834e-05 - accuracy: 1.0000 - val_loss: 0.6461 - val_accuracy: 0.8405\n",
      "Epoch 34/50\n",
      "112/112 [==============================] - 6s 50ms/step - loss: 3.1888e-05 - accuracy: 1.0000 - val_loss: 0.6504 - val_accuracy: 0.8405\n",
      "Epoch 35/50\n",
      "112/112 [==============================] - 6s 53ms/step - loss: 2.9263e-05 - accuracy: 1.0000 - val_loss: 0.6543 - val_accuracy: 0.8405\n",
      "Epoch 36/50\n",
      "112/112 [==============================] - 6s 52ms/step - loss: 2.6833e-05 - accuracy: 1.0000 - val_loss: 0.6582 - val_accuracy: 0.8405\n",
      "Epoch 37/50\n",
      "112/112 [==============================] - 6s 50ms/step - loss: 2.4654e-05 - accuracy: 1.0000 - val_loss: 0.6617 - val_accuracy: 0.8405\n",
      "Epoch 38/50\n",
      "112/112 [==============================] - 5s 49ms/step - loss: 2.2687e-05 - accuracy: 1.0000 - val_loss: 0.6657 - val_accuracy: 0.8405\n",
      "Epoch 39/50\n",
      "112/112 [==============================] - 6s 51ms/step - loss: 2.0910e-05 - accuracy: 1.0000 - val_loss: 0.6697 - val_accuracy: 0.8405\n",
      "Epoch 40/50\n",
      "112/112 [==============================] - 6s 52ms/step - loss: 1.9292e-05 - accuracy: 1.0000 - val_loss: 0.6733 - val_accuracy: 0.8405\n",
      "Epoch 41/50\n",
      "112/112 [==============================] - 6s 53ms/step - loss: 1.7810e-05 - accuracy: 1.0000 - val_loss: 0.6772 - val_accuracy: 0.8405\n",
      "Epoch 42/50\n",
      "112/112 [==============================] - 6s 52ms/step - loss: 1.6454e-05 - accuracy: 1.0000 - val_loss: 0.6808 - val_accuracy: 0.8405\n",
      "Epoch 43/50\n",
      "112/112 [==============================] - 6s 56ms/step - loss: 1.5215e-05 - accuracy: 1.0000 - val_loss: 0.6846 - val_accuracy: 0.8405\n",
      "Epoch 44/50\n",
      "112/112 [==============================] - 7s 60ms/step - loss: 1.4074e-05 - accuracy: 1.0000 - val_loss: 0.6880 - val_accuracy: 0.8405\n",
      "Epoch 45/50\n",
      "112/112 [==============================] - 7s 59ms/step - loss: 1.3042e-05 - accuracy: 1.0000 - val_loss: 0.6918 - val_accuracy: 0.8405\n",
      "Epoch 46/50\n",
      "112/112 [==============================] - 6s 53ms/step - loss: 1.2092e-05 - accuracy: 1.0000 - val_loss: 0.6955 - val_accuracy: 0.8405\n",
      "Epoch 47/50\n",
      "112/112 [==============================] - 7s 63ms/step - loss: 1.1220e-05 - accuracy: 1.0000 - val_loss: 0.6991 - val_accuracy: 0.8405\n",
      "Epoch 48/50\n",
      "112/112 [==============================] - 6s 55ms/step - loss: 1.0408e-05 - accuracy: 1.0000 - val_loss: 0.7024 - val_accuracy: 0.8405\n"
     ]
    },
    {
     "name": "stdout",
     "output_type": "stream",
     "text": [
      "Epoch 49/50\n",
      "112/112 [==============================] - 6s 51ms/step - loss: 9.6642e-06 - accuracy: 1.0000 - val_loss: 0.7057 - val_accuracy: 0.8405\n",
      "Epoch 50/50\n",
      "112/112 [==============================] - 6s 52ms/step - loss: 8.9817e-06 - accuracy: 1.0000 - val_loss: 0.7091 - val_accuracy: 0.8405\n"
     ]
    },
    {
     "data": {
      "image/png": "[encoded data removed]",
      "text/plain": [
       "<Figure size 640x480 with 1 Axes>"
      ]
     },
     "metadata": {},
     "output_type": "display_data"
    },
    {
     "data": {
      "image/png": "[encoded data removed]",
      "text/plain": [
       "<Figure size 640x480 with 1 Axes>"
      ]
     },
     "metadata": {},
     "output_type": "display_data"
    },
    {
     "name": "stdout",
     "output_type": "stream",
     "text": [
      "1/1 [==============================] - 0s 38ms/step\n",
      "['직장 내 괴롭힘 대화']\n"
     ]
    }
   ],
   "source": [
    "one_shot(get_cnn)"
   ]
  },
  {
   "cell_type": "code",
   "execution_count": 48,
   "metadata": {
    "ExecuteTime": {
     "end_time": "2023-07-07T06:15:43.115745500Z",
     "start_time": "2023-07-07T06:15:23.548269500Z"
    },
    "scrolled": true
   },
   "outputs": [
    {
     "name": "stdout",
     "output_type": "stream",
     "text": [
      "Model: \"sequential_2\"\n",
      "_________________________________________________________________\n",
      " Layer (type)                Output Shape              Param #   \n",
      "=================================================================\n",
      " embedding_2 (Embedding)     (None, 359, 128)          3508480   \n",
      "                                                                 \n",
      " flatten (Flatten)           (None, 45952)             0         \n",
      "                                                                 \n",
      " dense_4 (Dense)             (None, 64)                2940992   \n",
      "                                                                 \n",
      " dense_5 (Dense)             (None, 4)                 260       \n",
      "                                                                 \n",
      "=================================================================\n",
      "Total params: 6,449,732\n",
      "Trainable params: 6,449,732\n",
      "Non-trainable params: 0\n",
      "_________________________________________________________________\n",
      "Epoch 1/50\n",
      "112/112 [==============================] - 9s 81ms/step - loss: 1.2655 - accuracy: 0.4380 - val_loss: 0.9251 - val_accuracy: 0.7316\n",
      "Epoch 2/50\n",
      "112/112 [==============================] - 9s 80ms/step - loss: 0.3452 - accuracy: 0.9305 - val_loss: 0.5088 - val_accuracy: 0.8177\n",
      "Epoch 3/50\n",
      "112/112 [==============================] - 8s 71ms/step - loss: 0.0370 - accuracy: 0.9952 - val_loss: 0.4201 - val_accuracy: 0.8405\n",
      "Epoch 4/50\n",
      "112/112 [==============================] - 9s 77ms/step - loss: 0.0090 - accuracy: 1.0000 - val_loss: 0.4215 - val_accuracy: 0.8481\n",
      "Epoch 5/50\n",
      "112/112 [==============================] - 8s 69ms/step - loss: 0.0036 - accuracy: 1.0000 - val_loss: 0.4293 - val_accuracy: 0.8430\n",
      "Epoch 6/50\n",
      "112/112 [==============================] - 8s 67ms/step - loss: 0.0017 - accuracy: 1.0000 - val_loss: 0.4418 - val_accuracy: 0.8481\n",
      "Epoch 7/50\n",
      "112/112 [==============================] - 8s 71ms/step - loss: 9.8217e-04 - accuracy: 1.0000 - val_loss: 0.4554 - val_accuracy: 0.8481\n",
      "Epoch 8/50\n",
      "112/112 [==============================] - 7s 67ms/step - loss: 6.1193e-04 - accuracy: 1.0000 - val_loss: 0.4648 - val_accuracy: 0.8506\n",
      "Epoch 9/50\n",
      "112/112 [==============================] - 8s 67ms/step - loss: 4.1530e-04 - accuracy: 1.0000 - val_loss: 0.4755 - val_accuracy: 0.8456\n",
      "Epoch 10/50\n",
      "112/112 [==============================] - 8s 69ms/step - loss: 2.9981e-04 - accuracy: 1.0000 - val_loss: 0.4849 - val_accuracy: 0.8481\n",
      "Epoch 11/50\n",
      "112/112 [==============================] - 8s 70ms/step - loss: 2.2641e-04 - accuracy: 1.0000 - val_loss: 0.4956 - val_accuracy: 0.8456\n",
      "Epoch 12/50\n",
      "112/112 [==============================] - 8s 71ms/step - loss: 1.7653e-04 - accuracy: 1.0000 - val_loss: 0.5037 - val_accuracy: 0.8380\n",
      "Epoch 13/50\n",
      "112/112 [==============================] - 8s 69ms/step - loss: 1.4026e-04 - accuracy: 1.0000 - val_loss: 0.5113 - val_accuracy: 0.8456\n",
      "Epoch 14/50\n",
      "112/112 [==============================] - 8s 75ms/step - loss: 1.1476e-04 - accuracy: 1.0000 - val_loss: 0.5181 - val_accuracy: 0.8456\n",
      "Epoch 15/50\n",
      "112/112 [==============================] - 8s 75ms/step - loss: 9.5372e-05 - accuracy: 1.0000 - val_loss: 0.5247 - val_accuracy: 0.8430\n",
      "Epoch 16/50\n",
      "112/112 [==============================] - 9s 76ms/step - loss: 8.0533e-05 - accuracy: 1.0000 - val_loss: 0.5303 - val_accuracy: 0.8430\n",
      "Epoch 17/50\n",
      "112/112 [==============================] - 9s 80ms/step - loss: 6.8938e-05 - accuracy: 1.0000 - val_loss: 0.5374 - val_accuracy: 0.8430\n",
      "Epoch 18/50\n",
      "112/112 [==============================] - 8s 72ms/step - loss: 5.9599e-05 - accuracy: 1.0000 - val_loss: 0.5424 - val_accuracy: 0.8430\n",
      "Epoch 19/50\n",
      "112/112 [==============================] - 9s 77ms/step - loss: 5.1607e-05 - accuracy: 1.0000 - val_loss: 0.5482 - val_accuracy: 0.8430\n",
      "Epoch 20/50\n",
      "112/112 [==============================] - 8s 75ms/step - loss: 4.5460e-05 - accuracy: 1.0000 - val_loss: 0.5525 - val_accuracy: 0.8405\n",
      "Epoch 21/50\n",
      "112/112 [==============================] - 8s 68ms/step - loss: 3.9954e-05 - accuracy: 1.0000 - val_loss: 0.5572 - val_accuracy: 0.8354\n",
      "Epoch 22/50\n",
      "112/112 [==============================] - 8s 74ms/step - loss: 3.5559e-05 - accuracy: 1.0000 - val_loss: 0.5622 - val_accuracy: 0.8405\n",
      "Epoch 23/50\n",
      "112/112 [==============================] - 9s 81ms/step - loss: 3.1816e-05 - accuracy: 1.0000 - val_loss: 0.5658 - val_accuracy: 0.8380\n",
      "Epoch 24/50\n",
      "112/112 [==============================] - 8s 72ms/step - loss: 2.8458e-05 - accuracy: 1.0000 - val_loss: 0.5717 - val_accuracy: 0.8456\n",
      "Epoch 25/50\n",
      "112/112 [==============================] - 8s 67ms/step - loss: 2.5819e-05 - accuracy: 1.0000 - val_loss: 0.5761 - val_accuracy: 0.8456\n",
      "Epoch 26/50\n",
      "112/112 [==============================] - 9s 78ms/step - loss: 2.3207e-05 - accuracy: 1.0000 - val_loss: 0.5794 - val_accuracy: 0.8430\n",
      "Epoch 27/50\n",
      "112/112 [==============================] - 9s 78ms/step - loss: 2.1024e-05 - accuracy: 1.0000 - val_loss: 0.5835 - val_accuracy: 0.8405\n",
      "Epoch 28/50\n",
      "112/112 [==============================] - 8s 74ms/step - loss: 1.9108e-05 - accuracy: 1.0000 - val_loss: 0.5890 - val_accuracy: 0.8481\n",
      "Epoch 29/50\n",
      "112/112 [==============================] - 8s 70ms/step - loss: 1.7415e-05 - accuracy: 1.0000 - val_loss: 0.5905 - val_accuracy: 0.8430\n",
      "Epoch 30/50\n",
      "112/112 [==============================] - 8s 71ms/step - loss: 1.5935e-05 - accuracy: 1.0000 - val_loss: 0.5953 - val_accuracy: 0.8456\n",
      "Epoch 31/50\n",
      "112/112 [==============================] - 8s 69ms/step - loss: 1.4624e-05 - accuracy: 1.0000 - val_loss: 0.6002 - val_accuracy: 0.8405\n",
      "Epoch 32/50\n",
      "112/112 [==============================] - 8s 70ms/step - loss: 1.3403e-05 - accuracy: 1.0000 - val_loss: 0.6025 - val_accuracy: 0.8456\n",
      "Epoch 33/50\n",
      "112/112 [==============================] - 8s 67ms/step - loss: 1.2362e-05 - accuracy: 1.0000 - val_loss: 0.6051 - val_accuracy: 0.8430\n",
      "Epoch 34/50\n",
      "112/112 [==============================] - 7s 66ms/step - loss: 1.1371e-05 - accuracy: 1.0000 - val_loss: 0.6091 - val_accuracy: 0.8430\n",
      "Epoch 35/50\n",
      "112/112 [==============================] - 7s 67ms/step - loss: 1.0494e-05 - accuracy: 1.0000 - val_loss: 0.6146 - val_accuracy: 0.8456\n",
      "Epoch 36/50\n",
      "112/112 [==============================] - 8s 70ms/step - loss: 9.7017e-06 - accuracy: 1.0000 - val_loss: 0.6168 - val_accuracy: 0.8430\n",
      "Epoch 37/50\n",
      "112/112 [==============================] - 7s 66ms/step - loss: 8.9637e-06 - accuracy: 1.0000 - val_loss: 0.6203 - val_accuracy: 0.8405\n",
      "Epoch 38/50\n",
      "112/112 [==============================] - 8s 68ms/step - loss: 8.2981e-06 - accuracy: 1.0000 - val_loss: 0.6223 - val_accuracy: 0.8405\n",
      "Epoch 39/50\n",
      "112/112 [==============================] - 8s 69ms/step - loss: 7.6644e-06 - accuracy: 1.0000 - val_loss: 0.6255 - val_accuracy: 0.8405\n",
      "Epoch 40/50\n",
      "112/112 [==============================] - 9s 79ms/step - loss: 7.1130e-06 - accuracy: 1.0000 - val_loss: 0.6298 - val_accuracy: 0.8430\n",
      "Epoch 41/50\n",
      "112/112 [==============================] - 9s 78ms/step - loss: 6.5885e-06 - accuracy: 1.0000 - val_loss: 0.6328 - val_accuracy: 0.8430\n",
      "Epoch 42/50\n",
      "112/112 [==============================] - 9s 81ms/step - loss: 6.1276e-06 - accuracy: 1.0000 - val_loss: 0.6353 - val_accuracy: 0.8430\n",
      "Epoch 43/50\n",
      "112/112 [==============================] - 8s 72ms/step - loss: 5.6878e-06 - accuracy: 1.0000 - val_loss: 0.6387 - val_accuracy: 0.8430\n",
      "Epoch 44/50\n",
      "112/112 [==============================] - 10s 87ms/step - loss: 5.3003e-06 - accuracy: 1.0000 - val_loss: 0.6420 - val_accuracy: 0.8380\n",
      "Epoch 45/50\n",
      "112/112 [==============================] - 9s 76ms/step - loss: 4.9408e-06 - accuracy: 1.0000 - val_loss: 0.6457 - val_accuracy: 0.8456\n",
      "Epoch 46/50\n",
      "112/112 [==============================] - 10s 86ms/step - loss: 4.6267e-06 - accuracy: 1.0000 - val_loss: 0.6489 - val_accuracy: 0.8456\n",
      "Epoch 47/50\n",
      "112/112 [==============================] - 10s 86ms/step - loss: 4.3117e-06 - accuracy: 1.0000 - val_loss: 0.6516 - val_accuracy: 0.8430\n",
      "Epoch 48/50\n",
      "112/112 [==============================] - 8s 75ms/step - loss: 4.0308e-06 - accuracy: 1.0000 - val_loss: 0.6538 - val_accuracy: 0.8380\n",
      "Epoch 49/50\n",
      "112/112 [==============================] - 8s 69ms/step - loss: 3.7687e-06 - accuracy: 1.0000 - val_loss: 0.6563 - val_accuracy: 0.8380\n",
      "Epoch 50/50\n"
     ]
    },
    {
     "name": "stdout",
     "output_type": "stream",
     "text": [
      "112/112 [==============================] - 8s 69ms/step - loss: 3.5265e-06 - accuracy: 1.0000 - val_loss: 0.6596 - val_accuracy: 0.8405\n"
     ]
    },
    {
     "data": {
      "image/png": "[encoded data removed]",
      "text/plain": [
       "<Figure size 640x480 with 1 Axes>"
      ]
     },
     "metadata": {},
     "output_type": "display_data"
    },
    {
     "data": {
      "image/png": "[encoded data removed]",
      "text/plain": [
       "<Figure size 640x480 with 1 Axes>"
      ]
     },
     "metadata": {},
     "output_type": "display_data"
    },
    {
     "name": "stdout",
     "output_type": "stream",
     "text": [
      "1/1 [==============================] - 0s 46ms/step\n",
      "['직장 내 괴롭힘 대화']\n"
     ]
    }
   ],
   "source": [
    "one_shot(get_mlp)"
   ]
  },
  {
   "cell_type": "code",
   "execution_count": null,
   "metadata": {},
   "outputs": [],
   "source": []
  }
 ],
 "metadata": {
  "kernelspec": {
   "display_name": "Python 3 (ipykernel)",
   "language": "python",
   "name": "python3"
  },
  "language_info": {
   "codemirror_mode": {
    "name": "ipython",
    "version": 3
   },
   "file_extension": ".py",
   "mimetype": "text/x-python",
   "name": "python",
   "nbconvert_exporter": "python",
   "pygments_lexer": "ipython3",
   "version": "3.9.7"
  }
 },
 "nbformat": 4,
 "nbformat_minor": 1
}
