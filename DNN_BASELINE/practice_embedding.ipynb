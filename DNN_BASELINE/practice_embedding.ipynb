{
 "cells": [
  {
   "cell_type": "code",
   "execution_count": 1,
   "metadata": {
    "ExecuteTime": {
     "end_time": "2023-07-07T06:03:07.450983500Z",
     "start_time": "2023-07-07T06:03:05.842815Z"
    }
   },
   "outputs": [
    {
     "name": "stderr",
     "output_type": "stream",
     "text": [
      "2023-07-08 16:25:49.724908: I tensorflow/core/platform/cpu_feature_guard.cc:182] This TensorFlow binary is optimized to use available CPU instructions in performance-critical operations.\n",
      "To enable the following instructions: SSE4.1 SSE4.2 AVX AVX2 FMA, in other operations, rebuild TensorFlow with the appropriate compiler flags.\n"
     ]
    }
   ],
   "source": [
    "import pandas as pd\n",
    "import numpy as np\n",
    "from sklearn.model_selection import train_test_split\n",
    "from sklearn.preprocessing import LabelEncoder\n",
    "from konlpy.tag import Mecab,Okt\n",
    "from keras.preprocessing.text import Tokenizer\n",
    "from keras_preprocessing.sequence import pad_sequences\n",
    "from keras.models import Sequential\n",
    "from keras.layers import Dense, Embedding, Flatten"
   ]
  },
  {
   "cell_type": "markdown",
   "metadata": {},
   "source": []
  },
  {
   "cell_type": "code",
   "execution_count": 2,
   "metadata": {
    "ExecuteTime": {
     "end_time": "2023-07-07T06:03:07.495874700Z",
     "start_time": "2023-07-07T06:03:07.451982100Z"
    }
   },
   "outputs": [
    {
     "data": {
      "text/html": [
       "<div>\n",
       "<style scoped>\n",
       "    .dataframe tbody tr th:only-of-type {\n",
       "        vertical-align: middle;\n",
       "    }\n",
       "\n",
       "    .dataframe tbody tr th {\n",
       "        vertical-align: top;\n",
       "    }\n",
       "\n",
       "    .dataframe thead th {\n",
       "        text-align: right;\n",
       "    }\n",
       "</style>\n",
       "<table border=\"1\" class=\"dataframe\">\n",
       "  <thead>\n",
       "    <tr style=\"text-align: right;\">\n",
       "      <th></th>\n",
       "      <th>idx</th>\n",
       "      <th>class</th>\n",
       "      <th>conversation</th>\n",
       "    </tr>\n",
       "  </thead>\n",
       "  <tbody>\n",
       "    <tr>\n",
       "      <th>0</th>\n",
       "      <td>0</td>\n",
       "      <td>협박 대화</td>\n",
       "      <td>지금 너 스스로를 죽여달라고 애원하는 것인가?\\n 아닙니다. 죄송합니다.\\n 죽을 ...</td>\n",
       "    </tr>\n",
       "    <tr>\n",
       "      <th>1</th>\n",
       "      <td>1</td>\n",
       "      <td>협박 대화</td>\n",
       "      <td>길동경찰서입니다.\\n9시 40분 마트에 폭발물을 설치할거다.\\n네?\\n똑바로 들어 ...</td>\n",
       "    </tr>\n",
       "    <tr>\n",
       "      <th>2</th>\n",
       "      <td>2</td>\n",
       "      <td>기타 괴롭힘 대화</td>\n",
       "      <td>너 되게 귀여운거 알지? 나보다 작은 남자는 첨봤어.\\n그만해. 니들 놀리는거 재미...</td>\n",
       "    </tr>\n",
       "    <tr>\n",
       "      <th>3</th>\n",
       "      <td>3</td>\n",
       "      <td>갈취 대화</td>\n",
       "      <td>어이 거기\\n예??\\n너 말이야 너. 이리 오라고\\n무슨 일.\\n너 옷 좋아보인다?...</td>\n",
       "    </tr>\n",
       "    <tr>\n",
       "      <th>4</th>\n",
       "      <td>4</td>\n",
       "      <td>갈취 대화</td>\n",
       "      <td>저기요 혹시 날이 너무 뜨겁잖아요? 저희 회사에서 이 선크림 파는데 한 번 손등에 ...</td>\n",
       "    </tr>\n",
       "  </tbody>\n",
       "</table>\n",
       "</div>"
      ],
      "text/plain": [
       "   idx      class                                       conversation\n",
       "0    0      협박 대화  지금 너 스스로를 죽여달라고 애원하는 것인가?\\n 아닙니다. 죄송합니다.\\n 죽을 ...\n",
       "1    1      협박 대화  길동경찰서입니다.\\n9시 40분 마트에 폭발물을 설치할거다.\\n네?\\n똑바로 들어 ...\n",
       "2    2  기타 괴롭힘 대화  너 되게 귀여운거 알지? 나보다 작은 남자는 첨봤어.\\n그만해. 니들 놀리는거 재미...\n",
       "3    3      갈취 대화  어이 거기\\n예??\\n너 말이야 너. 이리 오라고\\n무슨 일.\\n너 옷 좋아보인다?...\n",
       "4    4      갈취 대화  저기요 혹시 날이 너무 뜨겁잖아요? 저희 회사에서 이 선크림 파는데 한 번 손등에 ..."
      ]
     },
     "execution_count": 2,
     "metadata": {},
     "output_type": "execute_result"
    }
   ],
   "source": [
    "# 데이터 불러오기\n",
    "data = pd.read_csv('train.csv')\n",
    "data.head()"
   ]
  },
  {
   "cell_type": "code",
   "execution_count": 3,
   "metadata": {
    "ExecuteTime": {
     "end_time": "2023-07-07T06:03:07.514584500Z",
     "start_time": "2023-07-07T06:03:07.496874700Z"
    }
   },
   "outputs": [],
   "source": [
    "# class 열을 숫자로 변환\n",
    "encoder = LabelEncoder()\n",
    "data['class'] = encoder.fit_transform(data['class'])"
   ]
  },
  {
   "cell_type": "code",
   "execution_count": 4,
   "metadata": {
    "ExecuteTime": {
     "end_time": "2023-07-07T06:03:27.184988900Z",
     "start_time": "2023-07-07T06:03:07.511581800Z"
    },
    "scrolled": true
   },
   "outputs": [],
   "source": [
    "# konlpy의 Mecab을 이용한 토큰화\n",
    "mecab = Okt()\n",
    "data['conversation'] = data['conversation'].apply(mecab.morphs)\n",
    "#data['conversation'] = [mecab.morphs(sentence) for sentence in data['conversation']]"
   ]
  },
  {
   "cell_type": "code",
   "execution_count": 5,
   "metadata": {
    "ExecuteTime": {
     "end_time": "2023-07-07T06:03:27.200882500Z",
     "start_time": "2023-07-07T06:03:27.184988900Z"
    }
   },
   "outputs": [
    {
     "data": {
      "text/html": [
       "<div>\n",
       "<style scoped>\n",
       "    .dataframe tbody tr th:only-of-type {\n",
       "        vertical-align: middle;\n",
       "    }\n",
       "\n",
       "    .dataframe tbody tr th {\n",
       "        vertical-align: top;\n",
       "    }\n",
       "\n",
       "    .dataframe thead th {\n",
       "        text-align: right;\n",
       "    }\n",
       "</style>\n",
       "<table border=\"1\" class=\"dataframe\">\n",
       "  <thead>\n",
       "    <tr style=\"text-align: right;\">\n",
       "      <th></th>\n",
       "      <th>idx</th>\n",
       "      <th>class</th>\n",
       "      <th>conversation</th>\n",
       "    </tr>\n",
       "  </thead>\n",
       "  <tbody>\n",
       "    <tr>\n",
       "      <th>0</th>\n",
       "      <td>0</td>\n",
       "      <td>3</td>\n",
       "      <td>[지금, 너, 스스로, 를, 죽여, 달라, 고, 애원, 하는, 것, 인가, ?, \\...</td>\n",
       "    </tr>\n",
       "    <tr>\n",
       "      <th>1</th>\n",
       "      <td>1</td>\n",
       "      <td>3</td>\n",
       "      <td>[길동, 경찰서, 입니다, ., \\n, 9시, 40분, 마트, 에, 폭발물, 을, ...</td>\n",
       "    </tr>\n",
       "    <tr>\n",
       "      <th>2</th>\n",
       "      <td>2</td>\n",
       "      <td>1</td>\n",
       "      <td>[너, 되게, 귀여운거, 알, 지, ?, 나, 보다, 작은, 남자, 는, 첨, 봤어...</td>\n",
       "    </tr>\n",
       "    <tr>\n",
       "      <th>3</th>\n",
       "      <td>3</td>\n",
       "      <td>0</td>\n",
       "      <td>[어이, 거기, \\n, 예, ??, \\n, 너, 말, 이야, 너, ., 이리, 오라...</td>\n",
       "    </tr>\n",
       "    <tr>\n",
       "      <th>4</th>\n",
       "      <td>4</td>\n",
       "      <td>0</td>\n",
       "      <td>[저기, 요, 혹시, 날, 이, 너무, 뜨겁잖아요, ?, 저희, 회사, 에서, 이,...</td>\n",
       "    </tr>\n",
       "  </tbody>\n",
       "</table>\n",
       "</div>"
      ],
      "text/plain": [
       "   idx  class                                       conversation\n",
       "0    0      3  [지금, 너, 스스로, 를, 죽여, 달라, 고, 애원, 하는, 것, 인가, ?, \\...\n",
       "1    1      3  [길동, 경찰서, 입니다, ., \\n, 9시, 40분, 마트, 에, 폭발물, 을, ...\n",
       "2    2      1  [너, 되게, 귀여운거, 알, 지, ?, 나, 보다, 작은, 남자, 는, 첨, 봤어...\n",
       "3    3      0  [어이, 거기, \\n, 예, ??, \\n, 너, 말, 이야, 너, ., 이리, 오라...\n",
       "4    4      0  [저기, 요, 혹시, 날, 이, 너무, 뜨겁잖아요, ?, 저희, 회사, 에서, 이,..."
      ]
     },
     "execution_count": 5,
     "metadata": {},
     "output_type": "execute_result"
    }
   ],
   "source": [
    "data.head()"
   ]
  },
  {
   "cell_type": "code",
   "execution_count": 6,
   "metadata": {
    "ExecuteTime": {
     "end_time": "2023-07-07T06:03:27.404810300Z",
     "start_time": "2023-07-07T06:03:27.200882500Z"
    }
   },
   "outputs": [],
   "source": [
    "# 케라스를 이용한 정수 인코딩\n",
    "tokenizer = Tokenizer()\n",
    "tokenizer.fit_on_texts(data['conversation'])\n",
    "sequences = tokenizer.texts_to_sequences(data['conversation'])"
   ]
  },
  {
   "cell_type": "code",
   "execution_count": 7,
   "metadata": {
    "ExecuteTime": {
     "end_time": "2023-07-07T06:03:27.420434300Z",
     "start_time": "2023-07-07T06:03:27.404810300Z"
    }
   },
   "outputs": [],
   "source": [
    "# 입력 데이터 패딩 처리 \n",
    "#data_pad = pad_sequences(sequences)   #hjnam\n",
    "\n",
    "#hjnam\n",
    "word_index = tokenizer.word_index\n",
    "index_word = {idx: word for word, idx in word_index.items()}\n",
    "data_pad = [[index_word[idx] for idx in seq if idx != 0] for seq in sequences]"
   ]
  },
  {
   "cell_type": "code",
   "execution_count": 8,
   "metadata": {
    "scrolled": true
   },
   "outputs": [
    {
     "name": "stdout",
     "output_type": "stream",
     "text": [
      "['지금', '너', '스스로', '를', '죽여', '달라', '고', '애원', '하는', '것', '인가', '?', '\\n ', '아닙니다', '.', '죄송합니다', '.', '\\n ', '죽', '을', '거', '면', '혼자', '죽지', '우리', '까지', '사건', '에', '휘', '말리', '게', '해', '?', '진짜', '죽여', '버리고', '싶게', '.', '\\n ', '정말', '잘', '못', '했습니다', '.', '\\n ', '너', '가', '선택', '해', '.', '너', '가', '죽을래', '네', '가족', '을', '죽여줄까', '.', '\\n ', '죄송합니다', '.', '정말', '잘', '못', '했습니다', '.', '\\n ', '너', '에게는', '선택', '권', '이', '없어', '.', '선택', '못', '한다면', '너', '와', '네', '가족', '까지', '모조리', '죽여', '버릴거야', '.', '\\n ', '선택', '못', '하겠습니다', '.', '한번', '만', '도와주세요', '.', '\\n ', '그냥', '다', '죽여', '버려야겠군', '.', '이의', '없지', '?', '\\n ', '제발', '도와주세요', '.']\n"
     ]
    }
   ],
   "source": [
    "print(data_pad[0])"
   ]
  },
  {
   "cell_type": "code",
   "execution_count": 9,
   "metadata": {},
   "outputs": [],
   "source": [
    "#hjnam\n",
    "from gensim.models import Word2Vec\n",
    "\n",
    "# Set the size of the word vectors\n",
    "vector_size = 100\n",
    "model_w2v = Word2Vec(sentences=data_pad, vector_size=vector_size, window=5, min_count=3, sg=0)\n",
    "#model_w2v.wv.save_word2vec_format('/home/aiffel/aiffel/DLthon/AiffelDLTon/DNN_BASELINE/data') \n",
    "\n",
    "embedding_dim = model_w2v.vector_size\n"
   ]
  },
  {
   "cell_type": "code",
   "execution_count": 10,
   "metadata": {},
   "outputs": [],
   "source": [
    "#hjnam\n",
    "data_embeddings = []\n",
    "\n",
    "for tokens in data_pad:\n",
    "    sample_vectors = []\n",
    "    \n",
    "    for token in tokens:\n",
    "        if token in model_w2v.wv:\n",
    "            word_vector = model_w2v.wv.get_vector(token)\n",
    "            sample_vectors.append(word_vector)\n",
    "    \n",
    "    # Add the sample vectors to the list of embeddings\n",
    "    data_embeddings.append(sample_vectors)\n",
    "\n",
    "# Pad the sequences of word vectors to have the same length\n",
    "max_length = max(len(sample) for sample in data_embeddings)\n",
    "data_embeddings = pad_sequences(data_embeddings, maxlen=max_length, dtype='float32')\n",
    "\n",
    "# 데이터셋 분리\n",
    "X_train, X_val, y_train, y_val = train_test_split(data_embeddings, data['class'], test_size=0.2, random_state=42)\n"
   ]
  },
  {
   "cell_type": "code",
   "execution_count": 11,
   "metadata": {},
   "outputs": [
    {
     "name": "stdout",
     "output_type": "stream",
     "text": [
      "[('없어', 0.8150088787078857), ('지갑', 0.7969467043876648), ('뒤져서', 0.7897960543632507), ('빌려줘', 0.789392352104187), ('차비', 0.7768517136573792), ('없긴', 0.7725553512573242), ('빌려주라', 0.7724409699440002), ('사먹을', 0.7676033973693848), ('없는데', 0.7659454345703125), ('내놔', 0.7636643648147583)]\n"
     ]
    }
   ],
   "source": [
    "#hjnam\n",
    "model_result = model_w2v.wv.most_similar(\"돈\")\n",
    "print(model_result)"
   ]
  },
  {
   "cell_type": "code",
   "execution_count": 12,
   "metadata": {
    "ExecuteTime": {
     "end_time": "2023-07-07T06:03:27.452074200Z",
     "start_time": "2023-07-07T06:03:27.436443200Z"
    }
   },
   "outputs": [],
   "source": [
    "def get_mlp():\n",
    "    # MLP 모델 생성\n",
    "    model = Sequential()\n",
    "    #model.add(Embedding(len(tokenizer.word_index)+1, 128, input_length=data_pad.shape[1]))\n",
    "    #model.add(Embedding(len(tokenizer.word_index)+1, 128, input_length=len(data_pad)))  #hjnam\n",
    "    model.add(Flatten())\n",
    "    model.add(Dense(64, activation='relu'))\n",
    "    model.add(Dense(len(data['class'].unique()), activation='softmax'))\n",
    "    return model"
   ]
  },
  {
   "cell_type": "code",
   "execution_count": 13,
   "metadata": {},
   "outputs": [
    {
     "data": {
      "text/plain": [
       "(332, 100)"
      ]
     },
     "execution_count": 13,
     "metadata": {},
     "output_type": "execute_result"
    }
   ],
   "source": [
    "max_length, embedding_dim"
   ]
  },
  {
   "cell_type": "code",
   "execution_count": 14,
   "metadata": {
    "ExecuteTime": {
     "end_time": "2023-07-07T06:03:28.299880500Z",
     "start_time": "2023-07-07T06:03:27.483323Z"
    },
    "scrolled": false
   },
   "outputs": [
    {
     "name": "stdout",
     "output_type": "stream",
     "text": [
      "Model: \"sequential\"\n",
      "_________________________________________________________________\n",
      " Layer (type)                Output Shape              Param #   \n",
      "=================================================================\n",
      " flatten (Flatten)           (None, 33200)             0         \n",
      "                                                                 \n",
      " dense (Dense)               (None, 64)                2124864   \n",
      "                                                                 \n",
      " dense_1 (Dense)             (None, 4)                 260       \n",
      "                                                                 \n",
      "=================================================================\n",
      "Total params: 2,125,124\n",
      "Trainable params: 2,125,124\n",
      "Non-trainable params: 0\n",
      "_________________________________________________________________\n"
     ]
    },
    {
     "name": "stderr",
     "output_type": "stream",
     "text": [
      "2023-07-08 16:26:21.657527: I tensorflow/core/common_runtime/process_util.cc:146] Creating new thread pool with default inter op setting: 2. Tune using inter_op_parallelism_threads for best performance.\n"
     ]
    }
   ],
   "source": [
    "model = get_mlp()\n",
    "model.build(input_shape=(None, max_length, embedding_dim))  #hjnam\n",
    "model.summary()"
   ]
  },
  {
   "cell_type": "code",
   "execution_count": 15,
   "metadata": {
    "ExecuteTime": {
     "end_time": "2023-07-07T06:03:27.467699200Z",
     "start_time": "2023-07-07T06:03:27.452074200Z"
    }
   },
   "outputs": [],
   "source": [
    "from keras.layers import Conv1D, GlobalMaxPooling1D\n",
    "\n",
    "def get_cnn():\n",
    "    # CNN 모델 생성\n",
    "    model = Sequential()\n",
    "    #model.add(Embedding(len(tokenizer.word_index)+1, 128, input_length=data_pad.shape[1]))\n",
    "    #model.add(Embedding(len(tokenizer.word_index)+1, 128, input_length=len(data_pad))) #hjnam\n",
    "    model.add(Conv1D(128, 5, activation='relu'))\n",
    "    model.add(GlobalMaxPooling1D())\n",
    "    model.add(Dense(64, activation='relu'))\n",
    "    model.add(Dense(len(data['class'].unique()), activation='softmax'))\n",
    "\n",
    "    return model\n"
   ]
  },
  {
   "cell_type": "code",
   "execution_count": 16,
   "metadata": {
    "ExecuteTime": {
     "end_time": "2023-07-07T06:03:28.299880500Z",
     "start_time": "2023-07-07T06:03:27.483323Z"
    },
    "scrolled": true
   },
   "outputs": [
    {
     "name": "stdout",
     "output_type": "stream",
     "text": [
      "Model: \"sequential_1\"\n",
      "_________________________________________________________________\n",
      " Layer (type)                Output Shape              Param #   \n",
      "=================================================================\n",
      " conv1d (Conv1D)             (None, 328, 128)          64128     \n",
      "                                                                 \n",
      " global_max_pooling1d (Globa  (None, 128)              0         \n",
      " lMaxPooling1D)                                                  \n",
      "                                                                 \n",
      " dense_2 (Dense)             (None, 64)                8256      \n",
      "                                                                 \n",
      " dense_3 (Dense)             (None, 4)                 260       \n",
      "                                                                 \n",
      "=================================================================\n",
      "Total params: 72,644\n",
      "Trainable params: 72,644\n",
      "Non-trainable params: 0\n",
      "_________________________________________________________________\n"
     ]
    }
   ],
   "source": [
    "model = get_cnn()\n",
    "model.build(input_shape=(None, max_length, embedding_dim))  #hjnam\n",
    "model.summary()"
   ]
  },
  {
   "cell_type": "code",
   "execution_count": 17,
   "metadata": {},
   "outputs": [],
   "source": [
    "from keras.layers import LSTM, Dropout\n",
    "from keras.layers import Input, Reshape\n",
    "\n",
    "def get_lstm():\n",
    "    # LSTM 모델 생성\n",
    "    model = Sequential()\n",
    "    #model.add(Embedding(len(tokenizer.word_index)+1, 128, input_length=data_pad.shape[1]))\n",
    "    #model.add(Embedding(len(tokenizer.word_index)+1, 128, input_length=tokenized.shape[1]))\n",
    "    #model.add(Input(shape=(len(tokenizer.word_index)+1, vector_size)))\n",
    "    #model.add(Input(shape=(vector_size))) #hjnam\n",
    "    #model.add(Reshape((1, vector_size))) #hjnam\n",
    "    #model.add(Reshape((vector_size))) #hjnam\n",
    "    model.add(LSTM(64))\n",
    "    model.add(Dense(64, activation='relu'))\n",
    "    model.add(Dropout(0.3))\n",
    "    model.add(Dense(len(data['class'].unique()), activation='softmax'))\n",
    "\n",
    "    return model\n"
   ]
  },
  {
   "cell_type": "code",
   "execution_count": 18,
   "metadata": {
    "ExecuteTime": {
     "end_time": "2023-07-07T06:03:28.299880500Z",
     "start_time": "2023-07-07T06:03:27.483323Z"
    },
    "scrolled": false
   },
   "outputs": [
    {
     "name": "stdout",
     "output_type": "stream",
     "text": [
      "Model: \"sequential_2\"\n",
      "_________________________________________________________________\n",
      " Layer (type)                Output Shape              Param #   \n",
      "=================================================================\n",
      " lstm (LSTM)                 (None, 64)                42240     \n",
      "                                                                 \n",
      " dense_4 (Dense)             (None, 64)                4160      \n",
      "                                                                 \n",
      " dropout (Dropout)           (None, 64)                0         \n",
      "                                                                 \n",
      " dense_5 (Dense)             (None, 4)                 260       \n",
      "                                                                 \n",
      "=================================================================\n",
      "Total params: 46,660\n",
      "Trainable params: 46,660\n",
      "Non-trainable params: 0\n",
      "_________________________________________________________________\n"
     ]
    },
    {
     "name": "stderr",
     "output_type": "stream",
     "text": [
      "2023-07-08 16:26:21.907351: I tensorflow/core/common_runtime/executor.cc:1197] [/device:CPU:0] (DEBUG INFO) Executor start aborting (this does not indicate an error and you can ignore this message): INVALID_ARGUMENT: You must feed a value for placeholder tensor 'gradients/split_2_grad/concat/split_2/split_dim' with dtype int32\n",
      "\t [[{{node gradients/split_2_grad/concat/split_2/split_dim}}]]\n",
      "2023-07-08 16:26:21.908248: I tensorflow/core/common_runtime/executor.cc:1197] [/device:CPU:0] (DEBUG INFO) Executor start aborting (this does not indicate an error and you can ignore this message): INVALID_ARGUMENT: You must feed a value for placeholder tensor 'gradients/split_grad/concat/split/split_dim' with dtype int32\n",
      "\t [[{{node gradients/split_grad/concat/split/split_dim}}]]\n",
      "2023-07-08 16:26:21.909093: I tensorflow/core/common_runtime/executor.cc:1197] [/device:CPU:0] (DEBUG INFO) Executor start aborting (this does not indicate an error and you can ignore this message): INVALID_ARGUMENT: You must feed a value for placeholder tensor 'gradients/split_1_grad/concat/split_1/split_dim' with dtype int32\n",
      "\t [[{{node gradients/split_1_grad/concat/split_1/split_dim}}]]\n"
     ]
    }
   ],
   "source": [
    "model = get_lstm()\n",
    "model.build(input_shape=(None, max_length, embedding_dim))  #hjnam\n",
    "model.summary()"
   ]
  },
  {
   "cell_type": "code",
   "execution_count": 19,
   "metadata": {
    "ExecuteTime": {
     "end_time": "2023-07-07T06:03:28.347234700Z",
     "start_time": "2023-07-07T06:03:28.299880500Z"
    }
   },
   "outputs": [],
   "source": [
    "# 모델 컴파일\n",
    "model.compile(optimizer='adam', loss='sparse_categorical_crossentropy', metrics=['accuracy'])"
   ]
  },
  {
   "cell_type": "code",
   "execution_count": 20,
   "metadata": {
    "scrolled": true
   },
   "outputs": [
    {
     "data": {
      "text/plain": [
       "(3160, 3160)"
      ]
     },
     "execution_count": 20,
     "metadata": {},
     "output_type": "execute_result"
    }
   ],
   "source": [
    "len(X_train), len(y_train)"
   ]
  },
  {
   "cell_type": "code",
   "execution_count": 21,
   "metadata": {
    "ExecuteTime": {
     "end_time": "2023-07-07T06:05:02.797235300Z",
     "start_time": "2023-07-07T06:03:28.315593400Z"
    },
    "scrolled": false
   },
   "outputs": [
    {
     "name": "stdout",
     "output_type": "stream",
     "text": [
      "Epoch 1/10\n"
     ]
    },
    {
     "name": "stderr",
     "output_type": "stream",
     "text": [
      "2023-07-08 16:26:22.332134: I tensorflow/core/common_runtime/executor.cc:1197] [/device:CPU:0] (DEBUG INFO) Executor start aborting (this does not indicate an error and you can ignore this message): INVALID_ARGUMENT: You must feed a value for placeholder tensor 'gradients/split_2_grad/concat/split_2/split_dim' with dtype int32\n",
      "\t [[{{node gradients/split_2_grad/concat/split_2/split_dim}}]]\n",
      "2023-07-08 16:26:22.333108: I tensorflow/core/common_runtime/executor.cc:1197] [/device:CPU:0] (DEBUG INFO) Executor start aborting (this does not indicate an error and you can ignore this message): INVALID_ARGUMENT: You must feed a value for placeholder tensor 'gradients/split_grad/concat/split/split_dim' with dtype int32\n",
      "\t [[{{node gradients/split_grad/concat/split/split_dim}}]]\n",
      "2023-07-08 16:26:22.334035: I tensorflow/core/common_runtime/executor.cc:1197] [/device:CPU:0] (DEBUG INFO) Executor start aborting (this does not indicate an error and you can ignore this message): INVALID_ARGUMENT: You must feed a value for placeholder tensor 'gradients/split_1_grad/concat/split_1/split_dim' with dtype int32\n",
      "\t [[{{node gradients/split_1_grad/concat/split_1/split_dim}}]]\n",
      "2023-07-08 16:26:22.768605: I tensorflow/core/common_runtime/executor.cc:1197] [/device:CPU:0] (DEBUG INFO) Executor start aborting (this does not indicate an error and you can ignore this message): INVALID_ARGUMENT: You must feed a value for placeholder tensor 'gradients/split_2_grad/concat/split_2/split_dim' with dtype int32\n",
      "\t [[{{node gradients/split_2_grad/concat/split_2/split_dim}}]]\n",
      "2023-07-08 16:26:22.770789: I tensorflow/core/common_runtime/executor.cc:1197] [/device:CPU:0] (DEBUG INFO) Executor start aborting (this does not indicate an error and you can ignore this message): INVALID_ARGUMENT: You must feed a value for placeholder tensor 'gradients/split_grad/concat/split/split_dim' with dtype int32\n",
      "\t [[{{node gradients/split_grad/concat/split/split_dim}}]]\n",
      "2023-07-08 16:26:22.773119: I tensorflow/core/common_runtime/executor.cc:1197] [/device:CPU:0] (DEBUG INFO) Executor start aborting (this does not indicate an error and you can ignore this message): INVALID_ARGUMENT: You must feed a value for placeholder tensor 'gradients/split_1_grad/concat/split_1/split_dim' with dtype int32\n",
      "\t [[{{node gradients/split_1_grad/concat/split_1/split_dim}}]]\n"
     ]
    },
    {
     "name": "stdout",
     "output_type": "stream",
     "text": [
      "99/99 [==============================] - ETA: 0s - loss: 1.2136 - accuracy: 0.4415"
     ]
    },
    {
     "name": "stderr",
     "output_type": "stream",
     "text": [
      "2023-07-08 16:26:41.015105: I tensorflow/core/common_runtime/executor.cc:1197] [/device:CPU:0] (DEBUG INFO) Executor start aborting (this does not indicate an error and you can ignore this message): INVALID_ARGUMENT: You must feed a value for placeholder tensor 'gradients/split_2_grad/concat/split_2/split_dim' with dtype int32\n",
      "\t [[{{node gradients/split_2_grad/concat/split_2/split_dim}}]]\n",
      "2023-07-08 16:26:41.016528: I tensorflow/core/common_runtime/executor.cc:1197] [/device:CPU:0] (DEBUG INFO) Executor start aborting (this does not indicate an error and you can ignore this message): INVALID_ARGUMENT: You must feed a value for placeholder tensor 'gradients/split_grad/concat/split/split_dim' with dtype int32\n",
      "\t [[{{node gradients/split_grad/concat/split/split_dim}}]]\n",
      "2023-07-08 16:26:41.017313: I tensorflow/core/common_runtime/executor.cc:1197] [/device:CPU:0] (DEBUG INFO) Executor start aborting (this does not indicate an error and you can ignore this message): INVALID_ARGUMENT: You must feed a value for placeholder tensor 'gradients/split_1_grad/concat/split_1/split_dim' with dtype int32\n",
      "\t [[{{node gradients/split_1_grad/concat/split_1/split_dim}}]]\n"
     ]
    },
    {
     "name": "stdout",
     "output_type": "stream",
     "text": [
      "99/99 [==============================] - 20s 189ms/step - loss: 1.2136 - accuracy: 0.4415 - val_loss: 1.0944 - val_accuracy: 0.5165\n",
      "Epoch 2/10\n",
      "99/99 [==============================] - 16s 162ms/step - loss: 1.0528 - accuracy: 0.5617 - val_loss: 1.0055 - val_accuracy: 0.5722\n",
      "Epoch 3/10\n",
      "99/99 [==============================] - 17s 174ms/step - loss: 0.9570 - accuracy: 0.6127 - val_loss: 0.8842 - val_accuracy: 0.6342\n",
      "Epoch 4/10\n",
      "99/99 [==============================] - 16s 160ms/step - loss: 0.8655 - accuracy: 0.6690 - val_loss: 0.8842 - val_accuracy: 0.6709\n",
      "Epoch 5/10\n",
      "99/99 [==============================] - 16s 158ms/step - loss: 0.8344 - accuracy: 0.6804 - val_loss: 0.8069 - val_accuracy: 0.7089\n",
      "Epoch 6/10\n",
      "99/99 [==============================] - 17s 171ms/step - loss: 0.7572 - accuracy: 0.7190 - val_loss: 0.7419 - val_accuracy: 0.7304\n",
      "Epoch 7/10\n",
      "99/99 [==============================] - 17s 171ms/step - loss: 0.7308 - accuracy: 0.7282 - val_loss: 0.7871 - val_accuracy: 0.7127\n",
      "Epoch 8/10\n",
      "99/99 [==============================] - 17s 174ms/step - loss: 0.7091 - accuracy: 0.7358 - val_loss: 0.7167 - val_accuracy: 0.7241\n",
      "Epoch 9/10\n",
      "99/99 [==============================] - 19s 187ms/step - loss: 0.6861 - accuracy: 0.7367 - val_loss: 0.6891 - val_accuracy: 0.7430\n",
      "Epoch 10/10\n",
      "99/99 [==============================] - 17s 176ms/step - loss: 0.6662 - accuracy: 0.7519 - val_loss: 0.7389 - val_accuracy: 0.7089\n"
     ]
    }
   ],
   "source": [
    "# 모델 학습\n",
    "history = model.fit(X_train, y_train, validation_data=(X_val, y_val), epochs=10)"
   ]
  },
  {
   "cell_type": "code",
   "execution_count": 22,
   "metadata": {
    "ExecuteTime": {
     "end_time": "2023-07-07T06:05:02.813090700Z",
     "start_time": "2023-07-07T06:05:02.797235300Z"
    }
   },
   "outputs": [],
   "source": [
    "def train(get_model):\n",
    "    model = get_model()\n",
    "    model.summary()\n",
    "    # 모델 컴파일\n",
    "    model.compile(optimizer='adam', loss='sparse_categorical_crossentropy', metrics=['accuracy'])\n",
    "    # 모델 학습\n",
    "    history = model.fit(X_train, y_train, validation_data=(X_val, y_val), epochs=50)\n",
    "    return model, history"
   ]
  },
  {
   "cell_type": "code",
   "execution_count": 23,
   "metadata": {
    "ExecuteTime": {
     "end_time": "2023-07-07T06:05:03.487628900Z",
     "start_time": "2023-07-07T06:05:02.813090700Z"
    },
    "scrolled": false
   },
   "outputs": [
    {
     "data": {
      "image/png": "[encoded data removed]",
      "text/plain": [
       "<Figure size 640x480 with 1 Axes>"
      ]
     },
     "metadata": {},
     "output_type": "display_data"
    },
    {
     "data": {
      "image/png": "[encoded data removed]",
      "text/plain": [
       "<Figure size 640x480 with 1 Axes>"
      ]
     },
     "metadata": {},
     "output_type": "display_data"
    }
   ],
   "source": [
    "import matplotlib.pyplot as plt\n",
    "\n",
    "def visualization(history):\n",
    "    # 시각화를 위한 데이터 정의\n",
    "    loss = history.history['loss']\n",
    "    val_loss = history.history['val_loss']\n",
    "    accuracy = history.history['accuracy']\n",
    "    val_accuracy = history.history['val_accuracy']\n",
    "\n",
    "    epochs = range(1, len(loss) + 1)\n",
    "\n",
    "    # 손실값 시각화\n",
    "    plt.figure()\n",
    "    plt.plot(epochs, loss, 'bo', label='Training loss')\n",
    "    plt.plot(epochs, val_loss, 'b', label='Validation loss')\n",
    "    plt.title('Training and validation loss')\n",
    "    plt.legend()\n",
    "\n",
    "    plt.show()\n",
    "\n",
    "    # 정확도 시각화\n",
    "    plt.figure()\n",
    "    plt.plot(epochs, accuracy, 'bo', label='Training accuracy')\n",
    "    plt.plot(epochs, val_accuracy, 'b', label='Validation accuracy')\n",
    "    plt.title('Training and validation accuracy')\n",
    "    plt.legend()\n",
    "\n",
    "    plt.show()\n",
    "\n",
    "visualization(history)\n"
   ]
  },
  {
   "cell_type": "code",
   "execution_count": 24,
   "metadata": {
    "ExecuteTime": {
     "end_time": "2023-07-07T06:05:03.503261800Z",
     "start_time": "2023-07-07T06:05:03.487628900Z"
    }
   },
   "outputs": [],
   "source": [
    "#hjnam : remove '파견'\n",
    "test_x = '''우리팀에서 다른팀으로 갈 사람 없나? 그럼 영지씨가 가는건 어때?\n",
    "네? 제가요?\n",
    "그렇지? 2달만 잘 갔다오면 승진이야. \n",
    "네? 저는 별로 가고 싶지 않습니다.\n",
    "여기 있는 모든사람도 가기 싫어해. 그러니까 막내인 영지씨가 가는게 맞지\n",
    "정말 죄송합니다. 저는 못갑니다.\n",
    "장난해? 모두를 위해 영지씨가 희생하는게 싫어?\n",
    "네. 부당한 방법으로 가는 것 같습니다.\n",
    "영지씨 안가면 회사생활 오래 못할 것 같은데 그래도 안갈거야? 안가면 지옥일텐데.\n",
    "그래도 이 방법은 아닌 것 같습니다. 죄송합니다.'''\n",
    "\n",
    "test_y = encoder.transform([\"직장 내 괴롭힘 대화\"])"
   ]
  },
  {
   "cell_type": "code",
   "execution_count": 25,
   "metadata": {
    "ExecuteTime": {
     "end_time": "2023-07-07T06:05:03.546963400Z",
     "start_time": "2023-07-07T06:05:03.506612500Z"
    }
   },
   "outputs": [],
   "source": [
    "test_data = {\n",
    "    \"class\": [test_y, ],\n",
    "    \"conversation\": [test_x, ],\n",
    "}\n",
    "\n",
    "df2 = pd.DataFrame(test_data, index=[0])"
   ]
  },
  {
   "cell_type": "code",
   "execution_count": 26,
   "metadata": {},
   "outputs": [],
   "source": [
    "df2['conversation'] = df2['conversation'].apply(mecab.morphs)\n",
    "test_sequences = tokenizer.texts_to_sequences(df2['conversation'])\n",
    "test_pad = [[index_word[idx] for idx in seq if idx != 0] for seq in test_sequences] #hjnam"
   ]
  },
  {
   "cell_type": "code",
   "execution_count": 27,
   "metadata": {
    "scrolled": true
   },
   "outputs": [
    {
     "data": {
      "text/plain": [
       "array([-5.10210954e-02,  7.81893432e-02,  2.11711582e-02,  3.22814211e-02,\n",
       "        2.83406433e-02, -9.26624909e-02,  8.35968275e-03,  1.19774535e-01,\n",
       "       -1.06582537e-01, -3.08446344e-02, -6.53569326e-02, -9.89891291e-02,\n",
       "       -1.06961383e-02,  1.06559303e-02,  4.11335416e-02, -4.38491441e-02,\n",
       "        1.92602500e-02, -8.69821906e-02, -2.16680951e-02, -1.29865855e-01,\n",
       "        5.08515090e-02,  8.53168368e-02,  1.62084699e-02, -4.07012962e-02,\n",
       "       -8.23623221e-03,  3.46464105e-02, -3.84407640e-02, -1.17728449e-02,\n",
       "       -7.35625625e-02,  1.53746437e-02,  8.50751176e-02,  1.73637867e-02,\n",
       "        2.18883213e-02, -2.19448237e-03, -2.28745919e-02,  6.72138482e-02,\n",
       "       -1.59543299e-03, -3.77931334e-02,  1.55147891e-02, -1.06286161e-01,\n",
       "        3.39433609e-04, -6.98749349e-02,  4.88552079e-02, -5.28930360e-03,\n",
       "        9.43499152e-03, -4.53065522e-02, -7.85550401e-02, -3.89006548e-02,\n",
       "        6.48500025e-02,  4.38015163e-03,  3.94805148e-02, -1.33149698e-02,\n",
       "       -3.96403670e-02, -5.79585433e-02, -5.39453663e-02, -1.13457246e-02,\n",
       "        3.95212024e-02, -1.54469591e-02, -7.22787455e-02,  1.76871121e-02,\n",
       "        3.33766304e-02, -4.45573311e-03, -2.71659605e-02,  3.09935641e-02,\n",
       "       -2.07514595e-02,  7.85284638e-02,  1.71188526e-02,  5.51393703e-02,\n",
       "       -8.06650370e-02,  6.47614449e-02, -6.77002743e-02,  4.94735241e-02,\n",
       "        5.69532253e-02, -1.75291412e-02,  8.25118572e-02,  3.57784182e-02,\n",
       "        2.43920553e-02,  1.23932902e-02, -1.72490682e-02, -1.77441817e-02,\n",
       "       -2.17896830e-02, -4.31461595e-02, -8.47278088e-02,  1.11900508e-01,\n",
       "       -2.52794381e-02,  2.47420830e-05, -3.89756560e-02,  6.51647672e-02,\n",
       "        7.12449178e-02,  8.22241046e-03,  1.26332089e-01,  5.52804917e-02,\n",
       "        3.46365906e-02,  1.72499549e-02,  8.72257575e-02,  6.30194172e-02,\n",
       "        5.29003106e-02, -7.19036013e-02, -1.90863688e-03, -2.08380651e-02],\n",
       "      dtype=float32)"
      ]
     },
     "execution_count": 27,
     "metadata": {},
     "output_type": "execute_result"
    }
   ],
   "source": [
    "word_vectors = [[model_w2v.wv.get_vector(word) for word in sentence] for sentence in test_pad]\n",
    "model_w2v.wv.get_vector('갔다오면')"
   ]
  },
  {
   "cell_type": "code",
   "execution_count": 28,
   "metadata": {},
   "outputs": [
    {
     "name": "stderr",
     "output_type": "stream",
     "text": [
      "2023-07-08 16:29:15.214932: I tensorflow/core/common_runtime/executor.cc:1197] [/device:CPU:0] (DEBUG INFO) Executor start aborting (this does not indicate an error and you can ignore this message): INVALID_ARGUMENT: You must feed a value for placeholder tensor 'gradients/split_2_grad/concat/split_2/split_dim' with dtype int32\n",
      "\t [[{{node gradients/split_2_grad/concat/split_2/split_dim}}]]\n",
      "2023-07-08 16:29:15.216249: I tensorflow/core/common_runtime/executor.cc:1197] [/device:CPU:0] (DEBUG INFO) Executor start aborting (this does not indicate an error and you can ignore this message): INVALID_ARGUMENT: You must feed a value for placeholder tensor 'gradients/split_grad/concat/split/split_dim' with dtype int32\n",
      "\t [[{{node gradients/split_grad/concat/split/split_dim}}]]\n",
      "2023-07-08 16:29:15.217074: I tensorflow/core/common_runtime/executor.cc:1197] [/device:CPU:0] (DEBUG INFO) Executor start aborting (this does not indicate an error and you can ignore this message): INVALID_ARGUMENT: You must feed a value for placeholder tensor 'gradients/split_1_grad/concat/split_1/split_dim' with dtype int32\n",
      "\t [[{{node gradients/split_1_grad/concat/split_1/split_dim}}]]\n",
      "2023-07-08 16:29:15.351739: I tensorflow/core/common_runtime/executor.cc:1197] [/device:CPU:0] (DEBUG INFO) Executor start aborting (this does not indicate an error and you can ignore this message): INVALID_ARGUMENT: You must feed a value for placeholder tensor 'gradients/split_2_grad/concat/split_2/split_dim' with dtype int32\n",
      "\t [[{{node gradients/split_2_grad/concat/split_2/split_dim}}]]\n",
      "2023-07-08 16:29:15.352596: I tensorflow/core/common_runtime/executor.cc:1197] [/device:CPU:0] (DEBUG INFO) Executor start aborting (this does not indicate an error and you can ignore this message): INVALID_ARGUMENT: You must feed a value for placeholder tensor 'gradients/split_grad/concat/split/split_dim' with dtype int32\n",
      "\t [[{{node gradients/split_grad/concat/split/split_dim}}]]\n",
      "2023-07-08 16:29:15.353307: I tensorflow/core/common_runtime/executor.cc:1197] [/device:CPU:0] (DEBUG INFO) Executor start aborting (this does not indicate an error and you can ignore this message): INVALID_ARGUMENT: You must feed a value for placeholder tensor 'gradients/split_1_grad/concat/split_1/split_dim' with dtype int32\n",
      "\t [[{{node gradients/split_1_grad/concat/split_1/split_dim}}]]\n"
     ]
    },
    {
     "name": "stdout",
     "output_type": "stream",
     "text": [
      "1/1 [==============================] - 0s 404ms/step\n"
     ]
    }
   ],
   "source": [
    "# 예측 수행\n",
    "#predictions = model.predict(test_pad)\n",
    "#hjnam\n",
    "word_vectors = np.array(word_vectors)\n",
    "predictions = model.predict(word_vectors)\n"
   ]
  },
  {
   "cell_type": "code",
   "execution_count": 29,
   "metadata": {
    "ExecuteTime": {
     "end_time": "2023-07-07T06:05:04.114044800Z",
     "start_time": "2023-07-07T06:05:04.082441600Z"
    }
   },
   "outputs": [],
   "source": [
    "predicted_classes = np.argmax(predictions, axis=1)"
   ]
  },
  {
   "cell_type": "code",
   "execution_count": 30,
   "metadata": {
    "ExecuteTime": {
     "end_time": "2023-07-07T06:05:04.114044800Z",
     "start_time": "2023-07-07T06:05:04.098414400Z"
    }
   },
   "outputs": [],
   "source": [
    "predicted_labels = encoder.inverse_transform(predicted_classes)"
   ]
  },
  {
   "cell_type": "code",
   "execution_count": 31,
   "metadata": {
    "ExecuteTime": {
     "end_time": "2023-07-07T06:05:04.129669200Z",
     "start_time": "2023-07-07T06:05:04.114044800Z"
    }
   },
   "outputs": [
    {
     "data": {
      "text/plain": [
       "array(['직장 내 괴롭힘 대화'], dtype=object)"
      ]
     },
     "execution_count": 31,
     "metadata": {},
     "output_type": "execute_result"
    }
   ],
   "source": [
    "predicted_labels"
   ]
  },
  {
   "cell_type": "code",
   "execution_count": 32,
   "metadata": {
    "ExecuteTime": {
     "end_time": "2023-07-07T06:05:04.149995500Z",
     "start_time": "2023-07-07T06:05:04.129669200Z"
    }
   },
   "outputs": [],
   "source": [
    "def test_routine(model):\n",
    "    #predictions = model.predict(test_pad)\n",
    "    predictions = model.predict(word_vectors)  #hjnam\n",
    "    predicted_classes = np.argmax(predictions, axis=1)\n",
    "    predicted_labels = encoder.inverse_transform(predicted_classes)\n",
    "    print(predicted_labels)"
   ]
  },
  {
   "cell_type": "code",
   "execution_count": 33,
   "metadata": {
    "ExecuteTime": {
     "end_time": "2023-07-07T06:14:52.554678900Z",
     "start_time": "2023-07-07T06:14:52.537064300Z"
    }
   },
   "outputs": [],
   "source": [
    "def one_shot(get_model):\n",
    "    model, history = train(get_model)\n",
    "    visualization(history)\n",
    "    test_routine(model)"
   ]
  },
  {
   "cell_type": "code",
   "execution_count": 34,
   "metadata": {
    "ExecuteTime": {
     "end_time": "2023-07-07T06:15:23.548269500Z",
     "start_time": "2023-07-07T06:14:55.328176200Z"
    },
    "scrolled": true
   },
   "outputs": [
    {
     "ename": "ValueError",
     "evalue": "This model has not yet been built. Build the model first by calling `build()` or by calling the model on a batch of data.",
     "output_type": "error",
     "traceback": [
      "\u001b[0;31m---------------------------------------------------------------------------\u001b[0m",
      "\u001b[0;31mValueError\u001b[0m                                Traceback (most recent call last)",
      "Cell \u001b[0;32mIn[34], line 1\u001b[0m\n\u001b[0;32m----> 1\u001b[0m \u001b[43mone_shot\u001b[49m\u001b[43m(\u001b[49m\u001b[43mget_cnn\u001b[49m\u001b[43m)\u001b[49m\n",
      "Cell \u001b[0;32mIn[33], line 2\u001b[0m, in \u001b[0;36mone_shot\u001b[0;34m(get_model)\u001b[0m\n\u001b[1;32m      1\u001b[0m \u001b[38;5;28;01mdef\u001b[39;00m \u001b[38;5;21mone_shot\u001b[39m(get_model):\n\u001b[0;32m----> 2\u001b[0m     model, history \u001b[38;5;241m=\u001b[39m \u001b[43mtrain\u001b[49m\u001b[43m(\u001b[49m\u001b[43mget_model\u001b[49m\u001b[43m)\u001b[49m\n\u001b[1;32m      3\u001b[0m     visualization(history)\n\u001b[1;32m      4\u001b[0m     test_routine(model)\n",
      "Cell \u001b[0;32mIn[22], line 3\u001b[0m, in \u001b[0;36mtrain\u001b[0;34m(get_model)\u001b[0m\n\u001b[1;32m      1\u001b[0m \u001b[38;5;28;01mdef\u001b[39;00m \u001b[38;5;21mtrain\u001b[39m(get_model):\n\u001b[1;32m      2\u001b[0m     model \u001b[38;5;241m=\u001b[39m get_model()\n\u001b[0;32m----> 3\u001b[0m     \u001b[43mmodel\u001b[49m\u001b[38;5;241;43m.\u001b[39;49m\u001b[43msummary\u001b[49m\u001b[43m(\u001b[49m\u001b[43m)\u001b[49m\n\u001b[1;32m      4\u001b[0m     \u001b[38;5;66;03m# 모델 컴파일\u001b[39;00m\n\u001b[1;32m      5\u001b[0m     model\u001b[38;5;241m.\u001b[39mcompile(optimizer\u001b[38;5;241m=\u001b[39m\u001b[38;5;124m'\u001b[39m\u001b[38;5;124madam\u001b[39m\u001b[38;5;124m'\u001b[39m, loss\u001b[38;5;241m=\u001b[39m\u001b[38;5;124m'\u001b[39m\u001b[38;5;124msparse_categorical_crossentropy\u001b[39m\u001b[38;5;124m'\u001b[39m, metrics\u001b[38;5;241m=\u001b[39m[\u001b[38;5;124m'\u001b[39m\u001b[38;5;124maccuracy\u001b[39m\u001b[38;5;124m'\u001b[39m])\n",
      "File \u001b[0;32m~/anaconda3/envs/aiffel/lib/python3.9/site-packages/keras/engine/training.py:3229\u001b[0m, in \u001b[0;36mModel.summary\u001b[0;34m(self, line_length, positions, print_fn, expand_nested, show_trainable, layer_range)\u001b[0m\n\u001b[1;32m   3198\u001b[0m \u001b[38;5;250m\u001b[39m\u001b[38;5;124;03m\"\"\"Prints a string summary of the network.\u001b[39;00m\n\u001b[1;32m   3199\u001b[0m \n\u001b[1;32m   3200\u001b[0m \u001b[38;5;124;03mArgs:\u001b[39;00m\n\u001b[0;32m   (...)\u001b[0m\n\u001b[1;32m   3226\u001b[0m \u001b[38;5;124;03m    ValueError: if `summary()` is called before the model is built.\u001b[39;00m\n\u001b[1;32m   3227\u001b[0m \u001b[38;5;124;03m\"\"\"\u001b[39;00m\n\u001b[1;32m   3228\u001b[0m \u001b[38;5;28;01mif\u001b[39;00m \u001b[38;5;129;01mnot\u001b[39;00m \u001b[38;5;28mself\u001b[39m\u001b[38;5;241m.\u001b[39mbuilt:\n\u001b[0;32m-> 3229\u001b[0m     \u001b[38;5;28;01mraise\u001b[39;00m \u001b[38;5;167;01mValueError\u001b[39;00m(\n\u001b[1;32m   3230\u001b[0m         \u001b[38;5;124m\"\u001b[39m\u001b[38;5;124mThis model has not yet been built. \u001b[39m\u001b[38;5;124m\"\u001b[39m\n\u001b[1;32m   3231\u001b[0m         \u001b[38;5;124m\"\u001b[39m\u001b[38;5;124mBuild the model first by calling `build()` or by calling \u001b[39m\u001b[38;5;124m\"\u001b[39m\n\u001b[1;32m   3232\u001b[0m         \u001b[38;5;124m\"\u001b[39m\u001b[38;5;124mthe model on a batch of data.\u001b[39m\u001b[38;5;124m\"\u001b[39m\n\u001b[1;32m   3233\u001b[0m     )\n\u001b[1;32m   3234\u001b[0m layer_utils\u001b[38;5;241m.\u001b[39mprint_summary(\n\u001b[1;32m   3235\u001b[0m     \u001b[38;5;28mself\u001b[39m,\n\u001b[1;32m   3236\u001b[0m     line_length\u001b[38;5;241m=\u001b[39mline_length,\n\u001b[0;32m   (...)\u001b[0m\n\u001b[1;32m   3241\u001b[0m     layer_range\u001b[38;5;241m=\u001b[39mlayer_range,\n\u001b[1;32m   3242\u001b[0m )\n",
      "\u001b[0;31mValueError\u001b[0m: This model has not yet been built. Build the model first by calling `build()` or by calling the model on a batch of data."
     ]
    }
   ],
   "source": [
    "one_shot(get_cnn)"
   ]
  },
  {
   "cell_type": "code",
   "execution_count": null,
   "metadata": {
    "ExecuteTime": {
     "end_time": "2023-07-07T06:15:43.115745500Z",
     "start_time": "2023-07-07T06:15:23.548269500Z"
    },
    "scrolled": true
   },
   "outputs": [],
   "source": [
    "one_shot(get_mlp)"
   ]
  },
  {
   "cell_type": "code",
   "execution_count": null,
   "metadata": {},
   "outputs": [],
   "source": []
  }
 ],
 "metadata": {
  "kernelspec": {
   "display_name": "Python 3 (ipykernel)",
   "language": "python",
   "name": "python3"
  },
  "language_info": {
   "codemirror_mode": {
    "name": "ipython",
    "version": 3
   },
   "file_extension": ".py",
   "mimetype": "text/x-python",
   "name": "python",
   "nbconvert_exporter": "python",
   "pygments_lexer": "ipython3",
   "version": "3.9.7"
  }
 },
 "nbformat": 4,
 "nbformat_minor": 1
}
