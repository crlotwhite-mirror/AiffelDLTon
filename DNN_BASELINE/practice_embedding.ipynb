{
 "cells": [
  {
   "cell_type": "code",
   "execution_count": 1,
   "metadata": {
    "ExecuteTime": {
     "end_time": "2023-07-07T06:03:07.450983500Z",
     "start_time": "2023-07-07T06:03:05.842815Z"
    }
   },
   "outputs": [
    {
     "name": "stderr",
     "output_type": "stream",
     "text": [
      "2023-07-08 03:03:35.995879: I tensorflow/core/platform/cpu_feature_guard.cc:182] This TensorFlow binary is optimized to use available CPU instructions in performance-critical operations.\n",
      "To enable the following instructions: SSE4.1 SSE4.2 AVX AVX2 FMA, in other operations, rebuild TensorFlow with the appropriate compiler flags.\n"
     ]
    }
   ],
   "source": [
    "import pandas as pd\n",
    "import numpy as np\n",
    "from sklearn.model_selection import train_test_split\n",
    "from sklearn.preprocessing import LabelEncoder\n",
    "from konlpy.tag import Mecab,Okt\n",
    "from keras.preprocessing.text import Tokenizer\n",
    "from keras_preprocessing.sequence import pad_sequences\n",
    "from keras.models import Sequential\n",
    "from keras.layers import Dense, Embedding, Flatten"
   ]
  },
  {
   "cell_type": "markdown",
   "metadata": {},
   "source": []
  },
  {
   "cell_type": "code",
   "execution_count": 2,
   "metadata": {
    "ExecuteTime": {
     "end_time": "2023-07-07T06:03:07.495874700Z",
     "start_time": "2023-07-07T06:03:07.451982100Z"
    }
   },
   "outputs": [
    {
     "data": {
      "text/html": [
       "<div>\n",
       "<style scoped>\n",
       "    .dataframe tbody tr th:only-of-type {\n",
       "        vertical-align: middle;\n",
       "    }\n",
       "\n",
       "    .dataframe tbody tr th {\n",
       "        vertical-align: top;\n",
       "    }\n",
       "\n",
       "    .dataframe thead th {\n",
       "        text-align: right;\n",
       "    }\n",
       "</style>\n",
       "<table border=\"1\" class=\"dataframe\">\n",
       "  <thead>\n",
       "    <tr style=\"text-align: right;\">\n",
       "      <th></th>\n",
       "      <th>idx</th>\n",
       "      <th>class</th>\n",
       "      <th>conversation</th>\n",
       "    </tr>\n",
       "  </thead>\n",
       "  <tbody>\n",
       "    <tr>\n",
       "      <th>0</th>\n",
       "      <td>0</td>\n",
       "      <td>협박 대화</td>\n",
       "      <td>지금 너 스스로를 죽여달라고 애원하는 것인가?\\n 아닙니다. 죄송합니다.\\n 죽을 ...</td>\n",
       "    </tr>\n",
       "    <tr>\n",
       "      <th>1</th>\n",
       "      <td>1</td>\n",
       "      <td>협박 대화</td>\n",
       "      <td>길동경찰서입니다.\\n9시 40분 마트에 폭발물을 설치할거다.\\n네?\\n똑바로 들어 ...</td>\n",
       "    </tr>\n",
       "    <tr>\n",
       "      <th>2</th>\n",
       "      <td>2</td>\n",
       "      <td>기타 괴롭힘 대화</td>\n",
       "      <td>너 되게 귀여운거 알지? 나보다 작은 남자는 첨봤어.\\n그만해. 니들 놀리는거 재미...</td>\n",
       "    </tr>\n",
       "    <tr>\n",
       "      <th>3</th>\n",
       "      <td>3</td>\n",
       "      <td>갈취 대화</td>\n",
       "      <td>어이 거기\\n예??\\n너 말이야 너. 이리 오라고\\n무슨 일.\\n너 옷 좋아보인다?...</td>\n",
       "    </tr>\n",
       "    <tr>\n",
       "      <th>4</th>\n",
       "      <td>4</td>\n",
       "      <td>갈취 대화</td>\n",
       "      <td>저기요 혹시 날이 너무 뜨겁잖아요? 저희 회사에서 이 선크림 파는데 한 번 손등에 ...</td>\n",
       "    </tr>\n",
       "  </tbody>\n",
       "</table>\n",
       "</div>"
      ],
      "text/plain": [
       "   idx      class                                       conversation\n",
       "0    0      협박 대화  지금 너 스스로를 죽여달라고 애원하는 것인가?\\n 아닙니다. 죄송합니다.\\n 죽을 ...\n",
       "1    1      협박 대화  길동경찰서입니다.\\n9시 40분 마트에 폭발물을 설치할거다.\\n네?\\n똑바로 들어 ...\n",
       "2    2  기타 괴롭힘 대화  너 되게 귀여운거 알지? 나보다 작은 남자는 첨봤어.\\n그만해. 니들 놀리는거 재미...\n",
       "3    3      갈취 대화  어이 거기\\n예??\\n너 말이야 너. 이리 오라고\\n무슨 일.\\n너 옷 좋아보인다?...\n",
       "4    4      갈취 대화  저기요 혹시 날이 너무 뜨겁잖아요? 저희 회사에서 이 선크림 파는데 한 번 손등에 ..."
      ]
     },
     "execution_count": 2,
     "metadata": {},
     "output_type": "execute_result"
    }
   ],
   "source": [
    "# 데이터 불러오기\n",
    "data = pd.read_csv('train.csv')\n",
    "data.head()"
   ]
  },
  {
   "cell_type": "code",
   "execution_count": 3,
   "metadata": {
    "ExecuteTime": {
     "end_time": "2023-07-07T06:03:07.514584500Z",
     "start_time": "2023-07-07T06:03:07.496874700Z"
    }
   },
   "outputs": [],
   "source": [
    "# class 열을 숫자로 변환\n",
    "encoder = LabelEncoder()\n",
    "data['class'] = encoder.fit_transform(data['class'])"
   ]
  },
  {
   "cell_type": "code",
   "execution_count": 4,
   "metadata": {
    "ExecuteTime": {
     "end_time": "2023-07-07T06:03:27.184988900Z",
     "start_time": "2023-07-07T06:03:07.511581800Z"
    },
    "scrolled": true
   },
   "outputs": [],
   "source": [
    "# konlpy의 Mecab을 이용한 토큰화\n",
    "mecab = Okt()\n",
    "data['conversation'] = data['conversation'].apply(mecab.morphs)\n",
    "#data['conversation'] = [mecab.morphs(sentence) for sentence in data['conversation']]"
   ]
  },
  {
   "cell_type": "code",
   "execution_count": 5,
   "metadata": {
    "ExecuteTime": {
     "end_time": "2023-07-07T06:03:27.200882500Z",
     "start_time": "2023-07-07T06:03:27.184988900Z"
    }
   },
   "outputs": [
    {
     "data": {
      "text/html": [
       "<div>\n",
       "<style scoped>\n",
       "    .dataframe tbody tr th:only-of-type {\n",
       "        vertical-align: middle;\n",
       "    }\n",
       "\n",
       "    .dataframe tbody tr th {\n",
       "        vertical-align: top;\n",
       "    }\n",
       "\n",
       "    .dataframe thead th {\n",
       "        text-align: right;\n",
       "    }\n",
       "</style>\n",
       "<table border=\"1\" class=\"dataframe\">\n",
       "  <thead>\n",
       "    <tr style=\"text-align: right;\">\n",
       "      <th></th>\n",
       "      <th>idx</th>\n",
       "      <th>class</th>\n",
       "      <th>conversation</th>\n",
       "    </tr>\n",
       "  </thead>\n",
       "  <tbody>\n",
       "    <tr>\n",
       "      <th>0</th>\n",
       "      <td>0</td>\n",
       "      <td>3</td>\n",
       "      <td>[지금, 너, 스스로, 를, 죽여, 달라, 고, 애원, 하는, 것, 인가, ?, \\...</td>\n",
       "    </tr>\n",
       "    <tr>\n",
       "      <th>1</th>\n",
       "      <td>1</td>\n",
       "      <td>3</td>\n",
       "      <td>[길동, 경찰서, 입니다, ., \\n, 9시, 40분, 마트, 에, 폭발물, 을, ...</td>\n",
       "    </tr>\n",
       "    <tr>\n",
       "      <th>2</th>\n",
       "      <td>2</td>\n",
       "      <td>1</td>\n",
       "      <td>[너, 되게, 귀여운거, 알, 지, ?, 나, 보다, 작은, 남자, 는, 첨, 봤어...</td>\n",
       "    </tr>\n",
       "    <tr>\n",
       "      <th>3</th>\n",
       "      <td>3</td>\n",
       "      <td>0</td>\n",
       "      <td>[어이, 거기, \\n, 예, ??, \\n, 너, 말, 이야, 너, ., 이리, 오라...</td>\n",
       "    </tr>\n",
       "    <tr>\n",
       "      <th>4</th>\n",
       "      <td>4</td>\n",
       "      <td>0</td>\n",
       "      <td>[저기, 요, 혹시, 날, 이, 너무, 뜨겁잖아요, ?, 저희, 회사, 에서, 이,...</td>\n",
       "    </tr>\n",
       "  </tbody>\n",
       "</table>\n",
       "</div>"
      ],
      "text/plain": [
       "   idx  class                                       conversation\n",
       "0    0      3  [지금, 너, 스스로, 를, 죽여, 달라, 고, 애원, 하는, 것, 인가, ?, \\...\n",
       "1    1      3  [길동, 경찰서, 입니다, ., \\n, 9시, 40분, 마트, 에, 폭발물, 을, ...\n",
       "2    2      1  [너, 되게, 귀여운거, 알, 지, ?, 나, 보다, 작은, 남자, 는, 첨, 봤어...\n",
       "3    3      0  [어이, 거기, \\n, 예, ??, \\n, 너, 말, 이야, 너, ., 이리, 오라...\n",
       "4    4      0  [저기, 요, 혹시, 날, 이, 너무, 뜨겁잖아요, ?, 저희, 회사, 에서, 이,..."
      ]
     },
     "execution_count": 5,
     "metadata": {},
     "output_type": "execute_result"
    }
   ],
   "source": [
    "data.head()"
   ]
  },
  {
   "cell_type": "code",
   "execution_count": 92,
   "metadata": {
    "ExecuteTime": {
     "end_time": "2023-07-07T06:03:27.404810300Z",
     "start_time": "2023-07-07T06:03:27.200882500Z"
    }
   },
   "outputs": [],
   "source": [
    "# 케라스를 이용한 정수 인코딩\n",
    "tokenizer = Tokenizer()\n",
    "tokenizer.fit_on_texts(data['conversation'])\n",
    "sequences = tokenizer.texts_to_sequences(data['conversation'])"
   ]
  },
  {
   "cell_type": "code",
   "execution_count": 96,
   "metadata": {
    "ExecuteTime": {
     "end_time": "2023-07-07T06:03:27.420434300Z",
     "start_time": "2023-07-07T06:03:27.404810300Z"
    }
   },
   "outputs": [],
   "source": [
    "# 입력 데이터 패딩 처리 \n",
    "#data_pad = pad_sequences(sequences)   #hjnam\n",
    "\n",
    "#hjnam\n",
    "word_index = tokenizer.word_index\n",
    "index_word = {idx: word for word, idx in word_index.items()}\n",
    "data_pad = [[index_word[idx] for idx in seq if idx != 0] for seq in sequences]"
   ]
  },
  {
   "cell_type": "code",
   "execution_count": 97,
   "metadata": {
    "scrolled": true
   },
   "outputs": [
    {
     "name": "stdout",
     "output_type": "stream",
     "text": [
      "['지금', '너', '스스로', '를', '죽여', '달라', '고', '애원', '하는', '것', '인가', '?', '\\n ', '아닙니다', '.', '죄송합니다', '.', '\\n ', '죽', '을', '거', '면', '혼자', '죽지', '우리', '까지', '사건', '에', '휘', '말리', '게', '해', '?', '진짜', '죽여', '버리고', '싶게', '.', '\\n ', '정말', '잘', '못', '했습니다', '.', '\\n ', '너', '가', '선택', '해', '.', '너', '가', '죽을래', '네', '가족', '을', '죽여줄까', '.', '\\n ', '죄송합니다', '.', '정말', '잘', '못', '했습니다', '.', '\\n ', '너', '에게는', '선택', '권', '이', '없어', '.', '선택', '못', '한다면', '너', '와', '네', '가족', '까지', '모조리', '죽여', '버릴거야', '.', '\\n ', '선택', '못', '하겠습니다', '.', '한번', '만', '도와주세요', '.', '\\n ', '그냥', '다', '죽여', '버려야겠군', '.', '이의', '없지', '?', '\\n ', '제발', '도와주세요', '.']\n"
     ]
    }
   ],
   "source": [
    "print(data_pad[0])"
   ]
  },
  {
   "cell_type": "code",
   "execution_count": 100,
   "metadata": {},
   "outputs": [],
   "source": [
    "#hjnam\n",
    "from gensim.models import Word2Vec\n",
    "\n",
    "# Set the size of the word vectors\n",
    "vector_size = 100\n",
    "model_w2v = Word2Vec(sentences=data_pad, vector_size=vector_size, window=5, min_count=3, sg=0)\n",
    "#model_w2v.wv.save_word2vec_format('/home/aiffel/aiffel/DLthon/AiffelDLTon/DNN_BASELINE/data') \n"
   ]
  },
  {
   "cell_type": "code",
   "execution_count": 101,
   "metadata": {},
   "outputs": [],
   "source": [
    "#hjnam\n",
    "data_embeddings = []\n",
    "\n",
    "for tokens in data_pad:\n",
    "    sample_vectors = []\n",
    "    \n",
    "    for token in tokens:\n",
    "        if token in model_w2v.wv:\n",
    "            word_vector = model_w2v.wv.get_vector(token)\n",
    "            sample_vectors.append(word_vector)\n",
    "    \n",
    "    # Add the sample vectors to the list of embeddings\n",
    "    data_embeddings.append(sample_vectors)\n",
    "\n",
    "# Pad the sequences of word vectors to have the same length\n",
    "max_length = max(len(sample) for sample in data_embeddings)\n",
    "data_embeddings = pad_sequences(data_embeddings, maxlen=max_length, dtype='float32')\n",
    "\n",
    "# 데이터셋 분리\n",
    "X_train, X_val, y_train, y_val = train_test_split(data_embeddings, data['class'], test_size=0.2, random_state=42)\n"
   ]
  },
  {
   "cell_type": "code",
   "execution_count": 102,
   "metadata": {},
   "outputs": [
    {
     "name": "stdout",
     "output_type": "stream",
     "text": [
      "[('없어', 0.84410560131073), ('빌려줘', 0.8184616565704346), ('없어서', 0.8129916191101074), ('빌려주라', 0.8060377240180969), ('지갑', 0.8042423725128174), ('없는데', 0.7858288288116455), ('영지', 0.7850775122642517), ('차비', 0.7827370762825012), ('뒤져서', 0.7817003130912781), ('없대', 0.7780971527099609)]\n"
     ]
    }
   ],
   "source": [
    "#hjnam\n",
    "model_result = model_w2v.wv.most_similar(\"돈\")\n",
    "print(model_result)"
   ]
  },
  {
   "cell_type": "code",
   "execution_count": 103,
   "metadata": {
    "ExecuteTime": {
     "end_time": "2023-07-07T06:03:27.452074200Z",
     "start_time": "2023-07-07T06:03:27.436443200Z"
    }
   },
   "outputs": [],
   "source": [
    "def get_mlp():\n",
    "    # MLP 모델 생성\n",
    "    model = Sequential()\n",
    "    #model.add(Embedding(len(tokenizer.word_index)+1, 128, input_length=data_pad.shape[1]))\n",
    "    #model.add(Embedding(len(tokenizer.word_index)+1, 128, input_length=len(data_pad)))  #hjnam\n",
    "    model.add(Flatten())\n",
    "    model.add(Dense(64, activation='relu'))\n",
    "    model.add(Dense(len(data['class'].unique()), activation='softmax'))\n",
    "    return model"
   ]
  },
  {
   "cell_type": "code",
   "execution_count": 104,
   "metadata": {
    "ExecuteTime": {
     "end_time": "2023-07-07T06:03:28.299880500Z",
     "start_time": "2023-07-07T06:03:27.483323Z"
    },
    "scrolled": false
   },
   "outputs": [
    {
     "name": "stdout",
     "output_type": "stream",
     "text": [
      "Model: \"sequential_10\"\n",
      "_________________________________________________________________\n",
      " Layer (type)                Output Shape              Param #   \n",
      "=================================================================\n",
      " flatten_4 (Flatten)         (None, 33200)             0         \n",
      "                                                                 \n",
      " dense_20 (Dense)            (None, 64)                2124864   \n",
      "                                                                 \n",
      " dense_21 (Dense)            (None, 4)                 260       \n",
      "                                                                 \n",
      "=================================================================\n",
      "Total params: 2,125,124\n",
      "Trainable params: 2,125,124\n",
      "Non-trainable params: 0\n",
      "_________________________________________________________________\n"
     ]
    }
   ],
   "source": [
    "model = get_mlp()\n",
    "model.build(input_shape=(None, 332, 100))  #hjnam\n",
    "model.summary()"
   ]
  },
  {
   "cell_type": "code",
   "execution_count": 105,
   "metadata": {
    "ExecuteTime": {
     "end_time": "2023-07-07T06:03:27.467699200Z",
     "start_time": "2023-07-07T06:03:27.452074200Z"
    }
   },
   "outputs": [],
   "source": [
    "from keras.layers import Conv1D, GlobalMaxPooling1D\n",
    "\n",
    "def get_cnn():\n",
    "    # CNN 모델 생성\n",
    "    model = Sequential()\n",
    "    #model.add(Embedding(len(tokenizer.word_index)+1, 128, input_length=data_pad.shape[1]))\n",
    "    #model.add(Embedding(len(tokenizer.word_index)+1, 128, input_length=len(data_pad))) #hjnam\n",
    "    model.add(Conv1D(128, 5, activation='relu'))\n",
    "    model.add(GlobalMaxPooling1D())\n",
    "    model.add(Dense(64, activation='relu'))\n",
    "    model.add(Dense(len(data['class'].unique()), activation='softmax'))\n",
    "\n",
    "    return model\n"
   ]
  },
  {
   "cell_type": "code",
   "execution_count": 106,
   "metadata": {
    "ExecuteTime": {
     "end_time": "2023-07-07T06:03:28.299880500Z",
     "start_time": "2023-07-07T06:03:27.483323Z"
    },
    "scrolled": true
   },
   "outputs": [
    {
     "name": "stdout",
     "output_type": "stream",
     "text": [
      "Model: \"sequential_11\"\n",
      "_________________________________________________________________\n",
      " Layer (type)                Output Shape              Param #   \n",
      "=================================================================\n",
      " conv1d_4 (Conv1D)           (None, 328, 128)          64128     \n",
      "                                                                 \n",
      " global_max_pooling1d_4 (Glo  (None, 128)              0         \n",
      " balMaxPooling1D)                                                \n",
      "                                                                 \n",
      " dense_22 (Dense)            (None, 64)                8256      \n",
      "                                                                 \n",
      " dense_23 (Dense)            (None, 4)                 260       \n",
      "                                                                 \n",
      "=================================================================\n",
      "Total params: 72,644\n",
      "Trainable params: 72,644\n",
      "Non-trainable params: 0\n",
      "_________________________________________________________________\n"
     ]
    }
   ],
   "source": [
    "model = get_cnn()\n",
    "model.build(input_shape=(None, 332, 100))  #hjnam\n",
    "model.summary()"
   ]
  },
  {
   "cell_type": "code",
   "execution_count": 107,
   "metadata": {},
   "outputs": [],
   "source": [
    "from keras.layers import LSTM, Dropout\n",
    "from keras.layers import Input, Reshape\n",
    "\n",
    "def get_lstm():\n",
    "    # LSTM 모델 생성\n",
    "    model = Sequential()\n",
    "    #model.add(Embedding(len(tokenizer.word_index)+1, 128, input_length=data_pad.shape[1]))\n",
    "    #model.add(Embedding(len(tokenizer.word_index)+1, 128, input_length=tokenized.shape[1]))\n",
    "    #model.add(Input(shape=(len(tokenizer.word_index)+1, vector_size)))\n",
    "    #model.add(Input(shape=(vector_size))) #hjnam\n",
    "    #model.add(Reshape((1, vector_size))) #hjnam\n",
    "    #model.add(Reshape((vector_size))) #hjnam\n",
    "    model.add(LSTM(64))\n",
    "    model.add(Dense(64, activation='relu'))\n",
    "    model.add(Dropout(0.3))\n",
    "    model.add(Dense(len(data['class'].unique()), activation='softmax'))\n",
    "\n",
    "    return model\n"
   ]
  },
  {
   "cell_type": "code",
   "execution_count": 108,
   "metadata": {
    "ExecuteTime": {
     "end_time": "2023-07-07T06:03:28.299880500Z",
     "start_time": "2023-07-07T06:03:27.483323Z"
    },
    "scrolled": false
   },
   "outputs": [
    {
     "name": "stdout",
     "output_type": "stream",
     "text": [
      "Model: \"sequential_12\"\n",
      "_________________________________________________________________\n",
      " Layer (type)                Output Shape              Param #   \n",
      "=================================================================\n",
      " lstm_2 (LSTM)               (None, 64)                42240     \n",
      "                                                                 \n",
      " dense_24 (Dense)            (None, 64)                4160      \n",
      "                                                                 \n",
      " dropout_2 (Dropout)         (None, 64)                0         \n",
      "                                                                 \n",
      " dense_25 (Dense)            (None, 4)                 260       \n",
      "                                                                 \n",
      "=================================================================\n",
      "Total params: 46,660\n",
      "Trainable params: 46,660\n",
      "Non-trainable params: 0\n",
      "_________________________________________________________________\n"
     ]
    },
    {
     "name": "stderr",
     "output_type": "stream",
     "text": [
      "2023-07-08 03:13:05.235924: I tensorflow/core/common_runtime/executor.cc:1197] [/device:CPU:0] (DEBUG INFO) Executor start aborting (this does not indicate an error and you can ignore this message): INVALID_ARGUMENT: You must feed a value for placeholder tensor 'gradients/split_2_grad/concat/split_2/split_dim' with dtype int32\n",
      "\t [[{{node gradients/split_2_grad/concat/split_2/split_dim}}]]\n",
      "2023-07-08 03:13:05.236907: I tensorflow/core/common_runtime/executor.cc:1197] [/device:CPU:0] (DEBUG INFO) Executor start aborting (this does not indicate an error and you can ignore this message): INVALID_ARGUMENT: You must feed a value for placeholder tensor 'gradients/split_grad/concat/split/split_dim' with dtype int32\n",
      "\t [[{{node gradients/split_grad/concat/split/split_dim}}]]\n",
      "2023-07-08 03:13:05.237697: I tensorflow/core/common_runtime/executor.cc:1197] [/device:CPU:0] (DEBUG INFO) Executor start aborting (this does not indicate an error and you can ignore this message): INVALID_ARGUMENT: You must feed a value for placeholder tensor 'gradients/split_1_grad/concat/split_1/split_dim' with dtype int32\n",
      "\t [[{{node gradients/split_1_grad/concat/split_1/split_dim}}]]\n"
     ]
    }
   ],
   "source": [
    "model = get_lstm()\n",
    "model.build(input_shape=(None, 332, 100))  #hjnam\n",
    "model.summary()"
   ]
  },
  {
   "cell_type": "code",
   "execution_count": 113,
   "metadata": {
    "ExecuteTime": {
     "end_time": "2023-07-07T06:03:28.347234700Z",
     "start_time": "2023-07-07T06:03:28.299880500Z"
    }
   },
   "outputs": [],
   "source": [
    "# 모델 컴파일\n",
    "model.compile(optimizer='adam', loss='sparse_categorical_crossentropy', metrics=['accuracy'])"
   ]
  },
  {
   "cell_type": "code",
   "execution_count": 114,
   "metadata": {
    "scrolled": true
   },
   "outputs": [
    {
     "data": {
      "text/plain": [
       "(3160, 3160)"
      ]
     },
     "execution_count": 114,
     "metadata": {},
     "output_type": "execute_result"
    }
   ],
   "source": [
    "len(X_train), len(y_train)"
   ]
  },
  {
   "cell_type": "code",
   "execution_count": 115,
   "metadata": {
    "ExecuteTime": {
     "end_time": "2023-07-07T06:05:02.797235300Z",
     "start_time": "2023-07-07T06:03:28.315593400Z"
    },
    "scrolled": false
   },
   "outputs": [
    {
     "name": "stdout",
     "output_type": "stream",
     "text": [
      "Epoch 1/10\n"
     ]
    },
    {
     "name": "stderr",
     "output_type": "stream",
     "text": [
      "2023-07-08 03:13:27.805105: I tensorflow/core/common_runtime/executor.cc:1197] [/device:CPU:0] (DEBUG INFO) Executor start aborting (this does not indicate an error and you can ignore this message): INVALID_ARGUMENT: You must feed a value for placeholder tensor 'gradients/split_2_grad/concat/split_2/split_dim' with dtype int32\n",
      "\t [[{{node gradients/split_2_grad/concat/split_2/split_dim}}]]\n",
      "2023-07-08 03:13:27.806214: I tensorflow/core/common_runtime/executor.cc:1197] [/device:CPU:0] (DEBUG INFO) Executor start aborting (this does not indicate an error and you can ignore this message): INVALID_ARGUMENT: You must feed a value for placeholder tensor 'gradients/split_grad/concat/split/split_dim' with dtype int32\n",
      "\t [[{{node gradients/split_grad/concat/split/split_dim}}]]\n",
      "2023-07-08 03:13:27.807006: I tensorflow/core/common_runtime/executor.cc:1197] [/device:CPU:0] (DEBUG INFO) Executor start aborting (this does not indicate an error and you can ignore this message): INVALID_ARGUMENT: You must feed a value for placeholder tensor 'gradients/split_1_grad/concat/split_1/split_dim' with dtype int32\n",
      "\t [[{{node gradients/split_1_grad/concat/split_1/split_dim}}]]\n",
      "2023-07-08 03:13:28.213376: I tensorflow/core/common_runtime/executor.cc:1197] [/device:CPU:0] (DEBUG INFO) Executor start aborting (this does not indicate an error and you can ignore this message): INVALID_ARGUMENT: You must feed a value for placeholder tensor 'gradients/split_2_grad/concat/split_2/split_dim' with dtype int32\n",
      "\t [[{{node gradients/split_2_grad/concat/split_2/split_dim}}]]\n",
      "2023-07-08 03:13:28.214643: I tensorflow/core/common_runtime/executor.cc:1197] [/device:CPU:0] (DEBUG INFO) Executor start aborting (this does not indicate an error and you can ignore this message): INVALID_ARGUMENT: You must feed a value for placeholder tensor 'gradients/split_grad/concat/split/split_dim' with dtype int32\n",
      "\t [[{{node gradients/split_grad/concat/split/split_dim}}]]\n",
      "2023-07-08 03:13:28.215464: I tensorflow/core/common_runtime/executor.cc:1197] [/device:CPU:0] (DEBUG INFO) Executor start aborting (this does not indicate an error and you can ignore this message): INVALID_ARGUMENT: You must feed a value for placeholder tensor 'gradients/split_1_grad/concat/split_1/split_dim' with dtype int32\n",
      "\t [[{{node gradients/split_1_grad/concat/split_1/split_dim}}]]\n"
     ]
    },
    {
     "name": "stdout",
     "output_type": "stream",
     "text": [
      "99/99 [==============================] - ETA: 0s - loss: 1.1872 - accuracy: 0.4706"
     ]
    },
    {
     "name": "stderr",
     "output_type": "stream",
     "text": [
      "2023-07-08 03:13:44.707373: I tensorflow/core/common_runtime/executor.cc:1197] [/device:CPU:0] (DEBUG INFO) Executor start aborting (this does not indicate an error and you can ignore this message): INVALID_ARGUMENT: You must feed a value for placeholder tensor 'gradients/split_2_grad/concat/split_2/split_dim' with dtype int32\n",
      "\t [[{{node gradients/split_2_grad/concat/split_2/split_dim}}]]\n",
      "2023-07-08 03:13:44.708636: I tensorflow/core/common_runtime/executor.cc:1197] [/device:CPU:0] (DEBUG INFO) Executor start aborting (this does not indicate an error and you can ignore this message): INVALID_ARGUMENT: You must feed a value for placeholder tensor 'gradients/split_grad/concat/split/split_dim' with dtype int32\n",
      "\t [[{{node gradients/split_grad/concat/split/split_dim}}]]\n",
      "2023-07-08 03:13:44.709381: I tensorflow/core/common_runtime/executor.cc:1197] [/device:CPU:0] (DEBUG INFO) Executor start aborting (this does not indicate an error and you can ignore this message): INVALID_ARGUMENT: You must feed a value for placeholder tensor 'gradients/split_1_grad/concat/split_1/split_dim' with dtype int32\n",
      "\t [[{{node gradients/split_1_grad/concat/split_1/split_dim}}]]\n"
     ]
    },
    {
     "name": "stdout",
     "output_type": "stream",
     "text": [
      "99/99 [==============================] - 18s 169ms/step - loss: 1.1872 - accuracy: 0.4706 - val_loss: 0.9745 - val_accuracy: 0.6063\n",
      "Epoch 2/10\n",
      "99/99 [==============================] - 17s 172ms/step - loss: 0.9607 - accuracy: 0.6117 - val_loss: 0.9513 - val_accuracy: 0.6139\n",
      "Epoch 3/10\n",
      "99/99 [==============================] - 18s 178ms/step - loss: 0.9012 - accuracy: 0.6497 - val_loss: 0.8006 - val_accuracy: 0.7038\n",
      "Epoch 4/10\n",
      "99/99 [==============================] - 18s 185ms/step - loss: 0.8182 - accuracy: 0.6934 - val_loss: 0.8406 - val_accuracy: 0.6810\n",
      "Epoch 5/10\n",
      "99/99 [==============================] - 19s 191ms/step - loss: 0.8297 - accuracy: 0.6772 - val_loss: 0.7627 - val_accuracy: 0.7354\n",
      "Epoch 6/10\n",
      "99/99 [==============================] - 18s 185ms/step - loss: 0.7609 - accuracy: 0.7104 - val_loss: 0.7621 - val_accuracy: 0.7165\n",
      "Epoch 7/10\n",
      "99/99 [==============================] - 18s 182ms/step - loss: 0.7082 - accuracy: 0.7389 - val_loss: 0.7319 - val_accuracy: 0.7177\n",
      "Epoch 8/10\n",
      "99/99 [==============================] - 18s 181ms/step - loss: 0.6970 - accuracy: 0.7380 - val_loss: 0.7158 - val_accuracy: 0.7481\n",
      "Epoch 9/10\n",
      "99/99 [==============================] - 17s 176ms/step - loss: 0.6606 - accuracy: 0.7475 - val_loss: 0.7256 - val_accuracy: 0.7203\n",
      "Epoch 10/10\n",
      "99/99 [==============================] - 18s 183ms/step - loss: 0.6336 - accuracy: 0.7620 - val_loss: 0.8300 - val_accuracy: 0.6671\n"
     ]
    }
   ],
   "source": [
    "# 모델 학습\n",
    "history = model.fit(X_train, y_train, validation_data=(X_val, y_val), epochs=10)"
   ]
  },
  {
   "cell_type": "code",
   "execution_count": 116,
   "metadata": {
    "ExecuteTime": {
     "end_time": "2023-07-07T06:05:02.813090700Z",
     "start_time": "2023-07-07T06:05:02.797235300Z"
    }
   },
   "outputs": [],
   "source": [
    "def train(get_model):\n",
    "    model = get_model()\n",
    "    model.summary()\n",
    "    # 모델 컴파일\n",
    "    model.compile(optimizer='adam', loss='sparse_categorical_crossentropy', metrics=['accuracy'])\n",
    "    # 모델 학습\n",
    "    history = model.fit(X_train, y_train, validation_data=(X_val, y_val), epochs=50)\n",
    "    return model, history"
   ]
  },
  {
   "cell_type": "code",
   "execution_count": 117,
   "metadata": {
    "ExecuteTime": {
     "end_time": "2023-07-07T06:05:03.487628900Z",
     "start_time": "2023-07-07T06:05:02.813090700Z"
    },
    "scrolled": false
   },
   "outputs": [
    {
     "data": {
      "image/png": "[encoded data removed]",
      "text/plain": [
       "<Figure size 640x480 with 1 Axes>"
      ]
     },
     "metadata": {},
     "output_type": "display_data"
    },
    {
     "data": {
      "image/png": "[encoded data removed]",
      "text/plain": [
       "<Figure size 640x480 with 1 Axes>"
      ]
     },
     "metadata": {},
     "output_type": "display_data"
    }
   ],
   "source": [
    "import matplotlib.pyplot as plt\n",
    "\n",
    "def visualization(history):\n",
    "    # 시각화를 위한 데이터 정의\n",
    "    loss = history.history['loss']\n",
    "    val_loss = history.history['val_loss']\n",
    "    accuracy = history.history['accuracy']\n",
    "    val_accuracy = history.history['val_accuracy']\n",
    "\n",
    "    epochs = range(1, len(loss) + 1)\n",
    "\n",
    "    # 손실값 시각화\n",
    "    plt.figure()\n",
    "    plt.plot(epochs, loss, 'bo', label='Training loss')\n",
    "    plt.plot(epochs, val_loss, 'b', label='Validation loss')\n",
    "    plt.title('Training and validation loss')\n",
    "    plt.legend()\n",
    "\n",
    "    plt.show()\n",
    "\n",
    "    # 정확도 시각화\n",
    "    plt.figure()\n",
    "    plt.plot(epochs, accuracy, 'bo', label='Training accuracy')\n",
    "    plt.plot(epochs, val_accuracy, 'b', label='Validation accuracy')\n",
    "    plt.title('Training and validation accuracy')\n",
    "    plt.legend()\n",
    "\n",
    "    plt.show()\n",
    "\n",
    "visualization(history)\n"
   ]
  },
  {
   "cell_type": "code",
   "execution_count": 125,
   "metadata": {
    "ExecuteTime": {
     "end_time": "2023-07-07T06:05:03.503261800Z",
     "start_time": "2023-07-07T06:05:03.487628900Z"
    }
   },
   "outputs": [],
   "source": [
    "#hjnam : remove '파견'\n",
    "test_x = '''우리팀에서 다른팀으로 갈 사람 없나? 그럼 영지씨가 가는건 어때?\n",
    "네? 제가요?\n",
    "그렇지? 2달만 잘 갔다오면 승진이야. \n",
    "네? 저는 별로 가고 싶지 않습니다.\n",
    "여기 있는 모든사람도 가기 싫어해. 그러니까 막내인 영지씨가 가는게 맞지\n",
    "정말 죄송합니다. 저는 못갑니다.\n",
    "장난해? 모두를 위해 영지씨가 희생하는게 싫어?\n",
    "네. 부당한 방법으로 가는 것 같습니다.\n",
    "영지씨 안가면 회사생활 오래 못할 것 같은데 그래도 안갈거야? 안가면 지옥일텐데.\n",
    "그래도 이 방법은 아닌 것 같습니다. 죄송합니다.'''\n",
    "\n",
    "test_y = encoder.transform([\"직장 내 괴롭힘 대화\"])"
   ]
  },
  {
   "cell_type": "code",
   "execution_count": 126,
   "metadata": {
    "ExecuteTime": {
     "end_time": "2023-07-07T06:05:03.546963400Z",
     "start_time": "2023-07-07T06:05:03.506612500Z"
    }
   },
   "outputs": [],
   "source": [
    "test_data = {\n",
    "    \"class\": [test_y, ],\n",
    "    \"conversation\": [test_x, ],\n",
    "}\n",
    "\n",
    "df2 = pd.DataFrame(test_data, index=[0])"
   ]
  },
  {
   "cell_type": "code",
   "execution_count": 124,
   "metadata": {},
   "outputs": [],
   "source": [
    "df2['conversation'] = df2['conversation'].apply(mecab.morphs)\n",
    "test_sequences = tokenizer.texts_to_sequences(df2['conversation'])\n",
    "test_pad = [[index_word[idx] for idx in seq if idx != 0] for seq in test_sequences] #hjnam"
   ]
  },
  {
   "cell_type": "code",
   "execution_count": 127,
   "metadata": {
    "scrolled": true
   },
   "outputs": [
    {
     "data": {
      "text/plain": [
       "array([-0.04119078,  0.06990811,  0.00650398,  0.00766437,  0.02285811,\n",
       "       -0.08575679,  0.01609221,  0.11671092, -0.08667079, -0.02709041,\n",
       "       -0.05582448, -0.08517259, -0.00843242,  0.02113241,  0.05093693,\n",
       "       -0.04731665,  0.05872921, -0.08763821, -0.01090919, -0.13133506,\n",
       "        0.05126632,  0.06612694,  0.03038778, -0.05029805, -0.00227527,\n",
       "        0.03135445, -0.03153165, -0.01670835, -0.06282143,  0.02787872,\n",
       "        0.07963626,  0.03420224,  0.0128352 , -0.01083236, -0.03449272,\n",
       "        0.06859644, -0.02319778, -0.02127144,  0.01378371, -0.12626804,\n",
       "       -0.0101524 , -0.0623472 ,  0.03507638,  0.00451631,  0.02143133,\n",
       "       -0.04882713, -0.08721966, -0.0483816 ,  0.05805697,  0.00407593,\n",
       "        0.05441815, -0.01345652, -0.04101199, -0.05888922, -0.05249877,\n",
       "       -0.00961741,  0.03657546,  0.004934  , -0.07407196,  0.03830449,\n",
       "        0.03576017, -0.00401084, -0.03405095,  0.02992259, -0.02888856,\n",
       "        0.09483876,  0.00871285,  0.04201527, -0.08019906,  0.04521292,\n",
       "       -0.0582152 ,  0.04200556,  0.06064846, -0.01114102,  0.06401515,\n",
       "        0.04101088,  0.03941386,  0.0107137 , -0.01495231,  0.00848806,\n",
       "       -0.04497302, -0.03338353, -0.08794623,  0.11489572, -0.01805023,\n",
       "        0.01004563, -0.00654735,  0.06830595,  0.0824239 ,  0.01424539,\n",
       "        0.12724578,  0.05279131,  0.02893477,  0.01602586,  0.07086535,\n",
       "        0.0613466 ,  0.03950715, -0.07394888, -0.00094471, -0.00846521],\n",
       "      dtype=float32)"
      ]
     },
     "execution_count": 127,
     "metadata": {},
     "output_type": "execute_result"
    }
   ],
   "source": [
    "word_vectors = [[model_w2v.wv.get_vector(word) for word in sentence] for sentence in test_pad]\n",
    "model_w2v.wv.get_vector('갔다오면')"
   ]
  },
  {
   "cell_type": "code",
   "execution_count": 128,
   "metadata": {},
   "outputs": [
    {
     "name": "stderr",
     "output_type": "stream",
     "text": [
      "2023-07-08 03:18:40.368365: I tensorflow/core/common_runtime/executor.cc:1197] [/device:CPU:0] (DEBUG INFO) Executor start aborting (this does not indicate an error and you can ignore this message): INVALID_ARGUMENT: You must feed a value for placeholder tensor 'gradients/split_2_grad/concat/split_2/split_dim' with dtype int32\n",
      "\t [[{{node gradients/split_2_grad/concat/split_2/split_dim}}]]\n",
      "2023-07-08 03:18:40.369337: I tensorflow/core/common_runtime/executor.cc:1197] [/device:CPU:0] (DEBUG INFO) Executor start aborting (this does not indicate an error and you can ignore this message): INVALID_ARGUMENT: You must feed a value for placeholder tensor 'gradients/split_grad/concat/split/split_dim' with dtype int32\n",
      "\t [[{{node gradients/split_grad/concat/split/split_dim}}]]\n",
      "2023-07-08 03:18:40.370082: I tensorflow/core/common_runtime/executor.cc:1197] [/device:CPU:0] (DEBUG INFO) Executor start aborting (this does not indicate an error and you can ignore this message): INVALID_ARGUMENT: You must feed a value for placeholder tensor 'gradients/split_1_grad/concat/split_1/split_dim' with dtype int32\n",
      "\t [[{{node gradients/split_1_grad/concat/split_1/split_dim}}]]\n",
      "2023-07-08 03:18:40.504079: I tensorflow/core/common_runtime/executor.cc:1197] [/device:CPU:0] (DEBUG INFO) Executor start aborting (this does not indicate an error and you can ignore this message): INVALID_ARGUMENT: You must feed a value for placeholder tensor 'gradients/split_2_grad/concat/split_2/split_dim' with dtype int32\n",
      "\t [[{{node gradients/split_2_grad/concat/split_2/split_dim}}]]\n",
      "2023-07-08 03:18:40.504822: I tensorflow/core/common_runtime/executor.cc:1197] [/device:CPU:0] (DEBUG INFO) Executor start aborting (this does not indicate an error and you can ignore this message): INVALID_ARGUMENT: You must feed a value for placeholder tensor 'gradients/split_grad/concat/split/split_dim' with dtype int32\n",
      "\t [[{{node gradients/split_grad/concat/split/split_dim}}]]\n",
      "2023-07-08 03:18:40.505548: I tensorflow/core/common_runtime/executor.cc:1197] [/device:CPU:0] (DEBUG INFO) Executor start aborting (this does not indicate an error and you can ignore this message): INVALID_ARGUMENT: You must feed a value for placeholder tensor 'gradients/split_1_grad/concat/split_1/split_dim' with dtype int32\n",
      "\t [[{{node gradients/split_1_grad/concat/split_1/split_dim}}]]\n"
     ]
    },
    {
     "name": "stdout",
     "output_type": "stream",
     "text": [
      "1/1 [==============================] - 0s 377ms/step\n"
     ]
    }
   ],
   "source": [
    "# 예측 수행\n",
    "#predictions = model.predict(test_pad)\n",
    "#hjnam\n",
    "word_vectors = np.array(word_vectors)\n",
    "predictions = model.predict(word_vectors)\n"
   ]
  },
  {
   "cell_type": "code",
   "execution_count": 129,
   "metadata": {
    "ExecuteTime": {
     "end_time": "2023-07-07T06:05:04.114044800Z",
     "start_time": "2023-07-07T06:05:04.082441600Z"
    }
   },
   "outputs": [],
   "source": [
    "predicted_classes = np.argmax(predictions, axis=1)"
   ]
  },
  {
   "cell_type": "code",
   "execution_count": 130,
   "metadata": {
    "ExecuteTime": {
     "end_time": "2023-07-07T06:05:04.114044800Z",
     "start_time": "2023-07-07T06:05:04.098414400Z"
    }
   },
   "outputs": [],
   "source": [
    "predicted_labels = encoder.inverse_transform(predicted_classes)"
   ]
  },
  {
   "cell_type": "code",
   "execution_count": 131,
   "metadata": {
    "ExecuteTime": {
     "end_time": "2023-07-07T06:05:04.129669200Z",
     "start_time": "2023-07-07T06:05:04.114044800Z"
    }
   },
   "outputs": [
    {
     "data": {
      "text/plain": [
       "array(['직장 내 괴롭힘 대화'], dtype=object)"
      ]
     },
     "execution_count": 131,
     "metadata": {},
     "output_type": "execute_result"
    }
   ],
   "source": [
    "predicted_labels"
   ]
  },
  {
   "cell_type": "code",
   "execution_count": 132,
   "metadata": {
    "ExecuteTime": {
     "end_time": "2023-07-07T06:05:04.149995500Z",
     "start_time": "2023-07-07T06:05:04.129669200Z"
    }
   },
   "outputs": [],
   "source": [
    "def test_routine(model):\n",
    "    #predictions = model.predict(test_pad)\n",
    "    predictions = model.predict(word_vectors)  #hjnam\n",
    "    predicted_classes = np.argmax(predictions, axis=1)\n",
    "    predicted_labels = encoder.inverse_transform(predicted_classes)\n",
    "    print(predicted_labels)"
   ]
  },
  {
   "cell_type": "code",
   "execution_count": 133,
   "metadata": {
    "ExecuteTime": {
     "end_time": "2023-07-07T06:14:52.554678900Z",
     "start_time": "2023-07-07T06:14:52.537064300Z"
    }
   },
   "outputs": [],
   "source": [
    "def one_shot(get_model):\n",
    "    model, history = train(get_model)\n",
    "    visualization(history)\n",
    "    test_routine(model)"
   ]
  },
  {
   "cell_type": "code",
   "execution_count": null,
   "metadata": {
    "ExecuteTime": {
     "end_time": "2023-07-07T06:15:23.548269500Z",
     "start_time": "2023-07-07T06:14:55.328176200Z"
    },
    "scrolled": true
   },
   "outputs": [],
   "source": [
    "one_shot(get_cnn)"
   ]
  },
  {
   "cell_type": "code",
   "execution_count": null,
   "metadata": {
    "ExecuteTime": {
     "end_time": "2023-07-07T06:15:43.115745500Z",
     "start_time": "2023-07-07T06:15:23.548269500Z"
    },
    "scrolled": true
   },
   "outputs": [],
   "source": [
    "one_shot(get_mlp)"
   ]
  }
 ],
 "metadata": {
  "kernelspec": {
   "display_name": "Python 3 (ipykernel)",
   "language": "python",
   "name": "python3"
  },
  "language_info": {
   "codemirror_mode": {
    "name": "ipython",
    "version": 3
   },
   "file_extension": ".py",
   "mimetype": "text/x-python",
   "name": "python",
   "nbconvert_exporter": "python",
   "pygments_lexer": "ipython3",
   "version": "3.9.7"
  }
 },
 "nbformat": 4,
 "nbformat_minor": 1
}
