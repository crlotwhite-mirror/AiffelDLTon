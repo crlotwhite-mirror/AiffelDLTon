{
 "cells": [
  {
   "cell_type": "code",
   "execution_count": 1,
   "metadata": {
    "ExecuteTime": {
     "end_time": "2023-07-10T08:16:44.204318200Z",
     "start_time": "2023-07-10T08:16:39.239503Z"
    }
   },
   "outputs": [],
   "source": [
    "import pandas as pd\n",
    "import numpy as np\n",
    "from sklearn.model_selection import train_test_split\n",
    "from sklearn.preprocessing import LabelEncoder\n",
    "from konlpy.tag import Mecab,Okt\n",
    "from keras.preprocessing.text import Tokenizer\n",
    "from keras_preprocessing.sequence import pad_sequences\n",
    "from keras.models import Sequential\n",
    "from keras.layers import Dense, Embedding, Flatten, Conv1D, LSTM, Dropout, GlobalMaxPooling1D, GRU"
   ]
  },
  {
   "cell_type": "code",
   "execution_count": 2,
   "metadata": {},
   "outputs": [],
   "source": [
    "# 데이터 불러오기\n",
    "data = pd.read_csv('train.csv')\n",
    "\n",
    "# class 열을 숫자로 변환\n",
    "encoder = LabelEncoder()\n",
    "data['class'] = encoder.fit_transform(data['class'])"
   ]
  },
  {
   "cell_type": "code",
   "execution_count": 3,
   "metadata": {},
   "outputs": [],
   "source": [
    "mecab = Mecab()\n",
    "data['conversation'] = data['conversation'].apply(mecab.morphs)"
   ]
  },
  {
   "cell_type": "code",
   "execution_count": 4,
   "metadata": {},
   "outputs": [],
   "source": [
    "# 케라스를 이용한 정수 인코딩\n",
    "tokenizer = Tokenizer()\n",
    "tokenizer.fit_on_texts(data['conversation'])\n",
    "\n",
    "sequences = tokenizer.texts_to_sequences(data['conversation'])"
   ]
  },
  {
   "cell_type": "code",
   "execution_count": 5,
   "metadata": {},
   "outputs": [],
   "source": [
    "# 입력 데이터 패딩 처리\n",
    "data_pad = pad_sequences(sequences)"
   ]
  },
  {
   "cell_type": "code",
   "execution_count": 6,
   "metadata": {},
   "outputs": [],
   "source": [
    "# 데이터셋 분리\n",
    "X_train, X_val, y_train, y_val = train_test_split(data_pad, data['class'], test_size=0.1, random_state=42)"
   ]
  },
  {
   "cell_type": "code",
   "execution_count": 7,
   "metadata": {},
   "outputs": [],
   "source": [
    "def get_mlp():\n",
    "    # MLP 모델 생성\n",
    "    model = Sequential()\n",
    "    model.add(Embedding(len(tokenizer.word_index)+1, 128, input_length=data_pad.shape[1]))\n",
    "    model.add(Flatten())\n",
    "    model.add(Dense(64, activation='relu'))\n",
    "    model.add(Dense(len(data['class'].unique()), activation='softmax'))\n",
    "    return model"
   ]
  },
  {
   "cell_type": "code",
   "execution_count": 8,
   "metadata": {},
   "outputs": [],
   "source": [
    "def get_cnn():\n",
    "    # CNN 모델 생성\n",
    "    model = Sequential()\n",
    "    model.add(Embedding(len(tokenizer.word_index)+1, 128, input_length=data_pad.shape[1]))\n",
    "    model.add(Conv1D(128, 5, activation='relu'))\n",
    "    model.add(GlobalMaxPooling1D())\n",
    "    model.add(Dense(64, activation='relu'))\n",
    "    model.add(Dense(len(data['class'].unique()), activation='softmax'))\n",
    "\n",
    "    return model"
   ]
  },
  {
   "cell_type": "code",
   "execution_count": 9,
   "metadata": {},
   "outputs": [],
   "source": [
    "def get_lstm():\n",
    "    # LSTM 모델 생성\n",
    "    model = Sequential()\n",
    "    model.add(Embedding(len(tokenizer.word_index)+1, 128, input_length=data_pad.shape[1]))\n",
    "    model.add(LSTM(64))\n",
    "    model.add(Dense(64, activation='relu'))\n",
    "    model.add(Dropout(0.3))\n",
    "    model.add(Dense(len(data['class'].unique()), activation='softmax'))\n",
    "\n",
    "    return model"
   ]
  },
  {
   "cell_type": "code",
   "execution_count": 10,
   "metadata": {},
   "outputs": [],
   "source": [
    "def get_gru():\n",
    "    model = Sequential()\n",
    "    model.add(Embedding(len(tokenizer.word_index)+1, 128, input_length=data_pad.shape[1]))\n",
    "    model.add(GRU(64))\n",
    "    model.add(Dense(64, activation='relu'))\n",
    "    model.add(Dropout(0.3))\n",
    "    model.add(Dense(len(data['class'].unique()), activation='softmax'))\n",
    "    return model"
   ]
  },
  {
   "cell_type": "code",
   "execution_count": 11,
   "metadata": {},
   "outputs": [
    {
     "name": "stdout",
     "output_type": "stream",
     "text": [
      "Model: \"sequential\"\n",
      "_________________________________________________________________\n",
      "Layer (type)                 Output Shape              Param #   \n",
      "=================================================================\n",
      "embedding (Embedding)        (None, 447, 128)          1674240   \n",
      "_________________________________________________________________\n",
      "gru (GRU)                    (None, 64)                37248     \n",
      "_________________________________________________________________\n",
      "dense (Dense)                (None, 64)                4160      \n",
      "_________________________________________________________________\n",
      "dropout (Dropout)            (None, 64)                0         \n",
      "_________________________________________________________________\n",
      "dense_1 (Dense)              (None, 4)                 260       \n",
      "=================================================================\n",
      "Total params: 1,715,908\n",
      "Trainable params: 1,715,908\n",
      "Non-trainable params: 0\n",
      "_________________________________________________________________\n"
     ]
    }
   ],
   "source": [
    "model = get_gru()\n",
    "model.summary()"
   ]
  },
  {
   "cell_type": "code",
   "execution_count": 12,
   "metadata": {},
   "outputs": [],
   "source": [
    "# 모델 컴파일\n",
    "model.compile(optimizer='adam', loss='sparse_categorical_crossentropy', metrics=['accuracy'])"
   ]
  },
  {
   "cell_type": "code",
   "execution_count": 13,
   "metadata": {},
   "outputs": [
    {
     "name": "stdout",
     "output_type": "stream",
     "text": [
      "Epoch 1/10\n",
      "95/95 [==============================] - 5s 20ms/step - loss: 1.2787 - accuracy: 0.4154 - val_loss: 0.9744 - val_accuracy: 0.5655\n",
      "Epoch 2/10\n",
      "95/95 [==============================] - 1s 15ms/step - loss: 0.7785 - accuracy: 0.6733 - val_loss: 0.6930 - val_accuracy: 0.7135\n",
      "Epoch 3/10\n",
      "95/95 [==============================] - 1s 15ms/step - loss: 0.4219 - accuracy: 0.8378 - val_loss: 0.7999 - val_accuracy: 0.7116\n",
      "Epoch 4/10\n",
      "95/95 [==============================] - 1s 15ms/step - loss: 0.2563 - accuracy: 0.9119 - val_loss: 0.6879 - val_accuracy: 0.7865\n",
      "Epoch 5/10\n",
      "95/95 [==============================] - 1s 15ms/step - loss: 0.1341 - accuracy: 0.9540 - val_loss: 0.8286 - val_accuracy: 0.7678\n",
      "Epoch 6/10\n",
      "95/95 [==============================] - 1s 15ms/step - loss: 0.0701 - accuracy: 0.9768 - val_loss: 0.8902 - val_accuracy: 0.7772\n",
      "Epoch 7/10\n",
      "95/95 [==============================] - 1s 15ms/step - loss: 0.0416 - accuracy: 0.9861 - val_loss: 0.8520 - val_accuracy: 0.7846\n",
      "Epoch 8/10\n",
      "95/95 [==============================] - 1s 15ms/step - loss: 0.0171 - accuracy: 0.9960 - val_loss: 0.9394 - val_accuracy: 0.7921\n",
      "Epoch 9/10\n",
      "95/95 [==============================] - 1s 15ms/step - loss: 0.0161 - accuracy: 0.9957 - val_loss: 1.1117 - val_accuracy: 0.7828\n",
      "Epoch 10/10\n",
      "95/95 [==============================] - 1s 15ms/step - loss: 0.0085 - accuracy: 0.9990 - val_loss: 1.1561 - val_accuracy: 0.8052\n",
      "\n",
      "\n",
      "End of train at: 0:00:17.850524\n"
     ]
    }
   ],
   "source": [
    "from datetime import datetime\n",
    "\n",
    "start = datetime.now()\n",
    "# 모델 학습\n",
    "history = model.fit(X_train, y_train, validation_split=0.15, epochs=10)\n",
    "\n",
    "print(f'\\n\\nEnd of train at: {datetime.now()-start}')"
   ]
  },
  {
   "cell_type": "code",
   "execution_count": 14,
   "metadata": {},
   "outputs": [
    {
     "name": "stdout",
     "output_type": "stream",
     "text": [
      "13/13 [==============================] - 0s 7ms/step - loss: 1.1251 - accuracy: 0.8076\n",
      "[1.1251415014266968, 0.8075949549674988]\n"
     ]
    }
   ],
   "source": [
    "print(model.evaluate(X_val, y_val))"
   ]
  },
  {
   "cell_type": "code",
   "execution_count": null,
   "metadata": {},
   "outputs": [],
   "source": []
  }
 ],
 "metadata": {
  "kernelspec": {
   "display_name": "Python 3 (ipykernel)",
   "language": "python",
   "name": "python3"
  },
  "language_info": {
   "codemirror_mode": {
    "name": "ipython",
    "version": 3
   },
   "file_extension": ".py",
   "mimetype": "text/x-python",
   "name": "python",
   "nbconvert_exporter": "python",
   "pygments_lexer": "ipython3",
   "version": "3.9.7"
  }
 },
 "nbformat": 4,
 "nbformat_minor": 1
}
